{
 "cells": [
  {
   "cell_type": "code",
   "execution_count": 1,
   "metadata": {},
   "outputs": [],
   "source": [
    "import numpy as np\n",
    "import pandas as pd\n",
    "import matplotlib.pyplot as plt\n",
    "import seaborn as sns"
   ]
  },
  {
   "cell_type": "code",
   "execution_count": 2,
   "metadata": {},
   "outputs": [],
   "source": [
    "df = pd.read_excel('C:/Users/satsin/Desktop/Battery life/Cycle_batch1.xlsx',sheet_name ='Sheet_b1c0',index_col=0)"
   ]
  },
  {
   "cell_type": "code",
   "execution_count": 3,
   "metadata": {},
   "outputs": [
    {
     "data": {
      "text/html": [
       "<div>\n",
       "<style scoped>\n",
       "    .dataframe tbody tr th:only-of-type {\n",
       "        vertical-align: middle;\n",
       "    }\n",
       "\n",
       "    .dataframe tbody tr th {\n",
       "        vertical-align: top;\n",
       "    }\n",
       "\n",
       "    .dataframe thead th {\n",
       "        text-align: right;\n",
       "    }\n",
       "</style>\n",
       "<table border=\"1\" class=\"dataframe\">\n",
       "  <thead>\n",
       "    <tr style=\"text-align: right;\">\n",
       "      <th></th>\n",
       "      <th>Unnamed: 1</th>\n",
       "      <th>I</th>\n",
       "      <th>Qc</th>\n",
       "      <th>Qd</th>\n",
       "      <th>Qdlin</th>\n",
       "      <th>T</th>\n",
       "      <th>Tdlin</th>\n",
       "      <th>V</th>\n",
       "      <th>dQdV</th>\n",
       "      <th>t</th>\n",
       "    </tr>\n",
       "  </thead>\n",
       "  <tbody>\n",
       "    <tr>\n",
       "      <th>b1c0</th>\n",
       "      <td>0</td>\n",
       "      <td>[0 0]</td>\n",
       "      <td>[0 0]</td>\n",
       "      <td>[0 0]</td>\n",
       "      <td>[0 0]</td>\n",
       "      <td>[0 0]</td>\n",
       "      <td>[0 0]</td>\n",
       "      <td>[0 0]</td>\n",
       "      <td>[0 0]</td>\n",
       "      <td>[0 0]</td>\n",
       "    </tr>\n",
       "    <tr>\n",
       "      <th>NaN</th>\n",
       "      <td>1</td>\n",
       "      <td>[ 0.          0.21590753  0.35983085 ... -0.03...</td>\n",
       "      <td>[0.0000000e+00 1.0935055e-06 1.0935055e-06 ......</td>\n",
       "      <td>[0.        0.        0.        ... 1.0706892 1...</td>\n",
       "      <td>[-3.57431692e-04 -3.18524587e-04 -2.81852414e-...</td>\n",
       "      <td>[31.632496 31.632496 31.632496 ... 31.712118 3...</td>\n",
       "      <td>[29.58588212 29.58588989 29.58589615 29.585901...</td>\n",
       "      <td>[2.0264158 2.0393877 2.0516596 ... 2.0124063 2...</td>\n",
       "      <td>[-1.26901199e-02 -1.26901199e-02 -1.26901199e-...</td>\n",
       "      <td>[0.00000000e+00 2.41666667e-03 2.91166667e-03 ...</td>\n",
       "    </tr>\n",
       "    <tr>\n",
       "      <th>NaN</th>\n",
       "      <td>2</td>\n",
       "      <td>[ 0.          0.21598469  0.39595431 ... -0.03...</td>\n",
       "      <td>[0.0000000e+00 2.1892861e-06 2.1892861e-06 ......</td>\n",
       "      <td>[0.        0.        0.        ... 1.0719005 1...</td>\n",
       "      <td>[-3.79808505e-04 -3.49296036e-04 -3.18739607e-...</td>\n",
       "      <td>[31.712118 31.642683 31.642683 ... 31.620401 3...</td>\n",
       "      <td>[29.64599572 29.64599634 29.64599685 29.645997...</td>\n",
       "      <td>[2.0264654 2.0391855 2.0548534 ... 2.0123386 2...</td>\n",
       "      <td>[ 0.00000000e+00  0.00000000e+00  0.00000000e+...</td>\n",
       "      <td>[0.00000000e+00 2.48666667e-03 2.99000000e-03 ...</td>\n",
       "    </tr>\n",
       "    <tr>\n",
       "      <th>NaN</th>\n",
       "      <td>3</td>\n",
       "      <td>[ 0.          0.21577748  0.36011869 ... -0.03...</td>\n",
       "      <td>[0.0000000e+00 3.5126993e-10 3.5126993e-10 ......</td>\n",
       "      <td>[0.        0.        0.        ... 1.0725095 1...</td>\n",
       "      <td>[-3.46640510e-04 -3.07657161e-04 -2.70960530e-...</td>\n",
       "      <td>[31.620401 31.618505 31.618505 ... 31.814196 3...</td>\n",
       "      <td>[29.74420252 29.74420235 29.74420222 29.744202...</td>\n",
       "      <td>[2.0254135 2.0385513 2.0506926 ... 2.0120773 2...</td>\n",
       "      <td>[-5.11173807e-03 -3.94804070e-03 -2.78434332e-...</td>\n",
       "      <td>[0.00000000e+00 2.54166667e-03 3.00000000e-03 ...</td>\n",
       "    </tr>\n",
       "    <tr>\n",
       "      <th>NaN</th>\n",
       "      <td>4</td>\n",
       "      <td>[ 0.          0.21607139  0.39601153 ... -0.02...</td>\n",
       "      <td>[0.0000000e+00 1.4893225e-06 1.4893225e-06 ......</td>\n",
       "      <td>[0.       0.       0.       ... 1.073174 1.073...</td>\n",
       "      <td>[-3.71023556e-04 -3.29214161e-04 -2.90062719e-...</td>\n",
       "      <td>[31.814196 31.814196 31.814196 ... 31.717243 3...</td>\n",
       "      <td>[29.62122542 29.62840559 29.63418973 29.638709...</td>\n",
       "      <td>[2.0245466 2.0373793 2.0533218 ... 2.012434  2...</td>\n",
       "      <td>[ 0.00000000e+00  0.00000000e+00  0.00000000e+...</td>\n",
       "      <td>[0.00000000e+00 2.48500000e-03 3.01833333e-03 ...</td>\n",
       "    </tr>\n",
       "  </tbody>\n",
       "</table>\n",
       "</div>"
      ],
      "text/plain": [
       "      Unnamed: 1                                                  I  \\\n",
       "b1c0           0                                              [0 0]   \n",
       "NaN            1  [ 0.          0.21590753  0.35983085 ... -0.03...   \n",
       "NaN            2  [ 0.          0.21598469  0.39595431 ... -0.03...   \n",
       "NaN            3  [ 0.          0.21577748  0.36011869 ... -0.03...   \n",
       "NaN            4  [ 0.          0.21607139  0.39601153 ... -0.02...   \n",
       "\n",
       "                                                     Qc  \\\n",
       "b1c0                                              [0 0]   \n",
       "NaN   [0.0000000e+00 1.0935055e-06 1.0935055e-06 ......   \n",
       "NaN   [0.0000000e+00 2.1892861e-06 2.1892861e-06 ......   \n",
       "NaN   [0.0000000e+00 3.5126993e-10 3.5126993e-10 ......   \n",
       "NaN   [0.0000000e+00 1.4893225e-06 1.4893225e-06 ......   \n",
       "\n",
       "                                                     Qd  \\\n",
       "b1c0                                              [0 0]   \n",
       "NaN   [0.        0.        0.        ... 1.0706892 1...   \n",
       "NaN   [0.        0.        0.        ... 1.0719005 1...   \n",
       "NaN   [0.        0.        0.        ... 1.0725095 1...   \n",
       "NaN   [0.       0.       0.       ... 1.073174 1.073...   \n",
       "\n",
       "                                                  Qdlin  \\\n",
       "b1c0                                              [0 0]   \n",
       "NaN   [-3.57431692e-04 -3.18524587e-04 -2.81852414e-...   \n",
       "NaN   [-3.79808505e-04 -3.49296036e-04 -3.18739607e-...   \n",
       "NaN   [-3.46640510e-04 -3.07657161e-04 -2.70960530e-...   \n",
       "NaN   [-3.71023556e-04 -3.29214161e-04 -2.90062719e-...   \n",
       "\n",
       "                                                      T  \\\n",
       "b1c0                                              [0 0]   \n",
       "NaN   [31.632496 31.632496 31.632496 ... 31.712118 3...   \n",
       "NaN   [31.712118 31.642683 31.642683 ... 31.620401 3...   \n",
       "NaN   [31.620401 31.618505 31.618505 ... 31.814196 3...   \n",
       "NaN   [31.814196 31.814196 31.814196 ... 31.717243 3...   \n",
       "\n",
       "                                                  Tdlin  \\\n",
       "b1c0                                              [0 0]   \n",
       "NaN   [29.58588212 29.58588989 29.58589615 29.585901...   \n",
       "NaN   [29.64599572 29.64599634 29.64599685 29.645997...   \n",
       "NaN   [29.74420252 29.74420235 29.74420222 29.744202...   \n",
       "NaN   [29.62122542 29.62840559 29.63418973 29.638709...   \n",
       "\n",
       "                                                      V  \\\n",
       "b1c0                                              [0 0]   \n",
       "NaN   [2.0264158 2.0393877 2.0516596 ... 2.0124063 2...   \n",
       "NaN   [2.0264654 2.0391855 2.0548534 ... 2.0123386 2...   \n",
       "NaN   [2.0254135 2.0385513 2.0506926 ... 2.0120773 2...   \n",
       "NaN   [2.0245466 2.0373793 2.0533218 ... 2.012434  2...   \n",
       "\n",
       "                                                   dQdV  \\\n",
       "b1c0                                              [0 0]   \n",
       "NaN   [-1.26901199e-02 -1.26901199e-02 -1.26901199e-...   \n",
       "NaN   [ 0.00000000e+00  0.00000000e+00  0.00000000e+...   \n",
       "NaN   [-5.11173807e-03 -3.94804070e-03 -2.78434332e-...   \n",
       "NaN   [ 0.00000000e+00  0.00000000e+00  0.00000000e+...   \n",
       "\n",
       "                                                      t  \n",
       "b1c0                                              [0 0]  \n",
       "NaN   [0.00000000e+00 2.41666667e-03 2.91166667e-03 ...  \n",
       "NaN   [0.00000000e+00 2.48666667e-03 2.99000000e-03 ...  \n",
       "NaN   [0.00000000e+00 2.54166667e-03 3.00000000e-03 ...  \n",
       "NaN   [0.00000000e+00 2.48500000e-03 3.01833333e-03 ...  "
      ]
     },
     "execution_count": 3,
     "metadata": {},
     "output_type": "execute_result"
    }
   ],
   "source": [
    "df.head()"
   ]
  },
  {
   "cell_type": "code",
   "execution_count": 4,
   "metadata": {},
   "outputs": [],
   "source": [
    "df.reset_index(inplace = True)"
   ]
  },
  {
   "cell_type": "code",
   "execution_count": 5,
   "metadata": {},
   "outputs": [],
   "source": [
    "df.drop(['Unnamed: 1','index'],axis = 1,inplace = True)"
   ]
  },
  {
   "cell_type": "code",
   "execution_count": 6,
   "metadata": {},
   "outputs": [
    {
     "data": {
      "text/html": [
       "<div>\n",
       "<style scoped>\n",
       "    .dataframe tbody tr th:only-of-type {\n",
       "        vertical-align: middle;\n",
       "    }\n",
       "\n",
       "    .dataframe tbody tr th {\n",
       "        vertical-align: top;\n",
       "    }\n",
       "\n",
       "    .dataframe thead th {\n",
       "        text-align: right;\n",
       "    }\n",
       "</style>\n",
       "<table border=\"1\" class=\"dataframe\">\n",
       "  <thead>\n",
       "    <tr style=\"text-align: right;\">\n",
       "      <th></th>\n",
       "      <th>I</th>\n",
       "      <th>Qc</th>\n",
       "      <th>Qd</th>\n",
       "      <th>Qdlin</th>\n",
       "      <th>T</th>\n",
       "      <th>Tdlin</th>\n",
       "      <th>V</th>\n",
       "      <th>dQdV</th>\n",
       "      <th>t</th>\n",
       "    </tr>\n",
       "  </thead>\n",
       "  <tbody>\n",
       "    <tr>\n",
       "      <th>0</th>\n",
       "      <td>[0 0]</td>\n",
       "      <td>[0 0]</td>\n",
       "      <td>[0 0]</td>\n",
       "      <td>[0 0]</td>\n",
       "      <td>[0 0]</td>\n",
       "      <td>[0 0]</td>\n",
       "      <td>[0 0]</td>\n",
       "      <td>[0 0]</td>\n",
       "      <td>[0 0]</td>\n",
       "    </tr>\n",
       "    <tr>\n",
       "      <th>1</th>\n",
       "      <td>[ 0.          0.21590753  0.35983085 ... -0.03...</td>\n",
       "      <td>[0.0000000e+00 1.0935055e-06 1.0935055e-06 ......</td>\n",
       "      <td>[0.        0.        0.        ... 1.0706892 1...</td>\n",
       "      <td>[-3.57431692e-04 -3.18524587e-04 -2.81852414e-...</td>\n",
       "      <td>[31.632496 31.632496 31.632496 ... 31.712118 3...</td>\n",
       "      <td>[29.58588212 29.58588989 29.58589615 29.585901...</td>\n",
       "      <td>[2.0264158 2.0393877 2.0516596 ... 2.0124063 2...</td>\n",
       "      <td>[-1.26901199e-02 -1.26901199e-02 -1.26901199e-...</td>\n",
       "      <td>[0.00000000e+00 2.41666667e-03 2.91166667e-03 ...</td>\n",
       "    </tr>\n",
       "    <tr>\n",
       "      <th>2</th>\n",
       "      <td>[ 0.          0.21598469  0.39595431 ... -0.03...</td>\n",
       "      <td>[0.0000000e+00 2.1892861e-06 2.1892861e-06 ......</td>\n",
       "      <td>[0.        0.        0.        ... 1.0719005 1...</td>\n",
       "      <td>[-3.79808505e-04 -3.49296036e-04 -3.18739607e-...</td>\n",
       "      <td>[31.712118 31.642683 31.642683 ... 31.620401 3...</td>\n",
       "      <td>[29.64599572 29.64599634 29.64599685 29.645997...</td>\n",
       "      <td>[2.0264654 2.0391855 2.0548534 ... 2.0123386 2...</td>\n",
       "      <td>[ 0.00000000e+00  0.00000000e+00  0.00000000e+...</td>\n",
       "      <td>[0.00000000e+00 2.48666667e-03 2.99000000e-03 ...</td>\n",
       "    </tr>\n",
       "    <tr>\n",
       "      <th>3</th>\n",
       "      <td>[ 0.          0.21577748  0.36011869 ... -0.03...</td>\n",
       "      <td>[0.0000000e+00 3.5126993e-10 3.5126993e-10 ......</td>\n",
       "      <td>[0.        0.        0.        ... 1.0725095 1...</td>\n",
       "      <td>[-3.46640510e-04 -3.07657161e-04 -2.70960530e-...</td>\n",
       "      <td>[31.620401 31.618505 31.618505 ... 31.814196 3...</td>\n",
       "      <td>[29.74420252 29.74420235 29.74420222 29.744202...</td>\n",
       "      <td>[2.0254135 2.0385513 2.0506926 ... 2.0120773 2...</td>\n",
       "      <td>[-5.11173807e-03 -3.94804070e-03 -2.78434332e-...</td>\n",
       "      <td>[0.00000000e+00 2.54166667e-03 3.00000000e-03 ...</td>\n",
       "    </tr>\n",
       "    <tr>\n",
       "      <th>4</th>\n",
       "      <td>[ 0.          0.21607139  0.39601153 ... -0.02...</td>\n",
       "      <td>[0.0000000e+00 1.4893225e-06 1.4893225e-06 ......</td>\n",
       "      <td>[0.       0.       0.       ... 1.073174 1.073...</td>\n",
       "      <td>[-3.71023556e-04 -3.29214161e-04 -2.90062719e-...</td>\n",
       "      <td>[31.814196 31.814196 31.814196 ... 31.717243 3...</td>\n",
       "      <td>[29.62122542 29.62840559 29.63418973 29.638709...</td>\n",
       "      <td>[2.0245466 2.0373793 2.0533218 ... 2.012434  2...</td>\n",
       "      <td>[ 0.00000000e+00  0.00000000e+00  0.00000000e+...</td>\n",
       "      <td>[0.00000000e+00 2.48500000e-03 3.01833333e-03 ...</td>\n",
       "    </tr>\n",
       "  </tbody>\n",
       "</table>\n",
       "</div>"
      ],
      "text/plain": [
       "                                                   I  \\\n",
       "0                                              [0 0]   \n",
       "1  [ 0.          0.21590753  0.35983085 ... -0.03...   \n",
       "2  [ 0.          0.21598469  0.39595431 ... -0.03...   \n",
       "3  [ 0.          0.21577748  0.36011869 ... -0.03...   \n",
       "4  [ 0.          0.21607139  0.39601153 ... -0.02...   \n",
       "\n",
       "                                                  Qc  \\\n",
       "0                                              [0 0]   \n",
       "1  [0.0000000e+00 1.0935055e-06 1.0935055e-06 ......   \n",
       "2  [0.0000000e+00 2.1892861e-06 2.1892861e-06 ......   \n",
       "3  [0.0000000e+00 3.5126993e-10 3.5126993e-10 ......   \n",
       "4  [0.0000000e+00 1.4893225e-06 1.4893225e-06 ......   \n",
       "\n",
       "                                                  Qd  \\\n",
       "0                                              [0 0]   \n",
       "1  [0.        0.        0.        ... 1.0706892 1...   \n",
       "2  [0.        0.        0.        ... 1.0719005 1...   \n",
       "3  [0.        0.        0.        ... 1.0725095 1...   \n",
       "4  [0.       0.       0.       ... 1.073174 1.073...   \n",
       "\n",
       "                                               Qdlin  \\\n",
       "0                                              [0 0]   \n",
       "1  [-3.57431692e-04 -3.18524587e-04 -2.81852414e-...   \n",
       "2  [-3.79808505e-04 -3.49296036e-04 -3.18739607e-...   \n",
       "3  [-3.46640510e-04 -3.07657161e-04 -2.70960530e-...   \n",
       "4  [-3.71023556e-04 -3.29214161e-04 -2.90062719e-...   \n",
       "\n",
       "                                                   T  \\\n",
       "0                                              [0 0]   \n",
       "1  [31.632496 31.632496 31.632496 ... 31.712118 3...   \n",
       "2  [31.712118 31.642683 31.642683 ... 31.620401 3...   \n",
       "3  [31.620401 31.618505 31.618505 ... 31.814196 3...   \n",
       "4  [31.814196 31.814196 31.814196 ... 31.717243 3...   \n",
       "\n",
       "                                               Tdlin  \\\n",
       "0                                              [0 0]   \n",
       "1  [29.58588212 29.58588989 29.58589615 29.585901...   \n",
       "2  [29.64599572 29.64599634 29.64599685 29.645997...   \n",
       "3  [29.74420252 29.74420235 29.74420222 29.744202...   \n",
       "4  [29.62122542 29.62840559 29.63418973 29.638709...   \n",
       "\n",
       "                                                   V  \\\n",
       "0                                              [0 0]   \n",
       "1  [2.0264158 2.0393877 2.0516596 ... 2.0124063 2...   \n",
       "2  [2.0264654 2.0391855 2.0548534 ... 2.0123386 2...   \n",
       "3  [2.0254135 2.0385513 2.0506926 ... 2.0120773 2...   \n",
       "4  [2.0245466 2.0373793 2.0533218 ... 2.012434  2...   \n",
       "\n",
       "                                                dQdV  \\\n",
       "0                                              [0 0]   \n",
       "1  [-1.26901199e-02 -1.26901199e-02 -1.26901199e-...   \n",
       "2  [ 0.00000000e+00  0.00000000e+00  0.00000000e+...   \n",
       "3  [-5.11173807e-03 -3.94804070e-03 -2.78434332e-...   \n",
       "4  [ 0.00000000e+00  0.00000000e+00  0.00000000e+...   \n",
       "\n",
       "                                                   t  \n",
       "0                                              [0 0]  \n",
       "1  [0.00000000e+00 2.41666667e-03 2.91166667e-03 ...  \n",
       "2  [0.00000000e+00 2.48666667e-03 2.99000000e-03 ...  \n",
       "3  [0.00000000e+00 2.54166667e-03 3.00000000e-03 ...  \n",
       "4  [0.00000000e+00 2.48500000e-03 3.01833333e-03 ...  "
      ]
     },
     "execution_count": 6,
     "metadata": {},
     "output_type": "execute_result"
    }
   ],
   "source": [
    "df.head()"
   ]
  },
  {
   "cell_type": "code",
   "execution_count": 7,
   "metadata": {
    "scrolled": true
   },
   "outputs": [
    {
     "name": "stdout",
     "output_type": "stream",
     "text": [
      "<class 'pandas.core.frame.DataFrame'>\n",
      "RangeIndex: 1851 entries, 0 to 1850\n",
      "Data columns (total 9 columns):\n",
      " #   Column  Non-Null Count  Dtype \n",
      "---  ------  --------------  ----- \n",
      " 0   I       1851 non-null   object\n",
      " 1   Qc      1851 non-null   object\n",
      " 2   Qd      1851 non-null   object\n",
      " 3   Qdlin   1851 non-null   object\n",
      " 4   T       1851 non-null   object\n",
      " 5   Tdlin   1851 non-null   object\n",
      " 6   V       1851 non-null   object\n",
      " 7   dQdV    1851 non-null   object\n",
      " 8   t       1851 non-null   object\n",
      "dtypes: object(9)\n",
      "memory usage: 130.3+ KB\n"
     ]
    }
   ],
   "source": [
    "df.info()"
   ]
  },
  {
   "cell_type": "code",
   "execution_count": 20,
   "metadata": {},
   "outputs": [],
   "source": [
    "df1 = pd.DataFrame((i.split(\"\\n\") for i in df),columns =['Qc'],dtype =str)"
   ]
  },
  {
   "cell_type": "code",
   "execution_count": 21,
   "metadata": {},
   "outputs": [
    {
     "name": "stdout",
     "output_type": "stream",
     "text": [
      "<class 'pandas.core.frame.DataFrame'>\n",
      "RangeIndex: 9 entries, 0 to 8\n",
      "Data columns (total 1 columns):\n",
      " #   Column  Non-Null Count  Dtype \n",
      "---  ------  --------------  ----- \n",
      " 0   Qc      9 non-null      object\n",
      "dtypes: object(1)\n",
      "memory usage: 200.0+ bytes\n"
     ]
    }
   ],
   "source": [
    "df1.info()"
   ]
  },
  {
   "cell_type": "code",
   "execution_count": 19,
   "metadata": {},
   "outputs": [
    {
     "ename": "AttributeError",
     "evalue": "'int' object has no attribute 'split'",
     "output_type": "error",
     "traceback": [
      "\u001b[1;31m---------------------------------------------------------------------------\u001b[0m",
      "\u001b[1;31mAttributeError\u001b[0m                            Traceback (most recent call last)",
      "\u001b[1;32m<ipython-input-19-31c873696030>\u001b[0m in \u001b[0;36m<module>\u001b[1;34m\u001b[0m\n\u001b[1;32m----> 1\u001b[1;33m \u001b[0mdf2\u001b[0m \u001b[1;33m=\u001b[0m\u001b[0mpd\u001b[0m\u001b[1;33m.\u001b[0m\u001b[0mDataFrame\u001b[0m\u001b[1;33m(\u001b[0m\u001b[1;33m(\u001b[0m\u001b[0mi\u001b[0m\u001b[1;33m.\u001b[0m\u001b[0msplit\u001b[0m\u001b[1;33m(\u001b[0m\u001b[1;34m\"\\n\"\u001b[0m\u001b[1;33m)\u001b[0m \u001b[1;32mfor\u001b[0m \u001b[0mi\u001b[0m \u001b[1;32min\u001b[0m \u001b[0mdf1\u001b[0m\u001b[1;33m)\u001b[0m\u001b[1;33m,\u001b[0m\u001b[0mcolumns\u001b[0m \u001b[1;33m=\u001b[0m\u001b[1;33m[\u001b[0m\u001b[1;34m'0'\u001b[0m\u001b[1;33m]\u001b[0m\u001b[1;33m,\u001b[0m\u001b[0mdtype\u001b[0m \u001b[1;33m=\u001b[0m\u001b[0mstr\u001b[0m\u001b[1;33m)\u001b[0m\u001b[1;33m\u001b[0m\u001b[1;33m\u001b[0m\u001b[0m\n\u001b[0m",
      "\u001b[1;32mC:\\Program Files\\Anaconda3\\lib\\site-packages\\pandas\\core\\frame.py\u001b[0m in \u001b[0;36m__init__\u001b[1;34m(self, data, index, columns, dtype, copy)\u001b[0m\n\u001b[0;32m    467\u001b[0m         \u001b[1;32melif\u001b[0m \u001b[0misinstance\u001b[0m\u001b[1;33m(\u001b[0m\u001b[0mdata\u001b[0m\u001b[1;33m,\u001b[0m \u001b[0mabc\u001b[0m\u001b[1;33m.\u001b[0m\u001b[0mIterable\u001b[0m\u001b[1;33m)\u001b[0m \u001b[1;32mand\u001b[0m \u001b[1;32mnot\u001b[0m \u001b[0misinstance\u001b[0m\u001b[1;33m(\u001b[0m\u001b[0mdata\u001b[0m\u001b[1;33m,\u001b[0m \u001b[1;33m(\u001b[0m\u001b[0mstr\u001b[0m\u001b[1;33m,\u001b[0m \u001b[0mbytes\u001b[0m\u001b[1;33m)\u001b[0m\u001b[1;33m)\u001b[0m\u001b[1;33m:\u001b[0m\u001b[1;33m\u001b[0m\u001b[1;33m\u001b[0m\u001b[0m\n\u001b[0;32m    468\u001b[0m             \u001b[1;32mif\u001b[0m \u001b[1;32mnot\u001b[0m \u001b[0misinstance\u001b[0m\u001b[1;33m(\u001b[0m\u001b[0mdata\u001b[0m\u001b[1;33m,\u001b[0m \u001b[1;33m(\u001b[0m\u001b[0mabc\u001b[0m\u001b[1;33m.\u001b[0m\u001b[0mSequence\u001b[0m\u001b[1;33m,\u001b[0m \u001b[0mExtensionArray\u001b[0m\u001b[1;33m)\u001b[0m\u001b[1;33m)\u001b[0m\u001b[1;33m:\u001b[0m\u001b[1;33m\u001b[0m\u001b[1;33m\u001b[0m\u001b[0m\n\u001b[1;32m--> 469\u001b[1;33m                 \u001b[0mdata\u001b[0m \u001b[1;33m=\u001b[0m \u001b[0mlist\u001b[0m\u001b[1;33m(\u001b[0m\u001b[0mdata\u001b[0m\u001b[1;33m)\u001b[0m\u001b[1;33m\u001b[0m\u001b[1;33m\u001b[0m\u001b[0m\n\u001b[0m\u001b[0;32m    470\u001b[0m             \u001b[1;32mif\u001b[0m \u001b[0mlen\u001b[0m\u001b[1;33m(\u001b[0m\u001b[0mdata\u001b[0m\u001b[1;33m)\u001b[0m \u001b[1;33m>\u001b[0m \u001b[1;36m0\u001b[0m\u001b[1;33m:\u001b[0m\u001b[1;33m\u001b[0m\u001b[1;33m\u001b[0m\u001b[0m\n\u001b[0;32m    471\u001b[0m                 \u001b[1;32mif\u001b[0m \u001b[0mis_list_like\u001b[0m\u001b[1;33m(\u001b[0m\u001b[0mdata\u001b[0m\u001b[1;33m[\u001b[0m\u001b[1;36m0\u001b[0m\u001b[1;33m]\u001b[0m\u001b[1;33m)\u001b[0m \u001b[1;32mand\u001b[0m \u001b[0mgetattr\u001b[0m\u001b[1;33m(\u001b[0m\u001b[0mdata\u001b[0m\u001b[1;33m[\u001b[0m\u001b[1;36m0\u001b[0m\u001b[1;33m]\u001b[0m\u001b[1;33m,\u001b[0m \u001b[1;34m\"ndim\"\u001b[0m\u001b[1;33m,\u001b[0m \u001b[1;36m1\u001b[0m\u001b[1;33m)\u001b[0m \u001b[1;33m==\u001b[0m \u001b[1;36m1\u001b[0m\u001b[1;33m:\u001b[0m\u001b[1;33m\u001b[0m\u001b[1;33m\u001b[0m\u001b[0m\n",
      "\u001b[1;32m<ipython-input-19-31c873696030>\u001b[0m in \u001b[0;36m<genexpr>\u001b[1;34m(.0)\u001b[0m\n\u001b[1;32m----> 1\u001b[1;33m \u001b[0mdf2\u001b[0m \u001b[1;33m=\u001b[0m\u001b[0mpd\u001b[0m\u001b[1;33m.\u001b[0m\u001b[0mDataFrame\u001b[0m\u001b[1;33m(\u001b[0m\u001b[1;33m(\u001b[0m\u001b[0mi\u001b[0m\u001b[1;33m.\u001b[0m\u001b[0msplit\u001b[0m\u001b[1;33m(\u001b[0m\u001b[1;34m\"\\n\"\u001b[0m\u001b[1;33m)\u001b[0m \u001b[1;32mfor\u001b[0m \u001b[0mi\u001b[0m \u001b[1;32min\u001b[0m \u001b[0mdf1\u001b[0m\u001b[1;33m)\u001b[0m\u001b[1;33m,\u001b[0m\u001b[0mcolumns\u001b[0m \u001b[1;33m=\u001b[0m\u001b[1;33m[\u001b[0m\u001b[1;34m'0'\u001b[0m\u001b[1;33m]\u001b[0m\u001b[1;33m,\u001b[0m\u001b[0mdtype\u001b[0m \u001b[1;33m=\u001b[0m\u001b[0mstr\u001b[0m\u001b[1;33m)\u001b[0m\u001b[1;33m\u001b[0m\u001b[1;33m\u001b[0m\u001b[0m\n\u001b[0m",
      "\u001b[1;31mAttributeError\u001b[0m: 'int' object has no attribute 'split'"
     ]
    }
   ],
   "source": [
    "df2 =pd.DataFrame((i.split(\"\\n\") for i in df1),columns =['0'],dtype =str)"
   ]
  },
  {
   "cell_type": "code",
   "execution_count": 22,
   "metadata": {},
   "outputs": [
    {
     "data": {
      "text/html": [
       "<div>\n",
       "<style scoped>\n",
       "    .dataframe tbody tr th:only-of-type {\n",
       "        vertical-align: middle;\n",
       "    }\n",
       "\n",
       "    .dataframe tbody tr th {\n",
       "        vertical-align: top;\n",
       "    }\n",
       "\n",
       "    .dataframe thead th {\n",
       "        text-align: right;\n",
       "    }\n",
       "</style>\n",
       "<table border=\"1\" class=\"dataframe\">\n",
       "  <thead>\n",
       "    <tr style=\"text-align: right;\">\n",
       "      <th></th>\n",
       "      <th>Qc</th>\n",
       "    </tr>\n",
       "  </thead>\n",
       "  <tbody>\n",
       "    <tr>\n",
       "      <th>0</th>\n",
       "      <td>I</td>\n",
       "    </tr>\n",
       "    <tr>\n",
       "      <th>1</th>\n",
       "      <td>Qc</td>\n",
       "    </tr>\n",
       "    <tr>\n",
       "      <th>2</th>\n",
       "      <td>Qd</td>\n",
       "    </tr>\n",
       "    <tr>\n",
       "      <th>3</th>\n",
       "      <td>Qdlin</td>\n",
       "    </tr>\n",
       "    <tr>\n",
       "      <th>4</th>\n",
       "      <td>T</td>\n",
       "    </tr>\n",
       "  </tbody>\n",
       "</table>\n",
       "</div>"
      ],
      "text/plain": [
       "      Qc\n",
       "0      I\n",
       "1     Qc\n",
       "2     Qd\n",
       "3  Qdlin\n",
       "4      T"
      ]
     },
     "execution_count": 22,
     "metadata": {},
     "output_type": "execute_result"
    }
   ],
   "source": [
    "df1.head()"
   ]
  },
  {
   "cell_type": "code",
   "execution_count": 8,
   "metadata": {
    "scrolled": true
   },
   "outputs": [
    {
     "ename": "TypeError",
     "evalue": "unsupported operand type(s) for -: 'str' and 'str'",
     "output_type": "error",
     "traceback": [
      "\u001b[1;31m---------------------------------------------------------------------------\u001b[0m",
      "\u001b[1;31mTypeError\u001b[0m                                 Traceback (most recent call last)",
      "\u001b[1;32m<ipython-input-8-796836d27bb4>\u001b[0m in \u001b[0;36m<module>\u001b[1;34m\u001b[0m\n\u001b[1;32m----> 1\u001b[1;33m \u001b[0mI\u001b[0m \u001b[1;33m=\u001b[0m \u001b[0mnp\u001b[0m\u001b[1;33m.\u001b[0m\u001b[0mvar\u001b[0m\u001b[1;33m(\u001b[0m\u001b[0mdf\u001b[0m\u001b[1;33m[\u001b[0m\u001b[1;34m'Qdlin'\u001b[0m\u001b[1;33m]\u001b[0m\u001b[1;33m[\u001b[0m\u001b[1;36m20\u001b[0m\u001b[1;33m]\u001b[0m\u001b[1;33m-\u001b[0m\u001b[0mdf\u001b[0m\u001b[1;33m[\u001b[0m\u001b[1;34m'Qdlin'\u001b[0m\u001b[1;33m]\u001b[0m\u001b[1;33m[\u001b[0m\u001b[1;36m10\u001b[0m\u001b[1;33m]\u001b[0m\u001b[1;33m)\u001b[0m\u001b[1;33m\u001b[0m\u001b[1;33m\u001b[0m\u001b[0m\n\u001b[0m",
      "\u001b[1;31mTypeError\u001b[0m: unsupported operand type(s) for -: 'str' and 'str'"
     ]
    }
   ],
   "source": [
    "I = np.var(df['Qdlin'][20]-df['Qdlin'][10])"
   ]
  },
  {
   "cell_type": "code",
   "execution_count": 43,
   "metadata": {},
   "outputs": [
    {
     "data": {
      "text/plain": [
       "71"
      ]
     },
     "execution_count": 43,
     "metadata": {},
     "output_type": "execute_result"
    }
   ],
   "source": [
    "len(df['I'][10])"
   ]
  },
  {
   "cell_type": "code",
   "execution_count": 51,
   "metadata": {},
   "outputs": [],
   "source": [
    "a =df['I'][10]"
   ]
  },
  {
   "cell_type": "code",
   "execution_count": 47,
   "metadata": {},
   "outputs": [],
   "source": [
    "b = df['I'][20]"
   ]
  },
  {
   "cell_type": "code",
   "execution_count": 52,
   "metadata": {},
   "outputs": [
    {
     "ename": "TypeError",
     "evalue": "unsupported operand type(s) for -: 'str' and 'str'",
     "output_type": "error",
     "traceback": [
      "\u001b[1;31m---------------------------------------------------------------------------\u001b[0m",
      "\u001b[1;31mTypeError\u001b[0m                                 Traceback (most recent call last)",
      "\u001b[1;32m<ipython-input-52-7b22caf35886>\u001b[0m in \u001b[0;36m<module>\u001b[1;34m\u001b[0m\n\u001b[1;32m----> 1\u001b[1;33m \u001b[0mb\u001b[0m\u001b[1;33m-\u001b[0m\u001b[0ma\u001b[0m\u001b[1;33m\u001b[0m\u001b[1;33m\u001b[0m\u001b[0m\n\u001b[0m",
      "\u001b[1;31mTypeError\u001b[0m: unsupported operand type(s) for -: 'str' and 'str'"
     ]
    }
   ],
   "source": [
    "b-a"
   ]
  },
  {
   "cell_type": "code",
   "execution_count": null,
   "metadata": {},
   "outputs": [],
   "source": []
  },
  {
   "cell_type": "code",
   "execution_count": 41,
   "metadata": {},
   "outputs": [
    {
     "ename": "TypeError",
     "evalue": "unsupported operand type(s) for -: 'str' and 'str'",
     "output_type": "error",
     "traceback": [
      "\u001b[1;31m---------------------------------------------------------------------------\u001b[0m",
      "\u001b[1;31mTypeError\u001b[0m                                 Traceback (most recent call last)",
      "\u001b[1;32m<ipython-input-41-289aa71e50d8>\u001b[0m in \u001b[0;36m<module>\u001b[1;34m\u001b[0m\n\u001b[1;32m----> 1\u001b[1;33m \u001b[0mnp\u001b[0m\u001b[1;33m.\u001b[0m\u001b[0mvar\u001b[0m\u001b[1;33m(\u001b[0m\u001b[1;33m(\u001b[0m\u001b[0mdf\u001b[0m\u001b[1;33m[\u001b[0m\u001b[1;34m'I'\u001b[0m\u001b[1;33m]\u001b[0m\u001b[1;33m[\u001b[0m\u001b[1;36m10\u001b[0m\u001b[1;33m]\u001b[0m \u001b[1;33m-\u001b[0m\u001b[0mdf\u001b[0m\u001b[1;33m[\u001b[0m\u001b[1;34m'I'\u001b[0m\u001b[1;33m]\u001b[0m\u001b[1;33m[\u001b[0m\u001b[1;36m10\u001b[0m\u001b[1;33m]\u001b[0m\u001b[1;33m)\u001b[0m\u001b[1;33m)\u001b[0m\u001b[1;33m\u001b[0m\u001b[1;33m\u001b[0m\u001b[0m\n\u001b[0m",
      "\u001b[1;31mTypeError\u001b[0m: unsupported operand type(s) for -: 'str' and 'str'"
     ]
    }
   ],
   "source": [
    "np.var((df['I'][10] -df['I'][10]))"
   ]
  },
  {
   "cell_type": "code",
   "execution_count": 38,
   "metadata": {},
   "outputs": [
    {
     "data": {
      "text/plain": [
       "array(['[0.         0.15983061 0.24964939 ... 0.         0.         0.        ]'],\n",
       "      dtype='<U71')"
      ]
     },
     "execution_count": 38,
     "metadata": {},
     "output_type": "execute_result"
    }
   ],
   "source": []
  },
  {
   "cell_type": "code",
   "execution_count": 30,
   "metadata": {
    "scrolled": true
   },
   "outputs": [
    {
     "data": {
      "text/html": [
       "<div>\n",
       "<style scoped>\n",
       "    .dataframe tbody tr th:only-of-type {\n",
       "        vertical-align: middle;\n",
       "    }\n",
       "\n",
       "    .dataframe tbody tr th {\n",
       "        vertical-align: top;\n",
       "    }\n",
       "\n",
       "    .dataframe thead th {\n",
       "        text-align: right;\n",
       "    }\n",
       "</style>\n",
       "<table border=\"1\" class=\"dataframe\">\n",
       "  <thead>\n",
       "    <tr style=\"text-align: right;\">\n",
       "      <th></th>\n",
       "      <th>I</th>\n",
       "      <th>Qc</th>\n",
       "      <th>Qd</th>\n",
       "      <th>Qdlin</th>\n",
       "      <th>T</th>\n",
       "      <th>Tdlin</th>\n",
       "      <th>V</th>\n",
       "      <th>dQdV</th>\n",
       "      <th>t</th>\n",
       "    </tr>\n",
       "  </thead>\n",
       "  <tbody>\n",
       "    <tr>\n",
       "      <th>count</th>\n",
       "      <td>326</td>\n",
       "      <td>326</td>\n",
       "      <td>326</td>\n",
       "      <td>326</td>\n",
       "      <td>326</td>\n",
       "      <td>326</td>\n",
       "      <td>326</td>\n",
       "      <td>326</td>\n",
       "      <td>326</td>\n",
       "    </tr>\n",
       "    <tr>\n",
       "      <th>unique</th>\n",
       "      <td>326</td>\n",
       "      <td>326</td>\n",
       "      <td>326</td>\n",
       "      <td>326</td>\n",
       "      <td>326</td>\n",
       "      <td>326</td>\n",
       "      <td>326</td>\n",
       "      <td>326</td>\n",
       "      <td>326</td>\n",
       "    </tr>\n",
       "    <tr>\n",
       "      <th>top</th>\n",
       "      <td>[0.         0.18982194 0.3099823  ... 0.      ...</td>\n",
       "      <td>[0.0000000e+00 1.7629043e-06 1.7629043e-06 ......</td>\n",
       "      <td>[0.        0.        0.        ... 1.0322183 1...</td>\n",
       "      <td>[-3.80398549e-04 -3.49499024e-04 -3.18714658e-...</td>\n",
       "      <td>[30.333969 30.333969 30.333969 ... 28.119591 2...</td>\n",
       "      <td>[27.99976987 27.9997697  27.99976956 27.999769...</td>\n",
       "      <td>[2.3746333 2.3857455 2.396646  ... 2.3391137 2...</td>\n",
       "      <td>[-9.41896290e-05 -2.32276700e-04 -2.34327242e-...</td>\n",
       "      <td>[0.00000000e+00 3.81833333e-03 5.18500000e-03 ...</td>\n",
       "    </tr>\n",
       "    <tr>\n",
       "      <th>freq</th>\n",
       "      <td>1</td>\n",
       "      <td>1</td>\n",
       "      <td>1</td>\n",
       "      <td>1</td>\n",
       "      <td>1</td>\n",
       "      <td>1</td>\n",
       "      <td>1</td>\n",
       "      <td>1</td>\n",
       "      <td>1</td>\n",
       "    </tr>\n",
       "  </tbody>\n",
       "</table>\n",
       "</div>"
      ],
      "text/plain": [
       "                                                        I  \\\n",
       "count                                                 326   \n",
       "unique                                                326   \n",
       "top     [0.         0.18982194 0.3099823  ... 0.      ...   \n",
       "freq                                                    1   \n",
       "\n",
       "                                                       Qc  \\\n",
       "count                                                 326   \n",
       "unique                                                326   \n",
       "top     [0.0000000e+00 1.7629043e-06 1.7629043e-06 ......   \n",
       "freq                                                    1   \n",
       "\n",
       "                                                       Qd  \\\n",
       "count                                                 326   \n",
       "unique                                                326   \n",
       "top     [0.        0.        0.        ... 1.0322183 1...   \n",
       "freq                                                    1   \n",
       "\n",
       "                                                    Qdlin  \\\n",
       "count                                                 326   \n",
       "unique                                                326   \n",
       "top     [-3.80398549e-04 -3.49499024e-04 -3.18714658e-...   \n",
       "freq                                                    1   \n",
       "\n",
       "                                                        T  \\\n",
       "count                                                 326   \n",
       "unique                                                326   \n",
       "top     [30.333969 30.333969 30.333969 ... 28.119591 2...   \n",
       "freq                                                    1   \n",
       "\n",
       "                                                    Tdlin  \\\n",
       "count                                                 326   \n",
       "unique                                                326   \n",
       "top     [27.99976987 27.9997697  27.99976956 27.999769...   \n",
       "freq                                                    1   \n",
       "\n",
       "                                                        V  \\\n",
       "count                                                 326   \n",
       "unique                                                326   \n",
       "top     [2.3746333 2.3857455 2.396646  ... 2.3391137 2...   \n",
       "freq                                                    1   \n",
       "\n",
       "                                                     dQdV  \\\n",
       "count                                                 326   \n",
       "unique                                                326   \n",
       "top     [-9.41896290e-05 -2.32276700e-04 -2.34327242e-...   \n",
       "freq                                                    1   \n",
       "\n",
       "                                                        t  \n",
       "count                                                 326  \n",
       "unique                                                326  \n",
       "top     [0.00000000e+00 3.81833333e-03 5.18500000e-03 ...  \n",
       "freq                                                    1  "
      ]
     },
     "execution_count": 30,
     "metadata": {},
     "output_type": "execute_result"
    }
   ],
   "source": [
    "df.describe()"
   ]
  },
  {
   "cell_type": "code",
   "execution_count": 18,
   "metadata": {},
   "outputs": [
    {
     "ename": "TypeError",
     "evalue": "unsupported operand type(s) for -: 'str' and 'str'",
     "output_type": "error",
     "traceback": [
      "\u001b[1;31m---------------------------------------------------------------------------\u001b[0m",
      "\u001b[1;31mTypeError\u001b[0m                                 Traceback (most recent call last)",
      "\u001b[1;32m<ipython-input-18-bae5fb862b61>\u001b[0m in \u001b[0;36m<module>\u001b[1;34m\u001b[0m\n\u001b[1;32m----> 1\u001b[1;33m \u001b[0mI\u001b[0m \u001b[1;33m=\u001b[0m \u001b[0mnp\u001b[0m\u001b[1;33m.\u001b[0m\u001b[0mvar\u001b[0m\u001b[1;33m(\u001b[0m\u001b[0mdf\u001b[0m\u001b[1;33m[\u001b[0m\u001b[1;34m'I'\u001b[0m\u001b[1;33m]\u001b[0m\u001b[1;33m[\u001b[0m\u001b[1;36m20\u001b[0m\u001b[1;33m]\u001b[0m\u001b[1;33m-\u001b[0m\u001b[0mdf\u001b[0m\u001b[1;33m[\u001b[0m\u001b[1;34m'I'\u001b[0m\u001b[1;33m]\u001b[0m\u001b[1;33m[\u001b[0m\u001b[1;36m10\u001b[0m\u001b[1;33m]\u001b[0m\u001b[1;33m)\u001b[0m\u001b[1;33m\u001b[0m\u001b[1;33m\u001b[0m\u001b[0m\n\u001b[0m",
      "\u001b[1;31mTypeError\u001b[0m: unsupported operand type(s) for -: 'str' and 'str'"
     ]
    }
   ],
   "source": []
  },
  {
   "cell_type": "code",
   "execution_count": null,
   "metadata": {},
   "outputs": [],
   "source": []
  },
  {
   "cell_type": "code",
   "execution_count": 29,
   "metadata": {
    "scrolled": true
   },
   "outputs": [
    {
     "data": {
      "text/plain": [
       "Index(['I', 'Qc', 'Qd', 'Qdlin', 'T', 'Tdlin', 'V', 'dQdV', 't'], dtype='object')"
      ]
     },
     "execution_count": 29,
     "metadata": {},
     "output_type": "execute_result"
    }
   ],
   "source": [
    "df.keys()"
   ]
  },
  {
   "cell_type": "code",
   "execution_count": 31,
   "metadata": {},
   "outputs": [],
   "source": [
    "df1 = df.transpose"
   ]
  },
  {
   "cell_type": "code",
   "execution_count": 32,
   "metadata": {},
   "outputs": [
    {
     "ename": "AttributeError",
     "evalue": "'function' object has no attribute 'values'",
     "output_type": "error",
     "traceback": [
      "\u001b[1;31m---------------------------------------------------------------------------\u001b[0m",
      "\u001b[1;31mAttributeError\u001b[0m                            Traceback (most recent call last)",
      "\u001b[1;32m<ipython-input-32-e2cf5fa7f88e>\u001b[0m in \u001b[0;36m<module>\u001b[1;34m\u001b[0m\n\u001b[1;32m----> 1\u001b[1;33m \u001b[0mdf2\u001b[0m \u001b[1;33m=\u001b[0m \u001b[0mpd\u001b[0m\u001b[1;33m.\u001b[0m\u001b[0mDataFrame\u001b[0m\u001b[1;33m(\u001b[0m\u001b[0mdf1\u001b[0m\u001b[1;33m.\u001b[0m\u001b[0mvalues\u001b[0m\u001b[1;33m.\u001b[0m\u001b[0mtolist\u001b[0m\u001b[1;33m(\u001b[0m\u001b[1;33m)\u001b[0m\u001b[1;33m)\u001b[0m\u001b[1;33m\u001b[0m\u001b[1;33m\u001b[0m\u001b[0m\n\u001b[0m",
      "\u001b[1;31mAttributeError\u001b[0m: 'function' object has no attribute 'values'"
     ]
    }
   ],
   "source": [
    "df2 = pd.DataFrame(df1.values.tolist())"
   ]
  },
  {
   "cell_type": "code",
   "execution_count": 33,
   "metadata": {},
   "outputs": [
    {
     "ename": "AttributeError",
     "evalue": "'function' object has no attribute 'head'",
     "output_type": "error",
     "traceback": [
      "\u001b[1;31m---------------------------------------------------------------------------\u001b[0m",
      "\u001b[1;31mAttributeError\u001b[0m                            Traceback (most recent call last)",
      "\u001b[1;32m<ipython-input-33-eda2b5cc1a42>\u001b[0m in \u001b[0;36m<module>\u001b[1;34m\u001b[0m\n\u001b[1;32m----> 1\u001b[1;33m \u001b[0mdf1\u001b[0m\u001b[1;33m.\u001b[0m\u001b[0mhead\u001b[0m\u001b[1;33m(\u001b[0m\u001b[1;33m)\u001b[0m\u001b[1;33m\u001b[0m\u001b[1;33m\u001b[0m\u001b[0m\n\u001b[0m",
      "\u001b[1;31mAttributeError\u001b[0m: 'function' object has no attribute 'head'"
     ]
    }
   ],
   "source": [
    "df1.head()"
   ]
  },
  {
   "cell_type": "code",
   "execution_count": null,
   "metadata": {},
   "outputs": [],
   "source": []
  }
 ],
 "metadata": {
  "kernelspec": {
   "display_name": "Python 3",
   "language": "python",
   "name": "python3"
  },
  "language_info": {
   "codemirror_mode": {
    "name": "ipython",
    "version": 3
   },
   "file_extension": ".py",
   "mimetype": "text/x-python",
   "name": "python",
   "nbconvert_exporter": "python",
   "pygments_lexer": "ipython3",
   "version": "3.8.3"
  }
 },
 "nbformat": 4,
 "nbformat_minor": 4
}
