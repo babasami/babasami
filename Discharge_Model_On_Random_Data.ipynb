{
 "cells": [
  {
   "cell_type": "code",
   "execution_count": 1,
   "metadata": {},
   "outputs": [],
   "source": [
    "import pandas as pd\n",
    "import numpy as np\n",
    "import matplotlib.pyplot as plt\n",
    "import seaborn as sns"
   ]
  },
  {
   "cell_type": "code",
   "execution_count": 2,
   "metadata": {},
   "outputs": [],
   "source": [
    "df = pd.read_csv('C:/Users/satsin/Desktop/Battery life/Discharge_Model.csv')"
   ]
  },
  {
   "cell_type": "code",
   "execution_count": 3,
   "metadata": {
    "scrolled": true
   },
   "outputs": [
    {
     "data": {
      "text/html": [
       "<div>\n",
       "<style scoped>\n",
       "    .dataframe tbody tr th:only-of-type {\n",
       "        vertical-align: middle;\n",
       "    }\n",
       "\n",
       "    .dataframe tbody tr th {\n",
       "        vertical-align: top;\n",
       "    }\n",
       "\n",
       "    .dataframe thead th {\n",
       "        text-align: right;\n",
       "    }\n",
       "</style>\n",
       "<table border=\"1\" class=\"dataframe\">\n",
       "  <thead>\n",
       "    <tr style=\"text-align: right;\">\n",
       "      <th></th>\n",
       "      <th>Unnamed: 0</th>\n",
       "      <th>Variance(Qdlin)</th>\n",
       "      <th>Minimum(Qdlin)</th>\n",
       "      <th>Skewness(Qdlin)</th>\n",
       "      <th>Kurtosis(Qdlin)</th>\n",
       "      <th>cell_no</th>\n",
       "      <th>Qd_Cycle_2</th>\n",
       "      <th>Qd_max-2</th>\n",
       "      <th>Cycle_life</th>\n",
       "      <th>Log_Variance</th>\n",
       "      <th>Log_Mininum</th>\n",
       "      <th>Log_Skewness</th>\n",
       "      <th>Log_Kurtosis</th>\n",
       "    </tr>\n",
       "  </thead>\n",
       "  <tbody>\n",
       "    <tr>\n",
       "      <th>0</th>\n",
       "      <td>0</td>\n",
       "      <td>0.000010</td>\n",
       "      <td>-0.008460</td>\n",
       "      <td>-0.532058</td>\n",
       "      <td>-1.348312</td>\n",
       "      <td>b1c0</td>\n",
       "      <td>1.070689</td>\n",
       "      <td>0.468365</td>\n",
       "      <td>1852</td>\n",
       "      <td>-5.014861</td>\n",
       "      <td>-2.072648</td>\n",
       "      <td>-0.274041</td>\n",
       "      <td>0.129790</td>\n",
       "    </tr>\n",
       "    <tr>\n",
       "      <th>1</th>\n",
       "      <td>1</td>\n",
       "      <td>0.000010</td>\n",
       "      <td>-0.011004</td>\n",
       "      <td>-0.429375</td>\n",
       "      <td>-1.029116</td>\n",
       "      <td>b1c1</td>\n",
       "      <td>1.075301</td>\n",
       "      <td>0.009288</td>\n",
       "      <td>2160</td>\n",
       "      <td>-5.013960</td>\n",
       "      <td>-1.958457</td>\n",
       "      <td>-0.367163</td>\n",
       "      <td>0.012464</td>\n",
       "    </tr>\n",
       "    <tr>\n",
       "      <th>2</th>\n",
       "      <td>2</td>\n",
       "      <td>0.000018</td>\n",
       "      <td>-0.017216</td>\n",
       "      <td>-1.080194</td>\n",
       "      <td>0.348637</td>\n",
       "      <td>b1c2</td>\n",
       "      <td>1.079922</td>\n",
       "      <td>0.008131</td>\n",
       "      <td>2237</td>\n",
       "      <td>-4.737000</td>\n",
       "      <td>-1.764058</td>\n",
       "      <td>0.033502</td>\n",
       "      <td>-0.457627</td>\n",
       "    </tr>\n",
       "    <tr>\n",
       "      <th>3</th>\n",
       "      <td>3</td>\n",
       "      <td>0.000036</td>\n",
       "      <td>-0.018961</td>\n",
       "      <td>-0.439050</td>\n",
       "      <td>-1.095416</td>\n",
       "      <td>b1c3</td>\n",
       "      <td>1.079723</td>\n",
       "      <td>0.006530</td>\n",
       "      <td>1434</td>\n",
       "      <td>-4.442613</td>\n",
       "      <td>-1.722149</td>\n",
       "      <td>-0.357486</td>\n",
       "      <td>0.039579</td>\n",
       "    </tr>\n",
       "    <tr>\n",
       "      <th>4</th>\n",
       "      <td>4</td>\n",
       "      <td>0.000023</td>\n",
       "      <td>-0.013958</td>\n",
       "      <td>-0.362548</td>\n",
       "      <td>-1.333831</td>\n",
       "      <td>b1c4</td>\n",
       "      <td>1.078417</td>\n",
       "      <td>0.005900</td>\n",
       "      <td>1709</td>\n",
       "      <td>-4.647744</td>\n",
       "      <td>-1.855177</td>\n",
       "      <td>-0.440634</td>\n",
       "      <td>0.125101</td>\n",
       "    </tr>\n",
       "  </tbody>\n",
       "</table>\n",
       "</div>"
      ],
      "text/plain": [
       "   Unnamed: 0  Variance(Qdlin)  Minimum(Qdlin)  Skewness(Qdlin)  \\\n",
       "0           0         0.000010       -0.008460        -0.532058   \n",
       "1           1         0.000010       -0.011004        -0.429375   \n",
       "2           2         0.000018       -0.017216        -1.080194   \n",
       "3           3         0.000036       -0.018961        -0.439050   \n",
       "4           4         0.000023       -0.013958        -0.362548   \n",
       "\n",
       "   Kurtosis(Qdlin) cell_no  Qd_Cycle_2  Qd_max-2  Cycle_life  Log_Variance  \\\n",
       "0        -1.348312    b1c0    1.070689  0.468365        1852     -5.014861   \n",
       "1        -1.029116    b1c1    1.075301  0.009288        2160     -5.013960   \n",
       "2         0.348637    b1c2    1.079922  0.008131        2237     -4.737000   \n",
       "3        -1.095416    b1c3    1.079723  0.006530        1434     -4.442613   \n",
       "4        -1.333831    b1c4    1.078417  0.005900        1709     -4.647744   \n",
       "\n",
       "   Log_Mininum  Log_Skewness  Log_Kurtosis  \n",
       "0    -2.072648     -0.274041      0.129790  \n",
       "1    -1.958457     -0.367163      0.012464  \n",
       "2    -1.764058      0.033502     -0.457627  \n",
       "3    -1.722149     -0.357486      0.039579  \n",
       "4    -1.855177     -0.440634      0.125101  "
      ]
     },
     "execution_count": 3,
     "metadata": {},
     "output_type": "execute_result"
    }
   ],
   "source": [
    "df.head()"
   ]
  },
  {
   "cell_type": "code",
   "execution_count": 7,
   "metadata": {},
   "outputs": [],
   "source": [
    "df = df.sample(frac = 1)"
   ]
  },
  {
   "cell_type": "code",
   "execution_count": 8,
   "metadata": {},
   "outputs": [
    {
     "data": {
      "text/html": [
       "<div>\n",
       "<style scoped>\n",
       "    .dataframe tbody tr th:only-of-type {\n",
       "        vertical-align: middle;\n",
       "    }\n",
       "\n",
       "    .dataframe tbody tr th {\n",
       "        vertical-align: top;\n",
       "    }\n",
       "\n",
       "    .dataframe thead th {\n",
       "        text-align: right;\n",
       "    }\n",
       "</style>\n",
       "<table border=\"1\" class=\"dataframe\">\n",
       "  <thead>\n",
       "    <tr style=\"text-align: right;\">\n",
       "      <th></th>\n",
       "      <th>Unnamed: 0</th>\n",
       "      <th>Variance(Qdlin)</th>\n",
       "      <th>Minimum(Qdlin)</th>\n",
       "      <th>Skewness(Qdlin)</th>\n",
       "      <th>Kurtosis(Qdlin)</th>\n",
       "      <th>cell_no</th>\n",
       "      <th>Qd_Cycle_2</th>\n",
       "      <th>Qd_max-2</th>\n",
       "      <th>Cycle_life</th>\n",
       "      <th>Log_Variance</th>\n",
       "      <th>Log_Mininum</th>\n",
       "      <th>Log_Skewness</th>\n",
       "      <th>Log_Kurtosis</th>\n",
       "    </tr>\n",
       "  </thead>\n",
       "  <tbody>\n",
       "    <tr>\n",
       "      <th>90</th>\n",
       "      <td>90</td>\n",
       "      <td>0.000032</td>\n",
       "      <td>-0.017059</td>\n",
       "      <td>-0.340783</td>\n",
       "      <td>-1.200764</td>\n",
       "      <td>b3c7</td>\n",
       "      <td>1.067522</td>\n",
       "      <td>0.003397</td>\n",
       "      <td>1836</td>\n",
       "      <td>-4.488742</td>\n",
       "      <td>-1.768046</td>\n",
       "      <td>-0.467522</td>\n",
       "      <td>0.079458</td>\n",
       "    </tr>\n",
       "    <tr>\n",
       "      <th>23</th>\n",
       "      <td>23</td>\n",
       "      <td>0.000143</td>\n",
       "      <td>-0.037213</td>\n",
       "      <td>-0.142633</td>\n",
       "      <td>-1.238482</td>\n",
       "      <td>b1c28</td>\n",
       "      <td>1.077748</td>\n",
       "      <td>0.003847</td>\n",
       "      <td>860</td>\n",
       "      <td>-3.844712</td>\n",
       "      <td>-1.429300</td>\n",
       "      <td>-0.845780</td>\n",
       "      <td>0.092890</td>\n",
       "    </tr>\n",
       "    <tr>\n",
       "      <th>116</th>\n",
       "      <td>116</td>\n",
       "      <td>0.000058</td>\n",
       "      <td>-0.023028</td>\n",
       "      <td>-0.296336</td>\n",
       "      <td>-1.152819</td>\n",
       "      <td>b3c35</td>\n",
       "      <td>1.063380</td>\n",
       "      <td>0.002049</td>\n",
       "      <td>1093</td>\n",
       "      <td>-4.234858</td>\n",
       "      <td>-1.637742</td>\n",
       "      <td>-0.528215</td>\n",
       "      <td>0.061761</td>\n",
       "    </tr>\n",
       "    <tr>\n",
       "      <th>50</th>\n",
       "      <td>50</td>\n",
       "      <td>0.000479</td>\n",
       "      <td>-0.066446</td>\n",
       "      <td>0.351602</td>\n",
       "      <td>-1.084128</td>\n",
       "      <td>b2c12</td>\n",
       "      <td>1.071276</td>\n",
       "      <td>0.417843</td>\n",
       "      <td>458</td>\n",
       "      <td>-3.320110</td>\n",
       "      <td>-1.177533</td>\n",
       "      <td>-0.453949</td>\n",
       "      <td>0.035081</td>\n",
       "    </tr>\n",
       "    <tr>\n",
       "      <th>22</th>\n",
       "      <td>22</td>\n",
       "      <td>0.000140</td>\n",
       "      <td>-0.035832</td>\n",
       "      <td>-0.289519</td>\n",
       "      <td>-1.236825</td>\n",
       "      <td>b1c27</td>\n",
       "      <td>1.079046</td>\n",
       "      <td>0.003953</td>\n",
       "      <td>842</td>\n",
       "      <td>-3.853703</td>\n",
       "      <td>-1.445728</td>\n",
       "      <td>-0.538324</td>\n",
       "      <td>0.092308</td>\n",
       "    </tr>\n",
       "  </tbody>\n",
       "</table>\n",
       "</div>"
      ],
      "text/plain": [
       "     Unnamed: 0  Variance(Qdlin)  Minimum(Qdlin)  Skewness(Qdlin)  \\\n",
       "90           90         0.000032       -0.017059        -0.340783   \n",
       "23           23         0.000143       -0.037213        -0.142633   \n",
       "116         116         0.000058       -0.023028        -0.296336   \n",
       "50           50         0.000479       -0.066446         0.351602   \n",
       "22           22         0.000140       -0.035832        -0.289519   \n",
       "\n",
       "     Kurtosis(Qdlin) cell_no  Qd_Cycle_2  Qd_max-2  Cycle_life  Log_Variance  \\\n",
       "90         -1.200764    b3c7    1.067522  0.003397        1836     -4.488742   \n",
       "23         -1.238482   b1c28    1.077748  0.003847         860     -3.844712   \n",
       "116        -1.152819   b3c35    1.063380  0.002049        1093     -4.234858   \n",
       "50         -1.084128   b2c12    1.071276  0.417843         458     -3.320110   \n",
       "22         -1.236825   b1c27    1.079046  0.003953         842     -3.853703   \n",
       "\n",
       "     Log_Mininum  Log_Skewness  Log_Kurtosis  \n",
       "90     -1.768046     -0.467522      0.079458  \n",
       "23     -1.429300     -0.845780      0.092890  \n",
       "116    -1.637742     -0.528215      0.061761  \n",
       "50     -1.177533     -0.453949      0.035081  \n",
       "22     -1.445728     -0.538324      0.092308  "
      ]
     },
     "execution_count": 8,
     "metadata": {},
     "output_type": "execute_result"
    }
   ],
   "source": [
    "df.head()"
   ]
  },
  {
   "cell_type": "code",
   "execution_count": 9,
   "metadata": {},
   "outputs": [],
   "source": [
    "df_1 = df.drop(['cell_no','Variance(Qdlin)','Minimum(Qdlin)','Skewness(Qdlin)','Kurtosis(Qdlin)','Unnamed: 0'],axis =1)"
   ]
  },
  {
   "cell_type": "code",
   "execution_count": 10,
   "metadata": {},
   "outputs": [
    {
     "data": {
      "text/html": [
       "<div>\n",
       "<style scoped>\n",
       "    .dataframe tbody tr th:only-of-type {\n",
       "        vertical-align: middle;\n",
       "    }\n",
       "\n",
       "    .dataframe tbody tr th {\n",
       "        vertical-align: top;\n",
       "    }\n",
       "\n",
       "    .dataframe thead th {\n",
       "        text-align: right;\n",
       "    }\n",
       "</style>\n",
       "<table border=\"1\" class=\"dataframe\">\n",
       "  <thead>\n",
       "    <tr style=\"text-align: right;\">\n",
       "      <th></th>\n",
       "      <th>Qd_Cycle_2</th>\n",
       "      <th>Qd_max-2</th>\n",
       "      <th>Cycle_life</th>\n",
       "      <th>Log_Variance</th>\n",
       "      <th>Log_Mininum</th>\n",
       "      <th>Log_Skewness</th>\n",
       "      <th>Log_Kurtosis</th>\n",
       "    </tr>\n",
       "  </thead>\n",
       "  <tbody>\n",
       "    <tr>\n",
       "      <th>90</th>\n",
       "      <td>1.067522</td>\n",
       "      <td>0.003397</td>\n",
       "      <td>1836</td>\n",
       "      <td>-4.488742</td>\n",
       "      <td>-1.768046</td>\n",
       "      <td>-0.467522</td>\n",
       "      <td>0.079458</td>\n",
       "    </tr>\n",
       "    <tr>\n",
       "      <th>23</th>\n",
       "      <td>1.077748</td>\n",
       "      <td>0.003847</td>\n",
       "      <td>860</td>\n",
       "      <td>-3.844712</td>\n",
       "      <td>-1.429300</td>\n",
       "      <td>-0.845780</td>\n",
       "      <td>0.092890</td>\n",
       "    </tr>\n",
       "    <tr>\n",
       "      <th>116</th>\n",
       "      <td>1.063380</td>\n",
       "      <td>0.002049</td>\n",
       "      <td>1093</td>\n",
       "      <td>-4.234858</td>\n",
       "      <td>-1.637742</td>\n",
       "      <td>-0.528215</td>\n",
       "      <td>0.061761</td>\n",
       "    </tr>\n",
       "    <tr>\n",
       "      <th>50</th>\n",
       "      <td>1.071276</td>\n",
       "      <td>0.417843</td>\n",
       "      <td>458</td>\n",
       "      <td>-3.320110</td>\n",
       "      <td>-1.177533</td>\n",
       "      <td>-0.453949</td>\n",
       "      <td>0.035081</td>\n",
       "    </tr>\n",
       "    <tr>\n",
       "      <th>22</th>\n",
       "      <td>1.079046</td>\n",
       "      <td>0.003953</td>\n",
       "      <td>842</td>\n",
       "      <td>-3.853703</td>\n",
       "      <td>-1.445728</td>\n",
       "      <td>-0.538324</td>\n",
       "      <td>0.092308</td>\n",
       "    </tr>\n",
       "  </tbody>\n",
       "</table>\n",
       "</div>"
      ],
      "text/plain": [
       "     Qd_Cycle_2  Qd_max-2  Cycle_life  Log_Variance  Log_Mininum  \\\n",
       "90     1.067522  0.003397        1836     -4.488742    -1.768046   \n",
       "23     1.077748  0.003847         860     -3.844712    -1.429300   \n",
       "116    1.063380  0.002049        1093     -4.234858    -1.637742   \n",
       "50     1.071276  0.417843         458     -3.320110    -1.177533   \n",
       "22     1.079046  0.003953         842     -3.853703    -1.445728   \n",
       "\n",
       "     Log_Skewness  Log_Kurtosis  \n",
       "90      -0.467522      0.079458  \n",
       "23      -0.845780      0.092890  \n",
       "116     -0.528215      0.061761  \n",
       "50      -0.453949      0.035081  \n",
       "22      -0.538324      0.092308  "
      ]
     },
     "execution_count": 10,
     "metadata": {},
     "output_type": "execute_result"
    }
   ],
   "source": [
    "df_1.head()"
   ]
  },
  {
   "cell_type": "code",
   "execution_count": 11,
   "metadata": {},
   "outputs": [],
   "source": [
    "from sklearn.model_selection import train_test_split\n",
    "X = df_1.drop(['Cycle_life'],axis =1)\n",
    "Y = df_1['Cycle_life']"
   ]
  },
  {
   "cell_type": "code",
   "execution_count": 12,
   "metadata": {},
   "outputs": [
    {
     "data": {
      "text/html": [
       "<div>\n",
       "<style scoped>\n",
       "    .dataframe tbody tr th:only-of-type {\n",
       "        vertical-align: middle;\n",
       "    }\n",
       "\n",
       "    .dataframe tbody tr th {\n",
       "        vertical-align: top;\n",
       "    }\n",
       "\n",
       "    .dataframe thead th {\n",
       "        text-align: right;\n",
       "    }\n",
       "</style>\n",
       "<table border=\"1\" class=\"dataframe\">\n",
       "  <thead>\n",
       "    <tr style=\"text-align: right;\">\n",
       "      <th></th>\n",
       "      <th>Qd_Cycle_2</th>\n",
       "      <th>Qd_max-2</th>\n",
       "      <th>Log_Variance</th>\n",
       "      <th>Log_Mininum</th>\n",
       "      <th>Log_Skewness</th>\n",
       "      <th>Log_Kurtosis</th>\n",
       "    </tr>\n",
       "  </thead>\n",
       "  <tbody>\n",
       "    <tr>\n",
       "      <th>90</th>\n",
       "      <td>1.067522</td>\n",
       "      <td>0.003397</td>\n",
       "      <td>-4.488742</td>\n",
       "      <td>-1.768046</td>\n",
       "      <td>-0.467522</td>\n",
       "      <td>0.079458</td>\n",
       "    </tr>\n",
       "    <tr>\n",
       "      <th>23</th>\n",
       "      <td>1.077748</td>\n",
       "      <td>0.003847</td>\n",
       "      <td>-3.844712</td>\n",
       "      <td>-1.429300</td>\n",
       "      <td>-0.845780</td>\n",
       "      <td>0.092890</td>\n",
       "    </tr>\n",
       "    <tr>\n",
       "      <th>116</th>\n",
       "      <td>1.063380</td>\n",
       "      <td>0.002049</td>\n",
       "      <td>-4.234858</td>\n",
       "      <td>-1.637742</td>\n",
       "      <td>-0.528215</td>\n",
       "      <td>0.061761</td>\n",
       "    </tr>\n",
       "    <tr>\n",
       "      <th>50</th>\n",
       "      <td>1.071276</td>\n",
       "      <td>0.417843</td>\n",
       "      <td>-3.320110</td>\n",
       "      <td>-1.177533</td>\n",
       "      <td>-0.453949</td>\n",
       "      <td>0.035081</td>\n",
       "    </tr>\n",
       "    <tr>\n",
       "      <th>22</th>\n",
       "      <td>1.079046</td>\n",
       "      <td>0.003953</td>\n",
       "      <td>-3.853703</td>\n",
       "      <td>-1.445728</td>\n",
       "      <td>-0.538324</td>\n",
       "      <td>0.092308</td>\n",
       "    </tr>\n",
       "  </tbody>\n",
       "</table>\n",
       "</div>"
      ],
      "text/plain": [
       "     Qd_Cycle_2  Qd_max-2  Log_Variance  Log_Mininum  Log_Skewness  \\\n",
       "90     1.067522  0.003397     -4.488742    -1.768046     -0.467522   \n",
       "23     1.077748  0.003847     -3.844712    -1.429300     -0.845780   \n",
       "116    1.063380  0.002049     -4.234858    -1.637742     -0.528215   \n",
       "50     1.071276  0.417843     -3.320110    -1.177533     -0.453949   \n",
       "22     1.079046  0.003953     -3.853703    -1.445728     -0.538324   \n",
       "\n",
       "     Log_Kurtosis  \n",
       "90       0.079458  \n",
       "23       0.092890  \n",
       "116      0.061761  \n",
       "50       0.035081  \n",
       "22       0.092308  "
      ]
     },
     "execution_count": 12,
     "metadata": {},
     "output_type": "execute_result"
    }
   ],
   "source": [
    "X.head()"
   ]
  },
  {
   "cell_type": "code",
   "execution_count": 13,
   "metadata": {},
   "outputs": [
    {
     "data": {
      "text/plain": [
       "90     1836\n",
       "23      860\n",
       "116    1093\n",
       "50      458\n",
       "22      842\n",
       "Name: Cycle_life, dtype: int64"
      ]
     },
     "execution_count": 13,
     "metadata": {},
     "output_type": "execute_result"
    }
   ],
   "source": [
    "Y.head()"
   ]
  },
  {
   "cell_type": "code",
   "execution_count": 86,
   "metadata": {},
   "outputs": [],
   "source": [
    "X_train, X_test, y_train, y_test = train_test_split(X,Y, test_size=0.2,random_state=1)\n",
    "from sklearn.linear_model import LinearRegression\n",
    "from sklearn.preprocessing import StandardScaler\n",
    "#Standardize data before\n",
    "scaler = StandardScaler()\n",
    "X_train = scaler.fit_transform(X_train)\n",
    "X_test = scaler.transform(X_test)\n",
    "linreg =LinearRegression()\n",
    "linreg.fit(X_train,y_train)\n",
    "y_pred = linreg.predict(X_test)"
   ]
  },
  {
   "cell_type": "code",
   "execution_count": 87,
   "metadata": {},
   "outputs": [
    {
     "data": {
      "text/plain": [
       "array([  66.85281419,    2.79049558, -278.26115679,  -58.52126494,\n",
       "        -10.32157038,  -90.72078425])"
      ]
     },
     "execution_count": 87,
     "metadata": {},
     "output_type": "execute_result"
    }
   ],
   "source": [
    "linreg.coef_"
   ]
  },
  {
   "cell_type": "code",
   "execution_count": 88,
   "metadata": {},
   "outputs": [
    {
     "data": {
      "text/plain": [
       "796.1616161616158"
      ]
     },
     "execution_count": 88,
     "metadata": {},
     "output_type": "execute_result"
    }
   ],
   "source": [
    "linreg.intercept_"
   ]
  },
  {
   "cell_type": "code",
   "execution_count": 89,
   "metadata": {},
   "outputs": [
    {
     "data": {
      "text/plain": [
       "array([1115.45904513, 1120.70840805,  922.33304942,  501.86853038,\n",
       "       1393.70879276, 1029.46125255,  539.53983493,  556.47987013,\n",
       "        895.84172875, 1121.84737882, 1744.36449498,  566.89718013,\n",
       "       1469.09131863,  420.13691707,  671.91192928,  645.34483412,\n",
       "       1090.75776571,  358.49082228,  850.00613335,  823.74282456,\n",
       "        626.00698661,  665.5956605 ,  489.56644506,  933.31248072,\n",
       "        343.42468905])"
      ]
     },
     "execution_count": 89,
     "metadata": {},
     "output_type": "execute_result"
    }
   ],
   "source": [
    "y_pred"
   ]
  },
  {
   "cell_type": "code",
   "execution_count": 90,
   "metadata": {},
   "outputs": [],
   "source": [
    "def Matrix(y_test,y_pred):\n",
    "    import pandas as pd\n",
    "    from sklearn import metrics\n",
    "    from sklearn.metrics import r2_score\n",
    "    x = []\n",
    "    MSE = metrics.mean_squared_error(y_test,y_pred)\n",
    "    MAE = metrics.mean_absolute_error(y_test,y_pred)\n",
    "    RMSE= np.sqrt(metrics.mean_squared_error(y_test,y_pred))\n",
    "    MAPE=np.mean(np.abs((y_test - y_pred)/y_test))*100\n",
    "    R2_Score = r2_score(y_test,y_pred)\n",
    "    x.extend([MSE,MAE,RMSE,MAPE,R2_Score])\n",
    "    df = pd.DataFrame(x)\n",
    "    df1 = df.transpose()\n",
    "    df1.columns = ['MSE','MAE','RMSE','MAPE','R2_SCORE']\n",
    "    return(df1)"
   ]
  },
  {
   "cell_type": "code",
   "execution_count": 91,
   "metadata": {},
   "outputs": [
    {
     "data": {
      "text/html": [
       "<div>\n",
       "<style scoped>\n",
       "    .dataframe tbody tr th:only-of-type {\n",
       "        vertical-align: middle;\n",
       "    }\n",
       "\n",
       "    .dataframe tbody tr th {\n",
       "        vertical-align: top;\n",
       "    }\n",
       "\n",
       "    .dataframe thead th {\n",
       "        text-align: right;\n",
       "    }\n",
       "</style>\n",
       "<table border=\"1\" class=\"dataframe\">\n",
       "  <thead>\n",
       "    <tr style=\"text-align: right;\">\n",
       "      <th></th>\n",
       "      <th>MSE</th>\n",
       "      <th>MAE</th>\n",
       "      <th>RMSE</th>\n",
       "      <th>MAPE</th>\n",
       "      <th>R2_SCORE</th>\n",
       "    </tr>\n",
       "  </thead>\n",
       "  <tbody>\n",
       "    <tr>\n",
       "      <th>0</th>\n",
       "      <td>12382.462812</td>\n",
       "      <td>83.079578</td>\n",
       "      <td>111.276515</td>\n",
       "      <td>11.586237</td>\n",
       "      <td>0.912785</td>\n",
       "    </tr>\n",
       "  </tbody>\n",
       "</table>\n",
       "</div>"
      ],
      "text/plain": [
       "            MSE        MAE        RMSE       MAPE  R2_SCORE\n",
       "0  12382.462812  83.079578  111.276515  11.586237  0.912785"
      ]
     },
     "execution_count": 91,
     "metadata": {},
     "output_type": "execute_result"
    }
   ],
   "source": [
    "Matrix(y_test,y_pred)"
   ]
  },
  {
   "cell_type": "code",
   "execution_count": 68,
   "metadata": {},
   "outputs": [
    {
     "name": "stderr",
     "output_type": "stream",
     "text": [
      "C:\\Users\\satsin\\AppData\\Roaming\\Python\\Python39\\site-packages\\sklearn\\linear_model\\_coordinate_descent.py:647: ConvergenceWarning: Objective did not converge. You might want to increase the number of iterations, check the scale of the features or consider increasing regularisation. Duality gap: 8.039e+05, tolerance: 1.407e+03\n",
      "  model = cd_fast.enet_coordinate_descent(\n"
     ]
    }
   ],
   "source": [
    "from sklearn.linear_model import ElasticNet\n",
    "model = ElasticNet(alpha=0.00001, l1_ratio= 0.550000)\n",
    "#odel = ElasticNet(alpha=0.3, l1_ratio= 0.99)\n",
    "model.fit(X_train,y_train)\n",
    "y_pred_elastic =model.predict(X_test)"
   ]
  },
  {
   "cell_type": "code",
   "execution_count": 69,
   "metadata": {},
   "outputs": [
    {
     "data": {
      "text/html": [
       "<div>\n",
       "<style scoped>\n",
       "    .dataframe tbody tr th:only-of-type {\n",
       "        vertical-align: middle;\n",
       "    }\n",
       "\n",
       "    .dataframe tbody tr th {\n",
       "        vertical-align: top;\n",
       "    }\n",
       "\n",
       "    .dataframe thead th {\n",
       "        text-align: right;\n",
       "    }\n",
       "</style>\n",
       "<table border=\"1\" class=\"dataframe\">\n",
       "  <thead>\n",
       "    <tr style=\"text-align: right;\">\n",
       "      <th></th>\n",
       "      <th>MSE</th>\n",
       "      <th>MAE</th>\n",
       "      <th>RMSE</th>\n",
       "      <th>MAPE</th>\n",
       "      <th>R2_SCORE</th>\n",
       "    </tr>\n",
       "  </thead>\n",
       "  <tbody>\n",
       "    <tr>\n",
       "      <th>0</th>\n",
       "      <td>35267.115575</td>\n",
       "      <td>120.028774</td>\n",
       "      <td>187.795409</td>\n",
       "      <td>14.916299</td>\n",
       "      <td>0.751723</td>\n",
       "    </tr>\n",
       "  </tbody>\n",
       "</table>\n",
       "</div>"
      ],
      "text/plain": [
       "            MSE         MAE        RMSE       MAPE  R2_SCORE\n",
       "0  35267.115575  120.028774  187.795409  14.916299  0.751723"
      ]
     },
     "execution_count": 69,
     "metadata": {},
     "output_type": "execute_result"
    }
   ],
   "source": [
    "Matrix(y_test,y_pred_elastic)"
   ]
  },
  {
   "cell_type": "code",
   "execution_count": 70,
   "metadata": {},
   "outputs": [],
   "source": [
    "X_train, X_test, y_train, y_test = train_test_split(X,Y, test_size=0.2)\n",
    "from sklearn.linear_model import LinearRegression\n",
    "from sklearn.preprocessing import RobustScaler\n",
    "scaler = RobustScaler()\n",
    "X_train = scaler.fit_transform(X_train)\n",
    "X_test = scaler.transform(X_test)\n",
    "linreg =LinearRegression()\n",
    "linreg.fit(X_train,y_train)\n",
    "y_pred = linreg.predict(X_test)"
   ]
  },
  {
   "cell_type": "code",
   "execution_count": 77,
   "metadata": {},
   "outputs": [
    {
     "data": {
      "text/plain": [
       "<AxesSubplot:ylabel='Count'>"
      ]
     },
     "execution_count": 77,
     "metadata": {},
     "output_type": "execute_result"
    },
    {
     "data": {
      "image/png": "[encoded data removed]",
      "text/plain": [
       "<Figure size 432x288 with 1 Axes>"
      ]
     },
     "metadata": {
      "needs_background": "light"
     },
     "output_type": "display_data"
    }
   ],
   "source": [
    "sns.histplot(data=X_train,x=X_train[:,2], kde=True)"
   ]
  },
  {
   "cell_type": "code",
   "execution_count": 71,
   "metadata": {},
   "outputs": [
    {
     "data": {
      "text/plain": [
       "array([ 8.63076531e+01,  1.66884400e-01,  9.29233401e+01, -5.60628951e+02,\n",
       "       -1.29848065e+01, -7.15116856e+01])"
      ]
     },
     "execution_count": 71,
     "metadata": {},
     "output_type": "execute_result"
    }
   ],
   "source": [
    "linreg.coef_"
   ]
  },
  {
   "cell_type": "code",
   "execution_count": 72,
   "metadata": {},
   "outputs": [
    {
     "data": {
      "text/plain": [
       "737.4877299626891"
      ]
     },
     "execution_count": 72,
     "metadata": {},
     "output_type": "execute_result"
    }
   ],
   "source": [
    "linreg.intercept_"
   ]
  },
  {
   "cell_type": "code",
   "execution_count": 73,
   "metadata": {},
   "outputs": [
    {
     "data": {
      "text/plain": [
       "array([ 439.24736964, 1167.63043339, 1129.27153896,  490.45643105,\n",
       "        885.11234764, 1002.16657657,  860.17981278,  851.64630509,\n",
       "        578.88467669,  612.30769789,  934.98581512,  642.77951319,\n",
       "        650.88662098,  506.9357775 ,  655.80670252,  637.6583775 ,\n",
       "       1126.37037781, 1194.67261397, 1060.8937459 , 1164.01816567,\n",
       "        654.43428585, 1755.93317261, 1807.91941835, 1045.02233345,\n",
       "        457.9862395 ])"
      ]
     },
     "execution_count": 73,
     "metadata": {},
     "output_type": "execute_result"
    }
   ],
   "source": [
    "y_pred"
   ]
  },
  {
   "cell_type": "code",
   "execution_count": 74,
   "metadata": {},
   "outputs": [
    {
     "data": {
      "text/html": [
       "<div>\n",
       "<style scoped>\n",
       "    .dataframe tbody tr th:only-of-type {\n",
       "        vertical-align: middle;\n",
       "    }\n",
       "\n",
       "    .dataframe tbody tr th {\n",
       "        vertical-align: top;\n",
       "    }\n",
       "\n",
       "    .dataframe thead th {\n",
       "        text-align: right;\n",
       "    }\n",
       "</style>\n",
       "<table border=\"1\" class=\"dataframe\">\n",
       "  <thead>\n",
       "    <tr style=\"text-align: right;\">\n",
       "      <th></th>\n",
       "      <th>MSE</th>\n",
       "      <th>MAE</th>\n",
       "      <th>RMSE</th>\n",
       "      <th>MAPE</th>\n",
       "      <th>R2_SCORE</th>\n",
       "    </tr>\n",
       "  </thead>\n",
       "  <tbody>\n",
       "    <tr>\n",
       "      <th>0</th>\n",
       "      <td>16510.350071</td>\n",
       "      <td>98.384324</td>\n",
       "      <td>128.492607</td>\n",
       "      <td>12.787948</td>\n",
       "      <td>0.906053</td>\n",
       "    </tr>\n",
       "  </tbody>\n",
       "</table>\n",
       "</div>"
      ],
      "text/plain": [
       "            MSE        MAE        RMSE       MAPE  R2_SCORE\n",
       "0  16510.350071  98.384324  128.492607  12.787948  0.906053"
      ]
     },
     "execution_count": 74,
     "metadata": {},
     "output_type": "execute_result"
    }
   ],
   "source": [
    "Matrix(y_test,y_pred)"
   ]
  },
  {
   "cell_type": "code",
   "execution_count": 75,
   "metadata": {},
   "outputs": [
    {
     "name": "stderr",
     "output_type": "stream",
     "text": [
      "C:\\Users\\satsin\\AppData\\Roaming\\Python\\Python39\\site-packages\\sklearn\\linear_model\\_coordinate_descent.py:647: ConvergenceWarning: Objective did not converge. You might want to increase the number of iterations, check the scale of the features or consider increasing regularisation. Duality gap: 1.027e+06, tolerance: 1.322e+03\n",
      "  model = cd_fast.enet_coordinate_descent(\n"
     ]
    }
   ],
   "source": [
    "from sklearn.linear_model import ElasticNet\n",
    "model = ElasticNet(alpha=0.00001, l1_ratio= 0.550000)\n",
    "#odel = ElasticNet(alpha=0.3, l1_ratio= 0.99)\n",
    "model.fit(X_train,y_train)\n",
    "y_pred_elastic =model.predict(X_test)"
   ]
  },
  {
   "cell_type": "code",
   "execution_count": 76,
   "metadata": {},
   "outputs": [
    {
     "data": {
      "text/html": [
       "<div>\n",
       "<style scoped>\n",
       "    .dataframe tbody tr th:only-of-type {\n",
       "        vertical-align: middle;\n",
       "    }\n",
       "\n",
       "    .dataframe tbody tr th {\n",
       "        vertical-align: top;\n",
       "    }\n",
       "\n",
       "    .dataframe thead th {\n",
       "        text-align: right;\n",
       "    }\n",
       "</style>\n",
       "<table border=\"1\" class=\"dataframe\">\n",
       "  <thead>\n",
       "    <tr style=\"text-align: right;\">\n",
       "      <th></th>\n",
       "      <th>MSE</th>\n",
       "      <th>MAE</th>\n",
       "      <th>RMSE</th>\n",
       "      <th>MAPE</th>\n",
       "      <th>R2_SCORE</th>\n",
       "    </tr>\n",
       "  </thead>\n",
       "  <tbody>\n",
       "    <tr>\n",
       "      <th>0</th>\n",
       "      <td>16444.072752</td>\n",
       "      <td>98.550855</td>\n",
       "      <td>128.234444</td>\n",
       "      <td>12.82304</td>\n",
       "      <td>0.90643</td>\n",
       "    </tr>\n",
       "  </tbody>\n",
       "</table>\n",
       "</div>"
      ],
      "text/plain": [
       "            MSE        MAE        RMSE      MAPE  R2_SCORE\n",
       "0  16444.072752  98.550855  128.234444  12.82304   0.90643"
      ]
     },
     "execution_count": 76,
     "metadata": {},
     "output_type": "execute_result"
    }
   ],
   "source": [
    "Matrix(y_test,y_pred_elastic)"
   ]
  },
  {
   "cell_type": "code",
   "execution_count": null,
   "metadata": {},
   "outputs": [],
   "source": [
    "# 1."
   ]
  }
 ],
 "metadata": {
  "kernelspec": {
   "display_name": "Python 3",
   "language": "python",
   "name": "python3"
  },
  "language_info": {
   "codemirror_mode": {
    "name": "ipython",
    "version": 3
   },
   "file_extension": ".py",
   "mimetype": "text/x-python",
   "name": "python",
   "nbconvert_exporter": "python",
   "pygments_lexer": "ipython3",
   "version": "3.8.3"
  }
 },
 "nbformat": 4,
 "nbformat_minor": 5
}
