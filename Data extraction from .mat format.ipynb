{
 "cells": [
  {
   "cell_type": "code",
   "execution_count": 1,
   "metadata": {},
   "outputs": [
    {
     "name": "stderr",
     "output_type": "stream",
     "text": [
      "<ipython-input-1-c66d511582e2>:8: H5pyDeprecationWarning: The default file mode will change to 'r' (read-only) in h5py 3.0. To suppress this warning, pass the mode you need to h5py.File(), or set the global default h5.get_config().default_file_mode, or set the environment variable H5PY_DEFAULT_READONLY=1. Available modes are: 'r', 'r+', 'w', 'w-'/'x', 'a'. See the docs for details.\n",
      "  f = h5py.File(matFilename)\n"
     ]
    },
    {
     "data": {
      "image/png": "[encoded data removed]",
      "text/plain": [
       "<Figure size 432x288 with 1 Axes>"
      ]
     },
     "metadata": {
      "needs_background": "light"
     },
     "output_type": "display_data"
    }
   ],
   "source": [
    "import h5py\n",
    "#import scipy.io\n",
    "import matplotlib.pyplot as plt\n",
    "import numpy as np\n",
    "import pickle\n",
    "\n",
    "#batch1\n",
    "matFilename = 'C:/Users/satsin/Downloads/2017-05-12_batchdata_updated_struct_errorcorrect.mat'\n",
    "f = h5py.File(matFilename)\n",
    "list(f.keys())\n",
    "batch = f['batch']\n",
    "list(batch.keys())\n",
    "num_cells = batch['summary'].shape[0]\n",
    "bat_dict = {}\n",
    "for i in range(num_cells):\n",
    "    cl = f[batch['cycle_life'][i, 0]][()]\n",
    "    policy = f[batch['policy_readable'][i, 0]][()].tobytes()[::2].decode()\n",
    "    summary_IR = np.hstack(f[batch['summary'][i, 0]]['IR'][0, :].tolist())\n",
    "    summary_QC = np.hstack(f[batch['summary'][i, 0]]['QCharge'][0, :].tolist())\n",
    "    summary_QD = np.hstack(f[batch['summary'][i, 0]]['QDischarge'][0, :].tolist())\n",
    "    summary_TA = np.hstack(f[batch['summary'][i, 0]]['Tavg'][0, :].tolist())\n",
    "    summary_TM = np.hstack(f[batch['summary'][i, 0]]['Tmin'][0, :].tolist())\n",
    "    summary_TX = np.hstack(f[batch['summary'][i, 0]]['Tmax'][0, :].tolist())\n",
    "    summary_CT = np.hstack(f[batch['summary'][i, 0]]['chargetime'][0, :].tolist())\n",
    "    summary_CY = np.hstack(f[batch['summary'][i, 0]]['cycle'][0, :].tolist())\n",
    "    summary = {'IR': summary_IR, 'QC': summary_QC, 'QD': summary_QD, 'Tavg':\n",
    "        summary_TA, 'Tmin': summary_TM, 'Tmax': summary_TX, 'chargetime': summary_CT,\n",
    "               'cycle': summary_CY}\n",
    "    cycles = f[batch['cycles'][i, 0]]\n",
    "    cycle_dict = {}\n",
    "    for j in range(cycles['I'].shape[0]):\n",
    "        I = np.hstack((f[cycles['I'][j, 0]][()]))\n",
    "        Qc = np.hstack((f[cycles['Qc'][j, 0]][()]))\n",
    "        Qd = np.hstack((f[cycles['Qd'][j, 0]][()]))\n",
    "        Qdlin = np.hstack((f[cycles['Qdlin'][j, 0]][()]))\n",
    "        T = np.hstack((f[cycles['T'][j, 0]][()]))\n",
    "        Tdlin = np.hstack((f[cycles['Tdlin'][j, 0]][()]))\n",
    "        V = np.hstack((f[cycles['V'][j, 0]][()]))\n",
    "        dQdV = np.hstack((f[cycles['discharge_dQdV'][j, 0]][()]))\n",
    "        t = np.hstack((f[cycles['t'][j, 0]][()]))\n",
    "        cd = {'I': I, 'Qc': Qc, 'Qd': Qd, 'Qdlin': Qdlin, 'T': T, 'Tdlin': Tdlin, 'V': V, 'dQdV': dQdV, 't': t}\n",
    "        cycle_dict[str(j)] = cd\n",
    "\n",
    "    cell_dict = {'cycle_life': cl, 'charge_policy': policy, 'summary': summary, 'cycles': cycle_dict}\n",
    "    key = 'b1c' + str(i)\n",
    "    bat_dict[key] = cell_dict\n",
    "bat_dict.keys()\n",
    "plt.plot(bat_dict['b1c43']['summary']['cycle'], bat_dict['b1c43']['summary']['QD'])\n",
    "\n",
    "plt.plot(bat_dict['b1c43']['cycles']['10']['Qd'], bat_dict['b1c43']['cycles']['10']['V'])\n",
    "\n",
    "with open('batch1.pkl', 'wb') as fp:\n",
    "    pickle.dump(bat_dict, fp)"
   ]
  },
  {
   "cell_type": "code",
   "execution_count": 2,
   "metadata": {},
   "outputs": [
    {
     "name": "stderr",
     "output_type": "stream",
     "text": [
      "<ipython-input-2-2176290a571d>:10: H5pyDeprecationWarning: The default file mode will change to 'r' (read-only) in h5py 3.0. To suppress this warning, pass the mode you need to h5py.File(), or set the global default h5.get_config().default_file_mode, or set the environment variable H5PY_DEFAULT_READONLY=1. Available modes are: 'r', 'r+', 'w', 'w-'/'x', 'a'. See the docs for details.\n",
      "  f = h5py.File(matFilename)\n"
     ]
    },
    {
     "data": {
      "image/png": "[encoded data removed]",
      "text/plain": [
       "<Figure size 432x288 with 1 Axes>"
      ]
     },
     "metadata": {
      "needs_background": "light"
     },
     "output_type": "display_data"
    }
   ],
   "source": [
    "#batch2\n",
    "\n",
    "import h5py\n",
    "#import scipy.io\n",
    "import matplotlib.pyplot as plt\n",
    "import numpy as np\n",
    "import pickle\n",
    "\n",
    "matFilename = 'C:/Users/satsin/Downloads/2017-06-30_batchdata_updated_struct_errorcorrect.mat'\n",
    "f = h5py.File(matFilename)\n",
    "list(f.keys())\n",
    "\n",
    "batch = f['batch']\n",
    "list(batch.keys())\n",
    "num_cells = batch['summary'].shape[0]\n",
    "bat_dict = {}\n",
    "for i in range(num_cells):\n",
    "    cl = f[batch['cycle_life'][i, 0]][()]\n",
    "    policy = f[batch['policy_readable'][i, 0]][()].tobytes()[::2].decode()\n",
    "    summary_IR = np.hstack(f[batch['summary'][i, 0]]['IR'][0, :].tolist())\n",
    "    summary_QC = np.hstack(f[batch['summary'][i, 0]]['QCharge'][0, :].tolist())\n",
    "    summary_QD = np.hstack(f[batch['summary'][i, 0]]['QDischarge'][0, :].tolist())\n",
    "    summary_TA = np.hstack(f[batch['summary'][i, 0]]['Tavg'][0, :].tolist())\n",
    "    summary_TM = np.hstack(f[batch['summary'][i, 0]]['Tmin'][0, :].tolist())\n",
    "    summary_TX = np.hstack(f[batch['summary'][i, 0]]['Tmax'][0, :].tolist())\n",
    "    summary_CT = np.hstack(f[batch['summary'][i, 0]]['chargetime'][0, :].tolist())\n",
    "    summary_CY = np.hstack(f[batch['summary'][i, 0]]['cycle'][0, :].tolist())\n",
    "    summary = {'IR': summary_IR, 'QC': summary_QC, 'QD': summary_QD, 'Tavg':\n",
    "        summary_TA, 'Tmin': summary_TM, 'Tmax': summary_TX, 'chargetime': summary_CT,\n",
    "               'cycle': summary_CY}\n",
    "    cycles = f[batch['cycles'][i, 0]]\n",
    "    cycle_dict = {}\n",
    "    for j in range(cycles['I'].shape[0]):\n",
    "        I = np.hstack((f[cycles['I'][j, 0]][()]))\n",
    "        Qc = np.hstack((f[cycles['Qc'][j, 0]][()]))\n",
    "        Qd = np.hstack((f[cycles['Qd'][j, 0]][()]))\n",
    "        Qdlin = np.hstack((f[cycles['Qdlin'][j, 0]][()]))\n",
    "        T = np.hstack((f[cycles['T'][j, 0]][()]))\n",
    "        Tdlin = np.hstack((f[cycles['Tdlin'][j, 0]][()]))\n",
    "        V = np.hstack((f[cycles['V'][j, 0]][()]))\n",
    "        dQdV = np.hstack((f[cycles['discharge_dQdV'][j, 0]][()]))\n",
    "        t = np.hstack((f[cycles['t'][j, 0]][()]))\n",
    "        cd = {'I': I, 'Qc': Qc, 'Qd': Qd, 'Qdlin': Qdlin, 'T': T, 'Tdlin': Tdlin, 'V': V, 'dQdV': dQdV, 't': t}\n",
    "        cycle_dict[str(j)] = cd\n",
    "\n",
    "    cell_dict = {'cycle_life': cl, 'charge_policy': policy, 'summary': summary, 'cycles': cycle_dict}\n",
    "    key = 'b2c' + str(i)\n",
    "    bat_dict[key] = cell_dict\n",
    "bat_dict.keys()\n",
    "plt.plot(bat_dict['b2c43']['summary']['cycle'], bat_dict['b2c43']['summary']['QD'])\n",
    "\n",
    "plt.plot(bat_dict['b2c43']['cycles']['10']['Qd'], bat_dict['b2c43']['cycles']['10']['V'])\n",
    "\n",
    "with open('batch2.pkl', 'wb') as fp:\n",
    "    pickle.dump(bat_dict, fp)"
   ]
  },
  {
   "cell_type": "code",
   "execution_count": 3,
   "metadata": {},
   "outputs": [
    {
     "name": "stderr",
     "output_type": "stream",
     "text": [
      "<ipython-input-3-ca6c5c8b61c7>:3: H5pyDeprecationWarning: The default file mode will change to 'r' (read-only) in h5py 3.0. To suppress this warning, pass the mode you need to h5py.File(), or set the global default h5.get_config().default_file_mode, or set the environment variable H5PY_DEFAULT_READONLY=1. Available modes are: 'r', 'r+', 'w', 'w-'/'x', 'a'. See the docs for details.\n",
      "  f = h5py.File(matFilename)\n"
     ]
    },
    {
     "data": {
      "image/png": "[encoded data removed]",
      "text/plain": [
       "<Figure size 432x288 with 1 Axes>"
      ]
     },
     "metadata": {
      "needs_background": "light"
     },
     "output_type": "display_data"
    }
   ],
   "source": [
    "#batch3\n",
    "matFilename = 'C:/Users/satsin/Downloads/2018-04-12_batchdata_updated_struct_errorcorrect.mat'\n",
    "f = h5py.File(matFilename)\n",
    "list(f.keys())\n",
    "batch = f['batch']\n",
    "list(batch.keys())\n",
    "num_cells = batch['summary'].shape[0]\n",
    "bat_dict = {}\n",
    "for i in range(num_cells):\n",
    "    cl = f[batch['cycle_life'][i, 0]][()]\n",
    "    policy = f[batch['policy_readable'][i, 0]][()].tobytes()[::2].decode()\n",
    "    summary_IR = np.hstack(f[batch['summary'][i, 0]]['IR'][0, :].tolist())\n",
    "    summary_QC = np.hstack(f[batch['summary'][i, 0]]['QCharge'][0, :].tolist())\n",
    "    summary_QD = np.hstack(f[batch['summary'][i, 0]]['QDischarge'][0, :].tolist())\n",
    "    summary_TA = np.hstack(f[batch['summary'][i, 0]]['Tavg'][0, :].tolist())\n",
    "    summary_TM = np.hstack(f[batch['summary'][i, 0]]['Tmin'][0, :].tolist())\n",
    "    summary_TX = np.hstack(f[batch['summary'][i, 0]]['Tmax'][0, :].tolist())\n",
    "    summary_CT = np.hstack(f[batch['summary'][i, 0]]['chargetime'][0, :].tolist())\n",
    "    summary_CY = np.hstack(f[batch['summary'][i, 0]]['cycle'][0, :].tolist())\n",
    "    summary = {'IR': summary_IR, 'QC': summary_QC, 'QD': summary_QD, 'Tavg':\n",
    "        summary_TA, 'Tmin': summary_TM, 'Tmax': summary_TX, 'chargetime': summary_CT,\n",
    "               'cycle': summary_CY}\n",
    "    cycles = f[batch['cycles'][i, 0]]\n",
    "    cycle_dict = {}\n",
    "    for j in range(cycles['I'].shape[0]):\n",
    "        I = np.hstack((f[cycles['I'][j, 0]][()]))\n",
    "        Qc = np.hstack((f[cycles['Qc'][j, 0]][()]))\n",
    "        Qd = np.hstack((f[cycles['Qd'][j, 0]][()]))\n",
    "        Qdlin = np.hstack((f[cycles['Qdlin'][j, 0]][()]))\n",
    "        T = np.hstack((f[cycles['T'][j, 0]][()]))\n",
    "        Tdlin = np.hstack((f[cycles['Tdlin'][j, 0]][()]))\n",
    "        V = np.hstack((f[cycles['V'][j, 0]][()]))\n",
    "        dQdV = np.hstack((f[cycles['discharge_dQdV'][j, 0]][()]))\n",
    "        t = np.hstack((f[cycles['t'][j, 0]][()]))\n",
    "        cd = {'I': I, 'Qc': Qc, 'Qd': Qd, 'Qdlin': Qdlin, 'T': T, 'Tdlin': Tdlin, 'V': V, 'dQdV': dQdV, 't': t}\n",
    "        cycle_dict[str(j)] = cd\n",
    "\n",
    "    cell_dict = {'cycle_life': cl, 'charge_policy': policy, 'summary': summary, 'cycles': cycle_dict}\n",
    "    key = 'b3c' + str(i)\n",
    "    bat_dict[key] = cell_dict\n",
    "bat_dict.keys()\n",
    "plt.plot(bat_dict['b3c43']['summary']['cycle'], bat_dict['b3c43']['summary']['QD'])\n",
    "\n",
    "plt.plot(bat_dict['b3c43']['cycles']['10']['Qd'], bat_dict['b3c43']['cycles']['10']['V'])\n",
    "\n",
    "with open('batch3.pkl', 'wb') as fp:\n",
    "    pickle.dump(bat_dict, fp)"
   ]
  },
  {
   "cell_type": "code",
   "execution_count": 48,
   "metadata": {},
   "outputs": [
    {
     "data": {
      "image/png": "[encoded data removed]",
      "text/plain": [
       "<Figure size 432x288 with 1 Axes>"
      ]
     },
     "metadata": {
      "needs_background": "light"
     },
     "output_type": "display_data"
    }
   ],
   "source": [
    "#LoadBatch\n",
    "\n",
    "import pandas as pd\n",
    "import numpy as np\n",
    "import matplotlib.pyplot as plt\n",
    "import pickle\n",
    "batch1 = pickle.load(open(r'C:\\Users\\satsin\\batch1.pkl', 'rb'))\n",
    "#remove batteries that do not reach 80% capacity\n",
    "del batch1['b1c8']\n",
    "del batch1['b1c10']\n",
    "del batch1['b1c12']\n",
    "del batch1['b1c13']\n",
    "del batch1['b1c22']\n",
    "numBat1 = len(batch1.keys())\n",
    "batch2 = pickle.load(open(r'C:\\Users\\satsin\\batch2.pkl','rb'))\n",
    "# There are four cells from batch1 that carried into batch2, we'll remove the data from batch2\n",
    "# and put it with the correct cell from batch1\n",
    "batch2_keys = ['b2c7', 'b2c8', 'b2c9', 'b2c15', 'b2c16']\n",
    "batch1_keys = ['b1c0', 'b1c1', 'b1c2', 'b1c3', 'b1c4']\n",
    "add_len = [662, 981, 1060, 208, 482]\n",
    "for i, bk in enumerate(batch1_keys):\n",
    "    batch1[bk]['cycle_life'] = batch1[bk]['cycle_life'] + add_len[i]\n",
    "    for j in batch1[bk]['summary'].keys():\n",
    "        if j == 'cycle':\n",
    "            batch1[bk]['summary'][j] = np.hstack((batch1[bk]['summary'][j], batch2[batch2_keys[i]]['summary'][j] + len(batch1[bk]['summary'][j])))\n",
    "        else:\n",
    "            batch1[bk]['summary'][j] = np.hstack((batch1[bk]['summary'][j], batch2[batch2_keys[i]]['summary'][j]))\n",
    "    last_cycle = len(batch1[bk]['cycles'].keys())\n",
    "    for j, jk in enumerate(batch2[batch2_keys[i]]['cycles'].keys()):\n",
    "        batch1[bk]['cycles'][str(last_cycle + j)] = batch2[batch2_keys[i]]['cycles'][jk]\n",
    "del batch2['b2c7']\n",
    "del batch2['b2c8']\n",
    "del batch2['b2c9']\n",
    "del batch2['b2c15']\n",
    "del batch2['b2c16']\n",
    "numBat2 = len(batch2.keys())\n",
    "batch3 = pickle.load(open(r'C:\\Users\\satsin\\batch3.pkl','rb'))\n",
    "# remove noisy channels from batch3\n",
    "del batch3['b3c37']\n",
    "del batch3['b3c2']\n",
    "del batch3['b3c23']\n",
    "del batch3['b3c32']\n",
    "del batch3['b3c42']\n",
    "del batch3['b3c43']\n",
    "numBat3 = len(batch3.keys())\n",
    "numBat = numBat1 + numBat2 + numBat3\n",
    "bat_dict = {**batch1, **batch2, **batch3}\n",
    "for i in bat_dict.keys():\n",
    "    plt.plot(bat_dict[i]['summary']['cycle'], bat_dict[i]['summary']['QD'])\n",
    "plt.xlabel('Cycle Number')\n",
    "plt.ylabel('Discharge Capacity (Ah)')\n",
    "\n",
    "Batch_1 = pd.DataFrame(data=batch1)\n",
    "Batch_1.to_excel('summary1.xlsx')\n",
    "Batch_2 = pd.DataFrame(data=batch2)\n",
    "Batch_2.to_excel('summary2.xlsx')\n",
    "Batch_3 = pd.DataFrame(data=batch3)\n",
    "Batch_3.to_excel('summary3.xlsx')\n",
    "\n",
    "test_ind = np.hstack((np.arange(0,(numBat1+numBat2),2),83))\n",
    "train_ind = np.arange(1,(numBat1+numBat2-1),2)\n",
    "secondary_test_ind = np.arange(numBat-numBat3,numBat)"
   ]
  },
  {
   "cell_type": "code",
   "execution_count": 50,
   "metadata": {},
   "outputs": [],
   "source": [
    "bat_dict = {**batch1}"
   ]
  },
  {
   "cell_type": "code",
   "execution_count": 51,
   "metadata": {},
   "outputs": [
    {
     "data": {
      "text/plain": [
       "dict_keys(['b1c0', 'b1c1', 'b1c2', 'b1c3', 'b1c4', 'b1c5', 'b1c6', 'b1c7', 'b1c9', 'b1c11', 'b1c14', 'b1c15', 'b1c16', 'b1c17', 'b1c18', 'b1c19', 'b1c20', 'b1c21', 'b1c23', 'b1c24', 'b1c25', 'b1c26', 'b1c27', 'b1c28', 'b1c29', 'b1c30', 'b1c31', 'b1c32', 'b1c33', 'b1c34', 'b1c35', 'b1c36', 'b1c37', 'b1c38', 'b1c39', 'b1c40', 'b1c41', 'b1c42', 'b1c43', 'b1c44', 'b1c45'])"
      ]
     },
     "execution_count": 51,
     "metadata": {},
     "output_type": "execute_result"
    }
   ],
   "source": [
    "bat_dict.keys()"
   ]
  },
  {
   "cell_type": "code",
   "execution_count": 46,
   "metadata": {
    "scrolled": false
   },
   "outputs": [],
   "source": [
    "#to extract the full data from the summary file\n",
    "#for i in bat_dict.keys():\n",
    " #   print(bat_dict[i]['summary']['cycle'], bat_dict[i]['summary']['QD'])\n"
   ]
  },
  {
   "cell_type": "code",
   "execution_count": 83,
   "metadata": {},
   "outputs": [
    {
     "name": "stdout",
     "output_type": "stream",
     "text": [
      "100.0 1.0759126\n",
      "100.0 1.0806297\n",
      "100.0 1.0849404\n",
      "100.0 1.0847498\n",
      "100.0 1.0826457\n",
      "100.0 1.0797794\n",
      "100.0 1.0792426\n",
      "100.0 1.0957625\n",
      "100.0 1.0876312\n",
      "100.0 1.0599719\n",
      "100.0 1.0762016\n",
      "100.0 1.0677497\n",
      "100.0 1.0863206\n",
      "100.0 1.0769763\n",
      "100.0 1.0645274\n",
      "100.0 1.0870851\n",
      "100.0 1.0612478\n",
      "100.0 1.0767291\n",
      "100.0 1.0816909\n",
      "100.0 1.0776314\n",
      "100.0 1.0780438\n",
      "100.0 1.0893713\n",
      "100.0 1.0810226\n",
      "100.0 1.0796947\n",
      "100.0 1.0818107\n",
      "100.0 1.0814074\n",
      "100.0 1.0953494\n",
      "100.0 1.0793804\n",
      "100.0 1.0937657\n",
      "100.0 1.0794187\n",
      "100.0 1.0739936\n",
      "100.0 1.0802411\n",
      "100.0 1.0768065\n",
      "100.0 1.0749754\n",
      "100.0 1.0847629\n",
      "100.0 1.0857353\n",
      "100.0 1.0821686\n",
      "100.0 1.0832821\n",
      "100.0 1.0688359\n",
      "100.0 1.0847102\n",
      "100.0 1.0858277\n"
     ]
    }
   ],
   "source": [
    "#Extracting data for training \n",
    "for i in bat_dict.keys():\n",
    "    print(bat_dict[i]['summary']['cycle'][99], bat_dict[i]['summary']['QD'][99])"
   ]
  },
  {
   "cell_type": "code",
   "execution_count": 35,
   "metadata": {
    "scrolled": true
   },
   "outputs": [
    {
     "name": "stdout",
     "output_type": "stream",
     "text": [
      "0.0013753000000000792\n",
      "0.000853100000000051\n",
      "0.001158699999999957\n",
      "0.00044200000000005346\n",
      "0.0006920999999999733\n",
      "-0.0003965999999999692\n",
      "-0.0018586000000000436\n",
      "-0.0018245000000001177\n",
      "0.0009996999999999368\n",
      "0.0018716000000000843\n",
      "0.000999500000000042\n",
      "0.001147500000000079\n",
      "0.0005359000000000336\n",
      "0.0012254000000000431\n",
      "-0.005023800000000023\n",
      "-0.0015537000000001022\n",
      "-0.014476399999999945\n",
      "-0.009073200000000003\n",
      "-0.0009636000000001754\n",
      "-7.259999999997824e-05\n",
      "-0.0003018999999999661\n",
      "-0.0016640999999999462\n",
      "-0.001266699999999954\n",
      "-0.0012768000000000779\n",
      "-0.00098240000000005\n",
      "-0.001953399999999883\n",
      "-0.0027898000000001755\n",
      "-0.0016681999999998975\n",
      "-0.002425699999999864\n",
      "-0.00040940000000011523\n",
      "-0.00013669999999987859\n",
      "-0.001297899999999963\n",
      "-0.001513400000000109\n",
      "-0.0010924999999999407\n",
      "-0.0008420000000000094\n",
      "-0.0014332999999999707\n",
      "-0.0005790000000001072\n",
      "-0.0004695000000001226\n",
      "-0.002598499999999948\n",
      "-0.0035061000000000675\n",
      "-0.0016899999999999693\n"
     ]
    }
   ],
   "source": [
    "for i in bat_dict.keys():\n",
    "    print(bat_dict[i]['summary']['QD'][99]-bat_dict[i]['summary']['QD'][9])"
   ]
  },
  {
   "cell_type": "code",
   "execution_count": 42,
   "metadata": {},
   "outputs": [
    {
     "name": "stdout",
     "output_type": "stream",
     "text": [
      "[[1190.]]\n",
      "[[1179.]]\n",
      "[[1177.]]\n",
      "[[1226.]]\n",
      "[[1227.]]\n",
      "[[1074.]]\n",
      "[[636.]]\n",
      "[[870.]]\n",
      "[[1054.]]\n",
      "[[788.]]\n",
      "[[880.]]\n",
      "[[719.]]\n",
      "[[862.]]\n",
      "[[857.]]\n",
      "[[691.]]\n",
      "[[788.]]\n",
      "[[534.]]\n",
      "[[559.]]\n",
      "[[1014.]]\n",
      "[[1017.]]\n",
      "[[854.]]\n",
      "[[870.]]\n",
      "[[842.]]\n",
      "[[860.]]\n",
      "[[917.]]\n",
      "[[709.]]\n",
      "[[876.]]\n",
      "[[731.]]\n",
      "[[757.]]\n",
      "[[742.]]\n",
      "[[703.]]\n",
      "[[704.]]\n",
      "[[648.]]\n",
      "[[617.]]\n",
      "[[625.]]\n",
      "[[966.]]\n",
      "[[1051.]]\n",
      "[[702.]]\n",
      "[[651.]]\n",
      "[[616.]]\n",
      "[[599.]]\n"
     ]
    }
   ],
   "source": [
    "for i in bat_dict.keys():\n",
    "    print(bat_dict[i]['cycle_life'])"
   ]
  },
  {
   "cell_type": "code",
   "execution_count": 27,
   "metadata": {},
   "outputs": [
    {
     "name": "stdout",
     "output_type": "stream",
     "text": [
      "[[1190.]]\n",
      "[[1179.]]\n",
      "[[1177.]]\n",
      "[[1226.]]\n",
      "[[1227.]]\n",
      "[[1074.]]\n",
      "[[636.]]\n",
      "[[870.]]\n",
      "[[1054.]]\n",
      "[[788.]]\n",
      "[[880.]]\n",
      "[[719.]]\n",
      "[[862.]]\n",
      "[[857.]]\n",
      "[[691.]]\n",
      "[[788.]]\n",
      "[[534.]]\n",
      "[[559.]]\n",
      "[[1014.]]\n",
      "[[1017.]]\n",
      "[[854.]]\n",
      "[[870.]]\n",
      "[[842.]]\n",
      "[[860.]]\n",
      "[[917.]]\n",
      "[[709.]]\n",
      "[[876.]]\n",
      "[[731.]]\n",
      "[[757.]]\n",
      "[[742.]]\n",
      "[[703.]]\n",
      "[[704.]]\n",
      "[[648.]]\n",
      "[[617.]]\n",
      "[[625.]]\n",
      "[[966.]]\n",
      "[[1051.]]\n",
      "[[702.]]\n",
      "[[651.]]\n",
      "[[616.]]\n",
      "[[599.]]\n"
     ]
    }
   ],
   "source": [
    "for i in bat_dict.keys():\n",
    "    print(bat_dict[i]['cycle_life'], bat_dict[i]['summary']['QD'])"
   ]
  },
  {
   "cell_type": "code",
   "execution_count": 59,
   "metadata": {},
   "outputs": [],
   "source": [
    "import pandas as pd\n",
    "data = pd.read_excel('C:/Users/satsin/Desktop/Battery life/extracted_data.xlsx',sheet_name ='Training')"
   ]
  },
  {
   "cell_type": "code",
   "execution_count": 60,
   "metadata": {},
   "outputs": [
    {
     "data": {
      "text/html": [
       "<div>\n",
       "<style scoped>\n",
       "    .dataframe tbody tr th:only-of-type {\n",
       "        vertical-align: middle;\n",
       "    }\n",
       "\n",
       "    .dataframe tbody tr th {\n",
       "        vertical-align: top;\n",
       "    }\n",
       "\n",
       "    .dataframe thead th {\n",
       "        text-align: right;\n",
       "    }\n",
       "</style>\n",
       "<table border=\"1\" class=\"dataframe\">\n",
       "  <thead>\n",
       "    <tr style=\"text-align: right;\">\n",
       "      <th></th>\n",
       "      <th>Qd100-Qd10</th>\n",
       "      <th>Qd100</th>\n",
       "      <th>Qd10</th>\n",
       "      <th>Charge_Policy</th>\n",
       "      <th>Cycle_life</th>\n",
       "    </tr>\n",
       "  </thead>\n",
       "  <tbody>\n",
       "    <tr>\n",
       "      <th>0</th>\n",
       "      <td>0.001375</td>\n",
       "      <td>1.075913</td>\n",
       "      <td>1.074537</td>\n",
       "      <td>3.6C(80%)-3.6C</td>\n",
       "      <td>1190</td>\n",
       "    </tr>\n",
       "    <tr>\n",
       "      <th>1</th>\n",
       "      <td>0.000853</td>\n",
       "      <td>1.080630</td>\n",
       "      <td>1.079777</td>\n",
       "      <td>3.6C(80%)-3.6C</td>\n",
       "      <td>1179</td>\n",
       "    </tr>\n",
       "    <tr>\n",
       "      <th>2</th>\n",
       "      <td>0.001159</td>\n",
       "      <td>1.084940</td>\n",
       "      <td>1.083782</td>\n",
       "      <td>3.6C(80%)-3.6C</td>\n",
       "      <td>1177</td>\n",
       "    </tr>\n",
       "    <tr>\n",
       "      <th>3</th>\n",
       "      <td>0.000442</td>\n",
       "      <td>1.084750</td>\n",
       "      <td>1.084308</td>\n",
       "      <td>4C(80%)-4C</td>\n",
       "      <td>1226</td>\n",
       "    </tr>\n",
       "    <tr>\n",
       "      <th>4</th>\n",
       "      <td>0.000692</td>\n",
       "      <td>1.082646</td>\n",
       "      <td>1.081954</td>\n",
       "      <td>4C(80%)-4C</td>\n",
       "      <td>1227</td>\n",
       "    </tr>\n",
       "  </tbody>\n",
       "</table>\n",
       "</div>"
      ],
      "text/plain": [
       "   Qd100-Qd10     Qd100      Qd10   Charge_Policy  Cycle_life\n",
       "0    0.001375  1.075913  1.074537  3.6C(80%)-3.6C        1190\n",
       "1    0.000853  1.080630  1.079777  3.6C(80%)-3.6C        1179\n",
       "2    0.001159  1.084940  1.083782  3.6C(80%)-3.6C        1177\n",
       "3    0.000442  1.084750  1.084308      4C(80%)-4C        1226\n",
       "4    0.000692  1.082646  1.081954      4C(80%)-4C        1227"
      ]
     },
     "execution_count": 60,
     "metadata": {},
     "output_type": "execute_result"
    }
   ],
   "source": [
    "data.head()"
   ]
  },
  {
   "cell_type": "code",
   "execution_count": 61,
   "metadata": {},
   "outputs": [
    {
     "name": "stdout",
     "output_type": "stream",
     "text": [
      "<class 'pandas.core.frame.DataFrame'>\n",
      "RangeIndex: 41 entries, 0 to 40\n",
      "Data columns (total 5 columns):\n",
      " #   Column         Non-Null Count  Dtype  \n",
      "---  ------         --------------  -----  \n",
      " 0   Qd100-Qd10     41 non-null     float64\n",
      " 1   Qd100          41 non-null     float64\n",
      " 2   Qd10           41 non-null     float64\n",
      " 3   Charge_Policy  41 non-null     object \n",
      " 4   Cycle_life     41 non-null     int64  \n",
      "dtypes: float64(3), int64(1), object(1)\n",
      "memory usage: 1.7+ KB\n"
     ]
    }
   ],
   "source": [
    "data.info()"
   ]
  },
  {
   "cell_type": "code",
   "execution_count": 62,
   "metadata": {},
   "outputs": [
    {
     "data": {
      "text/plain": [
       "Qd100-Qd10       41\n",
       "Qd100            41\n",
       "Qd10             41\n",
       "Charge_Policy    22\n",
       "Cycle_life       39\n",
       "dtype: int64"
      ]
     },
     "execution_count": 62,
     "metadata": {},
     "output_type": "execute_result"
    }
   ],
   "source": [
    "data.nunique()"
   ]
  },
  {
   "cell_type": "code",
   "execution_count": 63,
   "metadata": {},
   "outputs": [
    {
     "data": {
      "text/plain": [
       "Qd100-Qd10       0\n",
       "Qd100            0\n",
       "Qd10             0\n",
       "Charge_Policy    0\n",
       "Cycle_life       0\n",
       "dtype: int64"
      ]
     },
     "execution_count": 63,
     "metadata": {},
     "output_type": "execute_result"
    }
   ],
   "source": [
    "data.isnull().sum()"
   ]
  },
  {
   "cell_type": "code",
   "execution_count": 64,
   "metadata": {},
   "outputs": [
    {
     "data": {
      "text/html": [
       "<div>\n",
       "<style scoped>\n",
       "    .dataframe tbody tr th:only-of-type {\n",
       "        vertical-align: middle;\n",
       "    }\n",
       "\n",
       "    .dataframe tbody tr th {\n",
       "        vertical-align: top;\n",
       "    }\n",
       "\n",
       "    .dataframe thead th {\n",
       "        text-align: right;\n",
       "    }\n",
       "</style>\n",
       "<table border=\"1\" class=\"dataframe\">\n",
       "  <thead>\n",
       "    <tr style=\"text-align: right;\">\n",
       "      <th></th>\n",
       "      <th>Qd100-Qd10</th>\n",
       "      <th>Qd100</th>\n",
       "      <th>Qd10</th>\n",
       "      <th>Cycle_life</th>\n",
       "    </tr>\n",
       "  </thead>\n",
       "  <tbody>\n",
       "    <tr>\n",
       "      <th>count</th>\n",
       "      <td>41.000000</td>\n",
       "      <td>41.000000</td>\n",
       "      <td>41.000000</td>\n",
       "      <td>41.000000</td>\n",
       "    </tr>\n",
       "    <tr>\n",
       "      <th>mean</th>\n",
       "      <td>-0.001313</td>\n",
       "      <td>1.080196</td>\n",
       "      <td>1.081509</td>\n",
       "      <td>838.585366</td>\n",
       "    </tr>\n",
       "    <tr>\n",
       "      <th>std</th>\n",
       "      <td>0.002863</td>\n",
       "      <td>0.007904</td>\n",
       "      <td>0.007760</td>\n",
       "      <td>194.892788</td>\n",
       "    </tr>\n",
       "    <tr>\n",
       "      <th>min</th>\n",
       "      <td>-0.014476</td>\n",
       "      <td>1.059972</td>\n",
       "      <td>1.058100</td>\n",
       "      <td>534.000000</td>\n",
       "    </tr>\n",
       "    <tr>\n",
       "      <th>25%</th>\n",
       "      <td>-0.001690</td>\n",
       "      <td>1.076806</td>\n",
       "      <td>1.077704</td>\n",
       "      <td>702.000000</td>\n",
       "    </tr>\n",
       "    <tr>\n",
       "      <th>50%</th>\n",
       "      <td>-0.000982</td>\n",
       "      <td>1.080630</td>\n",
       "      <td>1.081954</td>\n",
       "      <td>842.000000</td>\n",
       "    </tr>\n",
       "    <tr>\n",
       "      <th>75%</th>\n",
       "      <td>0.000442</td>\n",
       "      <td>1.084763</td>\n",
       "      <td>1.085785</td>\n",
       "      <td>966.000000</td>\n",
       "    </tr>\n",
       "    <tr>\n",
       "      <th>max</th>\n",
       "      <td>0.001872</td>\n",
       "      <td>1.095762</td>\n",
       "      <td>1.098139</td>\n",
       "      <td>1227.000000</td>\n",
       "    </tr>\n",
       "  </tbody>\n",
       "</table>\n",
       "</div>"
      ],
      "text/plain": [
       "       Qd100-Qd10      Qd100       Qd10   Cycle_life\n",
       "count   41.000000  41.000000  41.000000    41.000000\n",
       "mean    -0.001313   1.080196   1.081509   838.585366\n",
       "std      0.002863   0.007904   0.007760   194.892788\n",
       "min     -0.014476   1.059972   1.058100   534.000000\n",
       "25%     -0.001690   1.076806   1.077704   702.000000\n",
       "50%     -0.000982   1.080630   1.081954   842.000000\n",
       "75%      0.000442   1.084763   1.085785   966.000000\n",
       "max      0.001872   1.095762   1.098139  1227.000000"
      ]
     },
     "execution_count": 64,
     "metadata": {},
     "output_type": "execute_result"
    }
   ],
   "source": [
    "data.describe()"
   ]
  },
  {
   "cell_type": "code",
   "execution_count": 80,
   "metadata": {},
   "outputs": [
    {
     "data": {
      "image/png": "[encoded data removed]",
      "text/plain": [
       "<Figure size 432x288 with 1 Axes>"
      ]
     },
     "metadata": {
      "needs_background": "light"
     },
     "output_type": "display_data"
    }
   ],
   "source": [
    "plt.plot(data['Qd100'],data['Qd10'])\n",
    "plt.xlabel('Qd100')\n",
    "plt.ylabel('Qd10')\n",
    "plt.title('Cycle_life curve')\n",
    "plt.show()"
   ]
  },
  {
   "cell_type": "code",
   "execution_count": 67,
   "metadata": {},
   "outputs": [],
   "source": [
    "Training = data.corr()"
   ]
  },
  {
   "cell_type": "code",
   "execution_count": 68,
   "metadata": {},
   "outputs": [
    {
     "data": {
      "text/html": [
       "<div>\n",
       "<style scoped>\n",
       "    .dataframe tbody tr th:only-of-type {\n",
       "        vertical-align: middle;\n",
       "    }\n",
       "\n",
       "    .dataframe tbody tr th {\n",
       "        vertical-align: top;\n",
       "    }\n",
       "\n",
       "    .dataframe thead th {\n",
       "        text-align: right;\n",
       "    }\n",
       "</style>\n",
       "<table border=\"1\" class=\"dataframe\">\n",
       "  <thead>\n",
       "    <tr style=\"text-align: right;\">\n",
       "      <th></th>\n",
       "      <th>Qd100-Qd10</th>\n",
       "      <th>Qd100</th>\n",
       "      <th>Qd10</th>\n",
       "      <th>Cycle_life</th>\n",
       "    </tr>\n",
       "  </thead>\n",
       "  <tbody>\n",
       "    <tr>\n",
       "      <th>Qd100-Qd10</th>\n",
       "      <td>1.000000</td>\n",
       "      <td>0.231221</td>\n",
       "      <td>-0.133418</td>\n",
       "      <td>0.547102</td>\n",
       "    </tr>\n",
       "    <tr>\n",
       "      <th>Qd100</th>\n",
       "      <td>0.231221</td>\n",
       "      <td>1.000000</td>\n",
       "      <td>0.933354</td>\n",
       "      <td>0.293256</td>\n",
       "    </tr>\n",
       "    <tr>\n",
       "      <th>Qd10</th>\n",
       "      <td>-0.133418</td>\n",
       "      <td>0.933354</td>\n",
       "      <td>1.000000</td>\n",
       "      <td>0.096874</td>\n",
       "    </tr>\n",
       "    <tr>\n",
       "      <th>Cycle_life</th>\n",
       "      <td>0.547102</td>\n",
       "      <td>0.293256</td>\n",
       "      <td>0.096874</td>\n",
       "      <td>1.000000</td>\n",
       "    </tr>\n",
       "  </tbody>\n",
       "</table>\n",
       "</div>"
      ],
      "text/plain": [
       "            Qd100-Qd10     Qd100      Qd10  Cycle_life\n",
       "Qd100-Qd10    1.000000  0.231221 -0.133418    0.547102\n",
       "Qd100         0.231221  1.000000  0.933354    0.293256\n",
       "Qd10         -0.133418  0.933354  1.000000    0.096874\n",
       "Cycle_life    0.547102  0.293256  0.096874    1.000000"
      ]
     },
     "execution_count": 68,
     "metadata": {},
     "output_type": "execute_result"
    }
   ],
   "source": [
    "Training"
   ]
  },
  {
   "cell_type": "code",
   "execution_count": 70,
   "metadata": {},
   "outputs": [
    {
     "data": {
      "image/png": "[encoded data removed]",
      "text/plain": [
       "<Figure size 720x360 with 2 Axes>"
      ]
     },
     "metadata": {
      "needs_background": "light"
     },
     "output_type": "display_data"
    }
   ],
   "source": [
    "import seaborn as sns\n",
    "plt.figure(figsize=(10,5))\n",
    "sns.heatmap(Training, annot=True)\n",
    "plt.show()"
   ]
  },
  {
   "cell_type": "code",
   "execution_count": null,
   "metadata": {},
   "outputs": [],
   "source": [
    "#Extracting data from batch2 for Primary testing\n",
    "for i in bat_dict.keys():\n",
    "    print(bat_dict[i]['batch2']['cycle'][99], bat_dict[i]['batch2']['QD'][99])"
   ]
  }
 ],
 "metadata": {
  "kernelspec": {
   "display_name": "Python 3",
   "language": "python",
   "name": "python3"
  },
  "language_info": {
   "codemirror_mode": {
    "name": "ipython",
    "version": 3
   },
   "file_extension": ".py",
   "mimetype": "text/x-python",
   "name": "python",
   "nbconvert_exporter": "python",
   "pygments_lexer": "ipython3",
   "version": "3.8.3"
  }
 },
 "nbformat": 4,
 "nbformat_minor": 4
}
