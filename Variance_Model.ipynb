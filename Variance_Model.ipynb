{
 "cells": [
  {
   "cell_type": "code",
   "execution_count": 1,
   "metadata": {},
   "outputs": [],
   "source": [
    "#Import all the required libraries\n",
    "import numpy as np\n",
    "import pandas as pd\n",
    "import matplotlib.pyplot as plt\n",
    "import seaborn as sns\n",
    "from sklearn.linear_model import LinearRegression"
   ]
  },
  {
   "cell_type": "code",
   "execution_count": 48,
   "metadata": {},
   "outputs": [],
   "source": [
    "#Read all the required data\n",
    "df_test = pd.read_excel('C:/Users/satsin/Desktop/Battery life/extracted files/Linear_reg_v2.xlsx',sheet_name ='test')\n",
    "df_train = pd.read_excel('C:/Users/satsin/Desktop/Battery life/extracted files/Linear_reg_v2.xlsx',sheet_name ='train')\n",
    "df_test_sec = pd.read_excel('C:/Users/satsin/Desktop/Battery life/extracted files/Linear_reg_v2.xlsx',sheet_name ='test_sec')"
   ]
  },
  {
   "cell_type": "code",
   "execution_count": 49,
   "metadata": {
    "scrolled": true
   },
   "outputs": [
    {
     "data": {
      "text/html": [
       "<div>\n",
       "<style scoped>\n",
       "    .dataframe tbody tr th:only-of-type {\n",
       "        vertical-align: middle;\n",
       "    }\n",
       "\n",
       "    .dataframe tbody tr th {\n",
       "        vertical-align: top;\n",
       "    }\n",
       "\n",
       "    .dataframe thead th {\n",
       "        text-align: right;\n",
       "    }\n",
       "</style>\n",
       "<table border=\"1\" class=\"dataframe\">\n",
       "  <thead>\n",
       "    <tr style=\"text-align: right;\">\n",
       "      <th></th>\n",
       "      <th>S_no</th>\n",
       "      <th>Variance</th>\n",
       "      <th>cell_No</th>\n",
       "      <th>cycle</th>\n",
       "      <th>log_variance</th>\n",
       "      <th>log_cycle</th>\n",
       "      <th>exp_variance</th>\n",
       "    </tr>\n",
       "  </thead>\n",
       "  <tbody>\n",
       "    <tr>\n",
       "      <th>0</th>\n",
       "      <td>0</td>\n",
       "      <td>0.000007</td>\n",
       "      <td>b1c1</td>\n",
       "      <td>2160</td>\n",
       "      <td>-5.154902</td>\n",
       "      <td>3.334454</td>\n",
       "      <td>1.000007</td>\n",
       "    </tr>\n",
       "    <tr>\n",
       "      <th>1</th>\n",
       "      <td>1</td>\n",
       "      <td>0.000041</td>\n",
       "      <td>b1c3</td>\n",
       "      <td>1434</td>\n",
       "      <td>-4.387216</td>\n",
       "      <td>3.156549</td>\n",
       "      <td>1.000041</td>\n",
       "    </tr>\n",
       "    <tr>\n",
       "      <th>2</th>\n",
       "      <td>2</td>\n",
       "      <td>0.000070</td>\n",
       "      <td>b1c5</td>\n",
       "      <td>1074</td>\n",
       "      <td>-4.154902</td>\n",
       "      <td>3.031004</td>\n",
       "      <td>1.000070</td>\n",
       "    </tr>\n",
       "    <tr>\n",
       "      <th>3</th>\n",
       "      <td>3</td>\n",
       "      <td>0.000151</td>\n",
       "      <td>b1c7</td>\n",
       "      <td>870</td>\n",
       "      <td>-3.821023</td>\n",
       "      <td>2.939519</td>\n",
       "      <td>1.000151</td>\n",
       "    </tr>\n",
       "    <tr>\n",
       "      <th>4</th>\n",
       "      <td>4</td>\n",
       "      <td>0.000080</td>\n",
       "      <td>b1c11</td>\n",
       "      <td>788</td>\n",
       "      <td>-4.096910</td>\n",
       "      <td>2.896526</td>\n",
       "      <td>1.000080</td>\n",
       "    </tr>\n",
       "  </tbody>\n",
       "</table>\n",
       "</div>"
      ],
      "text/plain": [
       "   S_no  Variance cell_No  cycle  log_variance  log_cycle  exp_variance\n",
       "0     0  0.000007    b1c1   2160     -5.154902   3.334454      1.000007\n",
       "1     1  0.000041    b1c3   1434     -4.387216   3.156549      1.000041\n",
       "2     2  0.000070    b1c5   1074     -4.154902   3.031004      1.000070\n",
       "3     3  0.000151    b1c7    870     -3.821023   2.939519      1.000151\n",
       "4     4  0.000080   b1c11    788     -4.096910   2.896526      1.000080"
      ]
     },
     "execution_count": 49,
     "metadata": {},
     "output_type": "execute_result"
    }
   ],
   "source": [
    "df_train.head()"
   ]
  },
  {
   "cell_type": "code",
   "execution_count": 50,
   "metadata": {},
   "outputs": [
    {
     "data": {
      "text/plain": [
       "S_no            41\n",
       "Variance        41\n",
       "cell_No         41\n",
       "cycle           38\n",
       "log_variance    41\n",
       "log_cycle       38\n",
       "exp_variance    41\n",
       "dtype: int64"
      ]
     },
     "execution_count": 50,
     "metadata": {},
     "output_type": "execute_result"
    }
   ],
   "source": [
    "df_train.nunique()"
   ]
  },
  {
   "cell_type": "code",
   "execution_count": 51,
   "metadata": {
    "scrolled": true
   },
   "outputs": [
    {
     "data": {
      "text/html": [
       "<div>\n",
       "<style scoped>\n",
       "    .dataframe tbody tr th:only-of-type {\n",
       "        vertical-align: middle;\n",
       "    }\n",
       "\n",
       "    .dataframe tbody tr th {\n",
       "        vertical-align: top;\n",
       "    }\n",
       "\n",
       "    .dataframe thead th {\n",
       "        text-align: right;\n",
       "    }\n",
       "</style>\n",
       "<table border=\"1\" class=\"dataframe\">\n",
       "  <thead>\n",
       "    <tr style=\"text-align: right;\">\n",
       "      <th></th>\n",
       "      <th>S_no</th>\n",
       "      <th>Variance</th>\n",
       "      <th>cycle</th>\n",
       "      <th>log_variance</th>\n",
       "      <th>log_cycle</th>\n",
       "      <th>exp_variance</th>\n",
       "    </tr>\n",
       "  </thead>\n",
       "  <tbody>\n",
       "    <tr>\n",
       "      <th>count</th>\n",
       "      <td>41.000000</td>\n",
       "      <td>41.000000</td>\n",
       "      <td>41.000000</td>\n",
       "      <td>41.000000</td>\n",
       "      <td>41.000000</td>\n",
       "      <td>41.000000</td>\n",
       "    </tr>\n",
       "    <tr>\n",
       "      <th>mean</th>\n",
       "      <td>20.000000</td>\n",
       "      <td>0.000284</td>\n",
       "      <td>673.756098</td>\n",
       "      <td>-3.676776</td>\n",
       "      <td>2.793970</td>\n",
       "      <td>1.000284</td>\n",
       "    </tr>\n",
       "    <tr>\n",
       "      <th>std</th>\n",
       "      <td>11.979149</td>\n",
       "      <td>0.000262</td>\n",
       "      <td>327.143530</td>\n",
       "      <td>0.376828</td>\n",
       "      <td>0.163581</td>\n",
       "      <td>0.000262</td>\n",
       "    </tr>\n",
       "    <tr>\n",
       "      <th>min</th>\n",
       "      <td>0.000000</td>\n",
       "      <td>0.000007</td>\n",
       "      <td>300.000000</td>\n",
       "      <td>-5.154902</td>\n",
       "      <td>2.477121</td>\n",
       "      <td>1.000007</td>\n",
       "    </tr>\n",
       "    <tr>\n",
       "      <th>25%</th>\n",
       "      <td>10.000000</td>\n",
       "      <td>0.000151</td>\n",
       "      <td>477.000000</td>\n",
       "      <td>-3.821023</td>\n",
       "      <td>2.678518</td>\n",
       "      <td>1.000151</td>\n",
       "    </tr>\n",
       "    <tr>\n",
       "      <th>50%</th>\n",
       "      <td>20.000000</td>\n",
       "      <td>0.000228</td>\n",
       "      <td>527.000000</td>\n",
       "      <td>-3.642065</td>\n",
       "      <td>2.721811</td>\n",
       "      <td>1.000228</td>\n",
       "    </tr>\n",
       "    <tr>\n",
       "      <th>75%</th>\n",
       "      <td>30.000000</td>\n",
       "      <td>0.000353</td>\n",
       "      <td>788.000000</td>\n",
       "      <td>-3.452225</td>\n",
       "      <td>2.896526</td>\n",
       "      <td>1.000353</td>\n",
       "    </tr>\n",
       "    <tr>\n",
       "      <th>max</th>\n",
       "      <td>40.000000</td>\n",
       "      <td>0.001681</td>\n",
       "      <td>2160.000000</td>\n",
       "      <td>-2.774432</td>\n",
       "      <td>3.334454</td>\n",
       "      <td>1.001682</td>\n",
       "    </tr>\n",
       "  </tbody>\n",
       "</table>\n",
       "</div>"
      ],
      "text/plain": [
       "            S_no   Variance        cycle  log_variance  log_cycle  \\\n",
       "count  41.000000  41.000000    41.000000     41.000000  41.000000   \n",
       "mean   20.000000   0.000284   673.756098     -3.676776   2.793970   \n",
       "std    11.979149   0.000262   327.143530      0.376828   0.163581   \n",
       "min     0.000000   0.000007   300.000000     -5.154902   2.477121   \n",
       "25%    10.000000   0.000151   477.000000     -3.821023   2.678518   \n",
       "50%    20.000000   0.000228   527.000000     -3.642065   2.721811   \n",
       "75%    30.000000   0.000353   788.000000     -3.452225   2.896526   \n",
       "max    40.000000   0.001681  2160.000000     -2.774432   3.334454   \n",
       "\n",
       "       exp_variance  \n",
       "count     41.000000  \n",
       "mean       1.000284  \n",
       "std        0.000262  \n",
       "min        1.000007  \n",
       "25%        1.000151  \n",
       "50%        1.000228  \n",
       "75%        1.000353  \n",
       "max        1.001682  "
      ]
     },
     "execution_count": 51,
     "metadata": {},
     "output_type": "execute_result"
    }
   ],
   "source": [
    "df_train.describe()"
   ]
  },
  {
   "cell_type": "code",
   "execution_count": 54,
   "metadata": {
    "scrolled": false
   },
   "outputs": [
    {
     "name": "stderr",
     "output_type": "stream",
     "text": [
      "C:\\Users\\satsin\\AppData\\Roaming\\Python\\Python38\\site-packages\\seaborn\\distributions.py:2619: FutureWarning: `distplot` is a deprecated function and will be removed in a future version. Please adapt your code to use either `displot` (a figure-level function with similar flexibility) or `histplot` (an axes-level function for histograms).\n",
      "  warnings.warn(msg, FutureWarning)\n"
     ]
    },
    {
     "data": {
      "text/plain": [
       "<matplotlib.lines.Line2D at 0x17fc97ed190>"
      ]
     },
     "execution_count": 54,
     "metadata": {},
     "output_type": "execute_result"
    },
    {
     "data": {
      "image/png": "[encoded data removed]",
      "text/plain": [
       "<Figure size 432x288 with 1 Axes>"
      ]
     },
     "metadata": {
      "needs_background": "light"
     },
     "output_type": "display_data"
    }
   ],
   "source": [
    "sns.distplot(df_train['log_cycle'])\n",
    "plt.axvline(df_train['log_cycle'].mean(),color = 'r')\n",
    "plt.axvline(df_train['log_cycle'].median(),color = 'g')"
   ]
  },
  {
   "cell_type": "code",
   "execution_count": 55,
   "metadata": {},
   "outputs": [
    {
     "name": "stderr",
     "output_type": "stream",
     "text": [
      "C:\\Users\\satsin\\AppData\\Roaming\\Python\\Python38\\site-packages\\seaborn\\distributions.py:2619: FutureWarning: `distplot` is a deprecated function and will be removed in a future version. Please adapt your code to use either `displot` (a figure-level function with similar flexibility) or `histplot` (an axes-level function for histograms).\n",
      "  warnings.warn(msg, FutureWarning)\n"
     ]
    },
    {
     "data": {
      "text/plain": [
       "<matplotlib.axes._subplots.AxesSubplot at 0x17fc9944430>"
      ]
     },
     "execution_count": 55,
     "metadata": {},
     "output_type": "execute_result"
    },
    {
     "data": {
      "image/png": "[encoded data removed]",
      "text/plain": [
       "<Figure size 432x288 with 1 Axes>"
      ]
     },
     "metadata": {
      "needs_background": "light"
     },
     "output_type": "display_data"
    }
   ],
   "source": [
    "sns.distplot(df_train['log_cycle'])"
   ]
  },
  {
   "cell_type": "code",
   "execution_count": 56,
   "metadata": {},
   "outputs": [
    {
     "name": "stderr",
     "output_type": "stream",
     "text": [
      "C:\\Users\\satsin\\AppData\\Roaming\\Python\\Python38\\site-packages\\seaborn\\distributions.py:2619: FutureWarning: `distplot` is a deprecated function and will be removed in a future version. Please adapt your code to use either `displot` (a figure-level function with similar flexibility) or `histplot` (an axes-level function for histograms).\n",
      "  warnings.warn(msg, FutureWarning)\n"
     ]
    },
    {
     "data": {
      "text/plain": [
       "<matplotlib.axes._subplots.AxesSubplot at 0x17fc97368e0>"
      ]
     },
     "execution_count": 56,
     "metadata": {},
     "output_type": "execute_result"
    },
    {
     "data": {
      "image/png": "[encoded data removed]",
      "text/plain": [
       "<Figure size 432x288 with 1 Axes>"
      ]
     },
     "metadata": {
      "needs_background": "light"
     },
     "output_type": "display_data"
    }
   ],
   "source": [
    "sns.distplot(df_test['log_cycle'])"
   ]
  },
  {
   "cell_type": "code",
   "execution_count": 57,
   "metadata": {
    "scrolled": true
   },
   "outputs": [
    {
     "data": {
      "text/html": [
       "<div>\n",
       "<style scoped>\n",
       "    .dataframe tbody tr th:only-of-type {\n",
       "        vertical-align: middle;\n",
       "    }\n",
       "\n",
       "    .dataframe tbody tr th {\n",
       "        vertical-align: top;\n",
       "    }\n",
       "\n",
       "    .dataframe thead th {\n",
       "        text-align: right;\n",
       "    }\n",
       "</style>\n",
       "<table border=\"1\" class=\"dataframe\">\n",
       "  <thead>\n",
       "    <tr style=\"text-align: right;\">\n",
       "      <th></th>\n",
       "      <th>S_no</th>\n",
       "      <th>Variance</th>\n",
       "      <th>cell_No</th>\n",
       "      <th>cycle</th>\n",
       "      <th>log_variance</th>\n",
       "      <th>log_cycle</th>\n",
       "      <th>exp_variance</th>\n",
       "    </tr>\n",
       "  </thead>\n",
       "  <tbody>\n",
       "    <tr>\n",
       "      <th>0</th>\n",
       "      <td>0</td>\n",
       "      <td>0.000009</td>\n",
       "      <td>b1c0</td>\n",
       "      <td>1852</td>\n",
       "      <td>-5.045757</td>\n",
       "      <td>3.267641</td>\n",
       "      <td>1.000009</td>\n",
       "    </tr>\n",
       "    <tr>\n",
       "      <th>1</th>\n",
       "      <td>1</td>\n",
       "      <td>0.000011</td>\n",
       "      <td>b1c2</td>\n",
       "      <td>2237</td>\n",
       "      <td>-4.958607</td>\n",
       "      <td>3.349666</td>\n",
       "      <td>1.000011</td>\n",
       "    </tr>\n",
       "    <tr>\n",
       "      <th>2</th>\n",
       "      <td>2</td>\n",
       "      <td>0.000025</td>\n",
       "      <td>b1c4</td>\n",
       "      <td>1709</td>\n",
       "      <td>-4.602060</td>\n",
       "      <td>3.232742</td>\n",
       "      <td>1.000025</td>\n",
       "    </tr>\n",
       "    <tr>\n",
       "      <th>3</th>\n",
       "      <td>3</td>\n",
       "      <td>0.000169</td>\n",
       "      <td>b1c6</td>\n",
       "      <td>636</td>\n",
       "      <td>-3.772113</td>\n",
       "      <td>2.803457</td>\n",
       "      <td>1.000169</td>\n",
       "    </tr>\n",
       "    <tr>\n",
       "      <th>4</th>\n",
       "      <td>4</td>\n",
       "      <td>0.000105</td>\n",
       "      <td>b1c9</td>\n",
       "      <td>1054</td>\n",
       "      <td>-3.978811</td>\n",
       "      <td>3.022841</td>\n",
       "      <td>1.000105</td>\n",
       "    </tr>\n",
       "  </tbody>\n",
       "</table>\n",
       "</div>"
      ],
      "text/plain": [
       "   S_no  Variance cell_No  cycle  log_variance  log_cycle  exp_variance\n",
       "0     0  0.000009    b1c0   1852     -5.045757   3.267641      1.000009\n",
       "1     1  0.000011    b1c2   2237     -4.958607   3.349666      1.000011\n",
       "2     2  0.000025    b1c4   1709     -4.602060   3.232742      1.000025\n",
       "3     3  0.000169    b1c6    636     -3.772113   2.803457      1.000169\n",
       "4     4  0.000105    b1c9   1054     -3.978811   3.022841      1.000105"
      ]
     },
     "execution_count": 57,
     "metadata": {},
     "output_type": "execute_result"
    }
   ],
   "source": [
    "df_test.head()"
   ]
  },
  {
   "cell_type": "code",
   "execution_count": 58,
   "metadata": {},
   "outputs": [
    {
     "name": "stdout",
     "output_type": "stream",
     "text": [
      "<class 'pandas.core.frame.DataFrame'>\n",
      "RangeIndex: 42 entries, 0 to 41\n",
      "Data columns (total 7 columns):\n",
      " #   Column        Non-Null Count  Dtype  \n",
      "---  ------        --------------  -----  \n",
      " 0   S_no          42 non-null     int64  \n",
      " 1   Variance      42 non-null     float64\n",
      " 2   cell_No       42 non-null     object \n",
      " 3   cycle         42 non-null     int64  \n",
      " 4   log_variance  42 non-null     float64\n",
      " 5   log_cycle     42 non-null     float64\n",
      " 6   exp_variance  42 non-null     float64\n",
      "dtypes: float64(4), int64(2), object(1)\n",
      "memory usage: 2.4+ KB\n"
     ]
    }
   ],
   "source": [
    "df_test.info()"
   ]
  },
  {
   "cell_type": "code",
   "execution_count": 59,
   "metadata": {
    "scrolled": true
   },
   "outputs": [
    {
     "data": {
      "text/plain": [
       "S_no            42\n",
       "Variance        40\n",
       "cell_No         42\n",
       "cycle           41\n",
       "log_variance    40\n",
       "log_cycle       41\n",
       "exp_variance    40\n",
       "dtype: int64"
      ]
     },
     "execution_count": 59,
     "metadata": {},
     "output_type": "execute_result"
    }
   ],
   "source": [
    "df_test.nunique()"
   ]
  },
  {
   "cell_type": "code",
   "execution_count": 60,
   "metadata": {
    "scrolled": true
   },
   "outputs": [
    {
     "data": {
      "text/html": [
       "<div>\n",
       "<style scoped>\n",
       "    .dataframe tbody tr th:only-of-type {\n",
       "        vertical-align: middle;\n",
       "    }\n",
       "\n",
       "    .dataframe tbody tr th {\n",
       "        vertical-align: top;\n",
       "    }\n",
       "\n",
       "    .dataframe thead th {\n",
       "        text-align: right;\n",
       "    }\n",
       "</style>\n",
       "<table border=\"1\" class=\"dataframe\">\n",
       "  <thead>\n",
       "    <tr style=\"text-align: right;\">\n",
       "      <th></th>\n",
       "      <th>S_no</th>\n",
       "      <th>Variance</th>\n",
       "      <th>cycle</th>\n",
       "      <th>log_variance</th>\n",
       "      <th>log_cycle</th>\n",
       "      <th>exp_variance</th>\n",
       "    </tr>\n",
       "  </thead>\n",
       "  <tbody>\n",
       "    <tr>\n",
       "      <th>count</th>\n",
       "      <td>42.000000</td>\n",
       "      <td>42.000000</td>\n",
       "      <td>42.000000</td>\n",
       "      <td>42.000000</td>\n",
       "      <td>42.000000</td>\n",
       "      <td>42.000000</td>\n",
       "    </tr>\n",
       "    <tr>\n",
       "      <th>mean</th>\n",
       "      <td>21.000000</td>\n",
       "      <td>0.000234</td>\n",
       "      <td>722.642857</td>\n",
       "      <td>-3.760336</td>\n",
       "      <td>2.817021</td>\n",
       "      <td>1.000234</td>\n",
       "    </tr>\n",
       "    <tr>\n",
       "      <th>std</th>\n",
       "      <td>12.708745</td>\n",
       "      <td>0.000194</td>\n",
       "      <td>390.661030</td>\n",
       "      <td>0.393172</td>\n",
       "      <td>0.177777</td>\n",
       "      <td>0.000194</td>\n",
       "    </tr>\n",
       "    <tr>\n",
       "      <th>min</th>\n",
       "      <td>0.000000</td>\n",
       "      <td>0.000009</td>\n",
       "      <td>335.000000</td>\n",
       "      <td>-5.045757</td>\n",
       "      <td>2.525045</td>\n",
       "      <td>1.000009</td>\n",
       "    </tr>\n",
       "    <tr>\n",
       "      <th>25%</th>\n",
       "      <td>10.250000</td>\n",
       "      <td>0.000148</td>\n",
       "      <td>489.000000</td>\n",
       "      <td>-3.830489</td>\n",
       "      <td>2.689298</td>\n",
       "      <td>1.000148</td>\n",
       "    </tr>\n",
       "    <tr>\n",
       "      <th>50%</th>\n",
       "      <td>21.000000</td>\n",
       "      <td>0.000210</td>\n",
       "      <td>580.000000</td>\n",
       "      <td>-3.676847</td>\n",
       "      <td>2.763195</td>\n",
       "      <td>1.000211</td>\n",
       "    </tr>\n",
       "    <tr>\n",
       "      <th>75%</th>\n",
       "      <td>31.750000</td>\n",
       "      <td>0.000289</td>\n",
       "      <td>851.000000</td>\n",
       "      <td>-3.538838</td>\n",
       "      <td>2.929921</td>\n",
       "      <td>1.000289</td>\n",
       "    </tr>\n",
       "    <tr>\n",
       "      <th>max</th>\n",
       "      <td>42.000000</td>\n",
       "      <td>0.001240</td>\n",
       "      <td>2237.000000</td>\n",
       "      <td>-2.906578</td>\n",
       "      <td>3.349666</td>\n",
       "      <td>1.001241</td>\n",
       "    </tr>\n",
       "  </tbody>\n",
       "</table>\n",
       "</div>"
      ],
      "text/plain": [
       "            S_no   Variance        cycle  log_variance  log_cycle  \\\n",
       "count  42.000000  42.000000    42.000000     42.000000  42.000000   \n",
       "mean   21.000000   0.000234   722.642857     -3.760336   2.817021   \n",
       "std    12.708745   0.000194   390.661030      0.393172   0.177777   \n",
       "min     0.000000   0.000009   335.000000     -5.045757   2.525045   \n",
       "25%    10.250000   0.000148   489.000000     -3.830489   2.689298   \n",
       "50%    21.000000   0.000210   580.000000     -3.676847   2.763195   \n",
       "75%    31.750000   0.000289   851.000000     -3.538838   2.929921   \n",
       "max    42.000000   0.001240  2237.000000     -2.906578   3.349666   \n",
       "\n",
       "       exp_variance  \n",
       "count     42.000000  \n",
       "mean       1.000234  \n",
       "std        0.000194  \n",
       "min        1.000009  \n",
       "25%        1.000148  \n",
       "50%        1.000211  \n",
       "75%        1.000289  \n",
       "max        1.001241  "
      ]
     },
     "execution_count": 60,
     "metadata": {},
     "output_type": "execute_result"
    }
   ],
   "source": [
    "df_test.describe()"
   ]
  },
  {
   "cell_type": "code",
   "execution_count": 61,
   "metadata": {
    "scrolled": true
   },
   "outputs": [
    {
     "data": {
      "text/html": [
       "<div>\n",
       "<style scoped>\n",
       "    .dataframe tbody tr th:only-of-type {\n",
       "        vertical-align: middle;\n",
       "    }\n",
       "\n",
       "    .dataframe tbody tr th {\n",
       "        vertical-align: top;\n",
       "    }\n",
       "\n",
       "    .dataframe thead th {\n",
       "        text-align: right;\n",
       "    }\n",
       "</style>\n",
       "<table border=\"1\" class=\"dataframe\">\n",
       "  <thead>\n",
       "    <tr style=\"text-align: right;\">\n",
       "      <th></th>\n",
       "      <th>S_no</th>\n",
       "      <th>cell_no</th>\n",
       "      <th>variance</th>\n",
       "      <th>cycle</th>\n",
       "      <th>log_variance</th>\n",
       "      <th>log_cycle</th>\n",
       "    </tr>\n",
       "  </thead>\n",
       "  <tbody>\n",
       "    <tr>\n",
       "      <th>0</th>\n",
       "      <td>0</td>\n",
       "      <td>b3c0</td>\n",
       "      <td>0.000059</td>\n",
       "      <td>1009</td>\n",
       "      <td>-4.229148</td>\n",
       "      <td>3.003891</td>\n",
       "    </tr>\n",
       "    <tr>\n",
       "      <th>1</th>\n",
       "      <td>1</td>\n",
       "      <td>b3c1</td>\n",
       "      <td>0.000056</td>\n",
       "      <td>1063</td>\n",
       "      <td>-4.251812</td>\n",
       "      <td>3.026533</td>\n",
       "    </tr>\n",
       "    <tr>\n",
       "      <th>2</th>\n",
       "      <td>2</td>\n",
       "      <td>b3c3</td>\n",
       "      <td>0.000076</td>\n",
       "      <td>1115</td>\n",
       "      <td>-4.119186</td>\n",
       "      <td>3.047275</td>\n",
       "    </tr>\n",
       "    <tr>\n",
       "      <th>3</th>\n",
       "      <td>3</td>\n",
       "      <td>b3c4</td>\n",
       "      <td>0.000064</td>\n",
       "      <td>1048</td>\n",
       "      <td>-4.193820</td>\n",
       "      <td>3.020361</td>\n",
       "    </tr>\n",
       "    <tr>\n",
       "      <th>4</th>\n",
       "      <td>4</td>\n",
       "      <td>b3c5</td>\n",
       "      <td>0.000080</td>\n",
       "      <td>828</td>\n",
       "      <td>-4.096910</td>\n",
       "      <td>2.918030</td>\n",
       "    </tr>\n",
       "  </tbody>\n",
       "</table>\n",
       "</div>"
      ],
      "text/plain": [
       "   S_no cell_no  variance  cycle  log_variance  log_cycle\n",
       "0     0    b3c0  0.000059   1009     -4.229148   3.003891\n",
       "1     1    b3c1  0.000056   1063     -4.251812   3.026533\n",
       "2     2    b3c3  0.000076   1115     -4.119186   3.047275\n",
       "3     3    b3c4  0.000064   1048     -4.193820   3.020361\n",
       "4     4    b3c5  0.000080    828     -4.096910   2.918030"
      ]
     },
     "execution_count": 61,
     "metadata": {},
     "output_type": "execute_result"
    }
   ],
   "source": [
    "df_test_sec.head()"
   ]
  },
  {
   "cell_type": "code",
   "execution_count": 62,
   "metadata": {
    "scrolled": true
   },
   "outputs": [
    {
     "name": "stdout",
     "output_type": "stream",
     "text": [
      "<class 'pandas.core.frame.DataFrame'>\n",
      "RangeIndex: 40 entries, 0 to 39\n",
      "Data columns (total 6 columns):\n",
      " #   Column        Non-Null Count  Dtype  \n",
      "---  ------        --------------  -----  \n",
      " 0   S_no          40 non-null     int64  \n",
      " 1   cell_no       40 non-null     object \n",
      " 2   variance      40 non-null     float64\n",
      " 3   cycle         40 non-null     int64  \n",
      " 4   log_variance  40 non-null     float64\n",
      " 5   log_cycle     40 non-null     float64\n",
      "dtypes: float64(3), int64(2), object(1)\n",
      "memory usage: 2.0+ KB\n"
     ]
    }
   ],
   "source": [
    "df_test_sec.info()"
   ]
  },
  {
   "cell_type": "code",
   "execution_count": 63,
   "metadata": {},
   "outputs": [
    {
     "name": "stderr",
     "output_type": "stream",
     "text": [
      "C:\\Users\\satsin\\AppData\\Roaming\\Python\\Python38\\site-packages\\seaborn\\distributions.py:2619: FutureWarning: `distplot` is a deprecated function and will be removed in a future version. Please adapt your code to use either `displot` (a figure-level function with similar flexibility) or `histplot` (an axes-level function for histograms).\n",
      "  warnings.warn(msg, FutureWarning)\n"
     ]
    },
    {
     "data": {
      "image/png": "[encoded data removed]",
      "text/plain": [
       "<Figure size 432x288 with 1 Axes>"
      ]
     },
     "metadata": {
      "needs_background": "light"
     },
     "output_type": "display_data"
    }
   ],
   "source": [
    "sns.distplot(df_test_sec['log_cycle'])\n",
    "plt.axvline(df_test_sec['log_cycle'].mean(),color = 'r')\n",
    "plt.axvline(df_test_sec['log_cycle'].median(),color = 'g')\n",
    "plt.show()"
   ]
  },
  {
   "cell_type": "code",
   "execution_count": 64,
   "metadata": {},
   "outputs": [
    {
     "data": {
      "image/png": "[encoded data removed]",
      "text/plain": [
       "<Figure size 720x360 with 2 Axes>"
      ]
     },
     "metadata": {
      "needs_background": "light"
     },
     "output_type": "display_data"
    }
   ],
   "source": [
    "train = df_train.corr()\n",
    "plt.figure(figsize=(10,5))\n",
    "sns.heatmap(train, annot=True)\n",
    "plt.show()"
   ]
  },
  {
   "cell_type": "code",
   "execution_count": 65,
   "metadata": {},
   "outputs": [
    {
     "data": {
      "text/html": [
       "<div>\n",
       "<style scoped>\n",
       "    .dataframe tbody tr th:only-of-type {\n",
       "        vertical-align: middle;\n",
       "    }\n",
       "\n",
       "    .dataframe tbody tr th {\n",
       "        vertical-align: top;\n",
       "    }\n",
       "\n",
       "    .dataframe thead th {\n",
       "        text-align: right;\n",
       "    }\n",
       "</style>\n",
       "<table border=\"1\" class=\"dataframe\">\n",
       "  <thead>\n",
       "    <tr style=\"text-align: right;\">\n",
       "      <th></th>\n",
       "      <th>S_no</th>\n",
       "      <th>Variance</th>\n",
       "      <th>cycle</th>\n",
       "      <th>log_variance</th>\n",
       "      <th>log_cycle</th>\n",
       "      <th>exp_variance</th>\n",
       "    </tr>\n",
       "  </thead>\n",
       "  <tbody>\n",
       "    <tr>\n",
       "      <th>S_no</th>\n",
       "      <td>1.000000</td>\n",
       "      <td>0.285543</td>\n",
       "      <td>-0.705625</td>\n",
       "      <td>0.568418</td>\n",
       "      <td>-0.785799</td>\n",
       "      <td>0.285385</td>\n",
       "    </tr>\n",
       "    <tr>\n",
       "      <th>Variance</th>\n",
       "      <td>0.285543</td>\n",
       "      <td>1.000000</td>\n",
       "      <td>-0.485165</td>\n",
       "      <td>0.742728</td>\n",
       "      <td>-0.608840</td>\n",
       "      <td>1.000000</td>\n",
       "    </tr>\n",
       "    <tr>\n",
       "      <th>cycle</th>\n",
       "      <td>-0.705625</td>\n",
       "      <td>-0.485165</td>\n",
       "      <td>1.000000</td>\n",
       "      <td>-0.884550</td>\n",
       "      <td>0.955225</td>\n",
       "      <td>-0.485010</td>\n",
       "    </tr>\n",
       "    <tr>\n",
       "      <th>log_variance</th>\n",
       "      <td>0.568418</td>\n",
       "      <td>0.742728</td>\n",
       "      <td>-0.884550</td>\n",
       "      <td>1.000000</td>\n",
       "      <td>-0.867871</td>\n",
       "      <td>0.742568</td>\n",
       "    </tr>\n",
       "    <tr>\n",
       "      <th>log_cycle</th>\n",
       "      <td>-0.785799</td>\n",
       "      <td>-0.608840</td>\n",
       "      <td>0.955225</td>\n",
       "      <td>-0.867871</td>\n",
       "      <td>1.000000</td>\n",
       "      <td>-0.608701</td>\n",
       "    </tr>\n",
       "    <tr>\n",
       "      <th>exp_variance</th>\n",
       "      <td>0.285385</td>\n",
       "      <td>1.000000</td>\n",
       "      <td>-0.485010</td>\n",
       "      <td>0.742568</td>\n",
       "      <td>-0.608701</td>\n",
       "      <td>1.000000</td>\n",
       "    </tr>\n",
       "  </tbody>\n",
       "</table>\n",
       "</div>"
      ],
      "text/plain": [
       "                  S_no  Variance     cycle  log_variance  log_cycle  \\\n",
       "S_no          1.000000  0.285543 -0.705625      0.568418  -0.785799   \n",
       "Variance      0.285543  1.000000 -0.485165      0.742728  -0.608840   \n",
       "cycle        -0.705625 -0.485165  1.000000     -0.884550   0.955225   \n",
       "log_variance  0.568418  0.742728 -0.884550      1.000000  -0.867871   \n",
       "log_cycle    -0.785799 -0.608840  0.955225     -0.867871   1.000000   \n",
       "exp_variance  0.285385  1.000000 -0.485010      0.742568  -0.608701   \n",
       "\n",
       "              exp_variance  \n",
       "S_no              0.285385  \n",
       "Variance          1.000000  \n",
       "cycle            -0.485010  \n",
       "log_variance      0.742568  \n",
       "log_cycle        -0.608701  \n",
       "exp_variance      1.000000  "
      ]
     },
     "execution_count": 65,
     "metadata": {},
     "output_type": "execute_result"
    }
   ],
   "source": [
    "train"
   ]
  },
  {
   "cell_type": "code",
   "execution_count": 66,
   "metadata": {},
   "outputs": [
    {
     "data": {
      "image/png": "[encoded data removed]",
      "text/plain": [
       "<Figure size 720x360 with 2 Axes>"
      ]
     },
     "metadata": {
      "needs_background": "light"
     },
     "output_type": "display_data"
    }
   ],
   "source": [
    "test = df_test.corr()\n",
    "plt.figure(figsize=(10,5))\n",
    "sns.heatmap(test, annot=True)\n",
    "plt.show()"
   ]
  },
  {
   "cell_type": "code",
   "execution_count": 67,
   "metadata": {
    "scrolled": false
   },
   "outputs": [
    {
     "data": {
      "text/html": [
       "<div>\n",
       "<style scoped>\n",
       "    .dataframe tbody tr th:only-of-type {\n",
       "        vertical-align: middle;\n",
       "    }\n",
       "\n",
       "    .dataframe tbody tr th {\n",
       "        vertical-align: top;\n",
       "    }\n",
       "\n",
       "    .dataframe thead th {\n",
       "        text-align: right;\n",
       "    }\n",
       "</style>\n",
       "<table border=\"1\" class=\"dataframe\">\n",
       "  <thead>\n",
       "    <tr style=\"text-align: right;\">\n",
       "      <th></th>\n",
       "      <th>S_no</th>\n",
       "      <th>Variance</th>\n",
       "      <th>cycle</th>\n",
       "      <th>log_variance</th>\n",
       "      <th>log_cycle</th>\n",
       "      <th>exp_variance</th>\n",
       "    </tr>\n",
       "  </thead>\n",
       "  <tbody>\n",
       "    <tr>\n",
       "      <th>S_no</th>\n",
       "      <td>1.000000</td>\n",
       "      <td>0.311210</td>\n",
       "      <td>-0.678104</td>\n",
       "      <td>0.546240</td>\n",
       "      <td>-0.749475</td>\n",
       "      <td>0.311099</td>\n",
       "    </tr>\n",
       "    <tr>\n",
       "      <th>Variance</th>\n",
       "      <td>0.311210</td>\n",
       "      <td>1.000000</td>\n",
       "      <td>-0.530620</td>\n",
       "      <td>0.747177</td>\n",
       "      <td>-0.640043</td>\n",
       "      <td>1.000000</td>\n",
       "    </tr>\n",
       "    <tr>\n",
       "      <th>cycle</th>\n",
       "      <td>-0.678104</td>\n",
       "      <td>-0.530620</td>\n",
       "      <td>1.000000</td>\n",
       "      <td>-0.914876</td>\n",
       "      <td>0.964323</td>\n",
       "      <td>-0.530486</td>\n",
       "    </tr>\n",
       "    <tr>\n",
       "      <th>log_variance</th>\n",
       "      <td>0.546240</td>\n",
       "      <td>0.747177</td>\n",
       "      <td>-0.914876</td>\n",
       "      <td>1.000000</td>\n",
       "      <td>-0.906823</td>\n",
       "      <td>0.747052</td>\n",
       "    </tr>\n",
       "    <tr>\n",
       "      <th>log_cycle</th>\n",
       "      <td>-0.749475</td>\n",
       "      <td>-0.640043</td>\n",
       "      <td>0.964323</td>\n",
       "      <td>-0.906823</td>\n",
       "      <td>1.000000</td>\n",
       "      <td>-0.639918</td>\n",
       "    </tr>\n",
       "    <tr>\n",
       "      <th>exp_variance</th>\n",
       "      <td>0.311099</td>\n",
       "      <td>1.000000</td>\n",
       "      <td>-0.530486</td>\n",
       "      <td>0.747052</td>\n",
       "      <td>-0.639918</td>\n",
       "      <td>1.000000</td>\n",
       "    </tr>\n",
       "  </tbody>\n",
       "</table>\n",
       "</div>"
      ],
      "text/plain": [
       "                  S_no  Variance     cycle  log_variance  log_cycle  \\\n",
       "S_no          1.000000  0.311210 -0.678104      0.546240  -0.749475   \n",
       "Variance      0.311210  1.000000 -0.530620      0.747177  -0.640043   \n",
       "cycle        -0.678104 -0.530620  1.000000     -0.914876   0.964323   \n",
       "log_variance  0.546240  0.747177 -0.914876      1.000000  -0.906823   \n",
       "log_cycle    -0.749475 -0.640043  0.964323     -0.906823   1.000000   \n",
       "exp_variance  0.311099  1.000000 -0.530486      0.747052  -0.639918   \n",
       "\n",
       "              exp_variance  \n",
       "S_no              0.311099  \n",
       "Variance          1.000000  \n",
       "cycle            -0.530486  \n",
       "log_variance      0.747052  \n",
       "log_cycle        -0.639918  \n",
       "exp_variance      1.000000  "
      ]
     },
     "execution_count": 67,
     "metadata": {},
     "output_type": "execute_result"
    }
   ],
   "source": [
    "test"
   ]
  },
  {
   "cell_type": "code",
   "execution_count": 68,
   "metadata": {},
   "outputs": [
    {
     "data": {
      "image/png": "[encoded data removed]",
      "text/plain": [
       "<Figure size 720x360 with 2 Axes>"
      ]
     },
     "metadata": {
      "needs_background": "light"
     },
     "output_type": "display_data"
    }
   ],
   "source": [
    "test_sec = df_test_sec.corr()\n",
    "plt.figure(figsize=(10,5))\n",
    "sns.heatmap(test, annot=True)\n",
    "plt.show()"
   ]
  },
  {
   "cell_type": "code",
   "execution_count": 69,
   "metadata": {},
   "outputs": [
    {
     "data": {
      "text/html": [
       "<div>\n",
       "<style scoped>\n",
       "    .dataframe tbody tr th:only-of-type {\n",
       "        vertical-align: middle;\n",
       "    }\n",
       "\n",
       "    .dataframe tbody tr th {\n",
       "        vertical-align: top;\n",
       "    }\n",
       "\n",
       "    .dataframe thead th {\n",
       "        text-align: right;\n",
       "    }\n",
       "</style>\n",
       "<table border=\"1\" class=\"dataframe\">\n",
       "  <thead>\n",
       "    <tr style=\"text-align: right;\">\n",
       "      <th></th>\n",
       "      <th>S_no</th>\n",
       "      <th>variance</th>\n",
       "      <th>cycle</th>\n",
       "      <th>log_variance</th>\n",
       "      <th>log_cycle</th>\n",
       "    </tr>\n",
       "  </thead>\n",
       "  <tbody>\n",
       "    <tr>\n",
       "      <th>S_no</th>\n",
       "      <td>1.000000</td>\n",
       "      <td>-0.117500</td>\n",
       "      <td>0.096824</td>\n",
       "      <td>-0.167105</td>\n",
       "      <td>0.067706</td>\n",
       "    </tr>\n",
       "    <tr>\n",
       "      <th>variance</th>\n",
       "      <td>-0.117500</td>\n",
       "      <td>1.000000</td>\n",
       "      <td>-0.568491</td>\n",
       "      <td>0.912092</td>\n",
       "      <td>-0.674177</td>\n",
       "    </tr>\n",
       "    <tr>\n",
       "      <th>cycle</th>\n",
       "      <td>0.096824</td>\n",
       "      <td>-0.568491</td>\n",
       "      <td>1.000000</td>\n",
       "      <td>-0.739278</td>\n",
       "      <td>0.982545</td>\n",
       "    </tr>\n",
       "    <tr>\n",
       "      <th>log_variance</th>\n",
       "      <td>-0.167105</td>\n",
       "      <td>0.912092</td>\n",
       "      <td>-0.739278</td>\n",
       "      <td>1.000000</td>\n",
       "      <td>-0.802834</td>\n",
       "    </tr>\n",
       "    <tr>\n",
       "      <th>log_cycle</th>\n",
       "      <td>0.067706</td>\n",
       "      <td>-0.674177</td>\n",
       "      <td>0.982545</td>\n",
       "      <td>-0.802834</td>\n",
       "      <td>1.000000</td>\n",
       "    </tr>\n",
       "  </tbody>\n",
       "</table>\n",
       "</div>"
      ],
      "text/plain": [
       "                  S_no  variance     cycle  log_variance  log_cycle\n",
       "S_no          1.000000 -0.117500  0.096824     -0.167105   0.067706\n",
       "variance     -0.117500  1.000000 -0.568491      0.912092  -0.674177\n",
       "cycle         0.096824 -0.568491  1.000000     -0.739278   0.982545\n",
       "log_variance -0.167105  0.912092 -0.739278      1.000000  -0.802834\n",
       "log_cycle     0.067706 -0.674177  0.982545     -0.802834   1.000000"
      ]
     },
     "execution_count": 69,
     "metadata": {},
     "output_type": "execute_result"
    }
   ],
   "source": [
    "test_sec"
   ]
  },
  {
   "cell_type": "code",
   "execution_count": 70,
   "metadata": {
    "scrolled": false
   },
   "outputs": [
    {
     "data": {
      "image/png": "[encoded data removed]",
      "text/plain": [
       "<Figure size 432x288 with 1 Axes>"
      ]
     },
     "metadata": {
      "needs_background": "light"
     },
     "output_type": "display_data"
    }
   ],
   "source": [
    "plt.scatter((df_train['Variance']),df_train['cycle'])\n",
    "plt.xlabel('Variance(Qdlin)')\n",
    "plt.ylabel('Cycle_life')\n",
    "plt.title('Cycle life curve')\n",
    "plt.show()"
   ]
  },
  {
   "cell_type": "code",
   "execution_count": 71,
   "metadata": {},
   "outputs": [
    {
     "name": "stderr",
     "output_type": "stream",
     "text": [
      "C:\\Users\\satsin\\AppData\\Roaming\\Python\\Python38\\site-packages\\seaborn\\_decorators.py:36: FutureWarning: Pass the following variables as keyword args: x, y. From version 0.12, the only valid positional argument will be `data`, and passing other arguments without an explicit keyword will result in an error or misinterpretation.\n",
      "  warnings.warn(\n"
     ]
    },
    {
     "data": {
      "image/png": "[encoded data removed]",
      "text/plain": [
       "<Figure size 432x288 with 1 Axes>"
      ]
     },
     "metadata": {
      "needs_background": "light"
     },
     "output_type": "display_data"
    }
   ],
   "source": [
    "plt.scatter((df_train['log_variance']),df_train['cycle'])\n",
    "sns.regplot((df_train['log_variance']),df_train['cycle'])\n",
    "plt.xlabel('log Variance(Qdlin)')\n",
    "plt.ylabel('cycle')\n",
    "plt.title('Cycle life curve')\n",
    "plt.show()"
   ]
  },
  {
   "cell_type": "code",
   "execution_count": 72,
   "metadata": {},
   "outputs": [
    {
     "name": "stderr",
     "output_type": "stream",
     "text": [
      "C:\\Users\\satsin\\AppData\\Roaming\\Python\\Python38\\site-packages\\seaborn\\_decorators.py:36: FutureWarning: Pass the following variables as keyword args: x, y. From version 0.12, the only valid positional argument will be `data`, and passing other arguments without an explicit keyword will result in an error or misinterpretation.\n",
      "  warnings.warn(\n"
     ]
    },
    {
     "data": {
      "image/png": "[encoded data removed]",
      "text/plain": [
       "<Figure size 432x288 with 1 Axes>"
      ]
     },
     "metadata": {
      "needs_background": "light"
     },
     "output_type": "display_data"
    }
   ],
   "source": [
    "plt.scatter((df_train['log_variance']),df_train['log_cycle'])\n",
    "sns.regplot((df_train['log_variance']),df_train['log_cycle'])\n",
    "plt.xlabel('log Variance(Qdlin)')\n",
    "plt.ylabel('log_cycle')\n",
    "plt.title('Cycle life curve')\n",
    "plt.show()"
   ]
  },
  {
   "cell_type": "code",
   "execution_count": 73,
   "metadata": {
    "scrolled": false
   },
   "outputs": [
    {
     "name": "stderr",
     "output_type": "stream",
     "text": [
      "C:\\Users\\satsin\\AppData\\Roaming\\Python\\Python38\\site-packages\\seaborn\\_decorators.py:36: FutureWarning: Pass the following variables as keyword args: x, y. From version 0.12, the only valid positional argument will be `data`, and passing other arguments without an explicit keyword will result in an error or misinterpretation.\n",
      "  warnings.warn(\n"
     ]
    },
    {
     "data": {
      "image/png": "[encoded data removed]",
      "text/plain": [
       "<Figure size 432x288 with 1 Axes>"
      ]
     },
     "metadata": {
      "needs_background": "light"
     },
     "output_type": "display_data"
    }
   ],
   "source": [
    "plt.scatter((df_test['log_variance']),df_test['cycle'])\n",
    "sns.regplot((df_test['log_variance']),df_test['cycle'])\n",
    "plt.xlabel('log Variance(Qdlin)')\n",
    "plt.ylabel('Cycle_life')\n",
    "plt.title('Cycle life curve')\n",
    "plt.show()"
   ]
  },
  {
   "cell_type": "code",
   "execution_count": 74,
   "metadata": {},
   "outputs": [
    {
     "name": "stderr",
     "output_type": "stream",
     "text": [
      "C:\\Users\\satsin\\AppData\\Roaming\\Python\\Python38\\site-packages\\seaborn\\_decorators.py:36: FutureWarning: Pass the following variables as keyword args: x, y. From version 0.12, the only valid positional argument will be `data`, and passing other arguments without an explicit keyword will result in an error or misinterpretation.\n",
      "  warnings.warn(\n"
     ]
    },
    {
     "data": {
      "image/png": "[encoded data removed]",
      "text/plain": [
       "<Figure size 432x288 with 1 Axes>"
      ]
     },
     "metadata": {
      "needs_background": "light"
     },
     "output_type": "display_data"
    }
   ],
   "source": [
    "plt.scatter((df_test['log_variance']),df_test['log_cycle'])\n",
    "sns.regplot((df_test['log_variance']),df_test['log_cycle'])\n",
    "plt.xlabel('log Variance(Qdlin)')\n",
    "plt.ylabel('log Cycle_life')\n",
    "plt.title('Cycle life curve')\n",
    "plt.show()"
   ]
  },
  {
   "cell_type": "code",
   "execution_count": 75,
   "metadata": {
    "scrolled": true
   },
   "outputs": [
    {
     "name": "stderr",
     "output_type": "stream",
     "text": [
      "C:\\Users\\satsin\\AppData\\Roaming\\Python\\Python38\\site-packages\\seaborn\\_decorators.py:36: FutureWarning: Pass the following variables as keyword args: x, y. From version 0.12, the only valid positional argument will be `data`, and passing other arguments without an explicit keyword will result in an error or misinterpretation.\n",
      "  warnings.warn(\n"
     ]
    },
    {
     "data": {
      "image/png": "[encoded data removed]",
      "text/plain": [
       "<Figure size 432x288 with 1 Axes>"
      ]
     },
     "metadata": {
      "needs_background": "light"
     },
     "output_type": "display_data"
    }
   ],
   "source": [
    "plt.scatter((df_test_sec['log_variance']),df_test_sec['cycle'])\n",
    "sns.regplot((df_test_sec['log_variance']),df_test_sec['cycle'])\n",
    "plt.xlabel('log Variance(Qdlin)')\n",
    "plt.ylabel('Cycle_life')\n",
    "plt.title('Cycle life curve')\n",
    "plt.show()"
   ]
  },
  {
   "cell_type": "code",
   "execution_count": 76,
   "metadata": {},
   "outputs": [
    {
     "name": "stderr",
     "output_type": "stream",
     "text": [
      "C:\\Users\\satsin\\AppData\\Roaming\\Python\\Python38\\site-packages\\seaborn\\_decorators.py:36: FutureWarning: Pass the following variables as keyword args: x, y. From version 0.12, the only valid positional argument will be `data`, and passing other arguments without an explicit keyword will result in an error or misinterpretation.\n",
      "  warnings.warn(\n"
     ]
    },
    {
     "data": {
      "image/png": "[encoded data removed]",
      "text/plain": [
       "<Figure size 432x288 with 1 Axes>"
      ]
     },
     "metadata": {
      "needs_background": "light"
     },
     "output_type": "display_data"
    }
   ],
   "source": [
    "plt.scatter((df_test_sec['log_variance']),df_test_sec['log_cycle'])\n",
    "sns.regplot((df_test_sec['log_variance']),df_test_sec['log_cycle'])\n",
    "plt.xlabel('log Variance(Qdlin)')\n",
    "plt.ylabel('Cycle_life')\n",
    "plt.title('Cycle life curve')\n",
    "plt.show()"
   ]
  },
  {
   "cell_type": "code",
   "execution_count": 77,
   "metadata": {},
   "outputs": [],
   "source": [
    "#Check all the 4 assumption of linear regression:\n",
    "#Calcuclate R square\n",
    "#Sort the data in order\n",
    "#Sampling\n",
    "#Biasing\n",
    "#SKewness\n",
    "#box plot to see the outlair\n",
    "\n",
    "#linear regression:\n",
    "from sklearn.linear_model import LinearRegression"
   ]
  },
  {
   "cell_type": "code",
   "execution_count": 117,
   "metadata": {},
   "outputs": [],
   "source": [
    "X_train =df_train['log_variance'].values.reshape(-1,1) \n",
    "y_train =df_train['log_cycle'].values.reshape(-1,1) #Target Variable\n",
    "X_test = df_test['log_variance'].values.reshape(-1,1)\n",
    "y_test =df_test['log_cycle'].values.reshape(-1,1)\n",
    "y_test_1 =df_test['cycle'].values.reshape(-1,1)\n",
    "X_test_sec=df_test_sec['log_variance'].values.reshape(-1,1)\n",
    "y_test_sec=df_test_sec['log_cycle'].values.reshape(-1,1)\n",
    "y_test_sec_1=df_test_sec['cycle'].values.reshape(-1,1)"
   ]
  },
  {
   "cell_type": "code",
   "execution_count": 94,
   "metadata": {},
   "outputs": [],
   "source": [
    "linreg =LinearRegression()\n",
    "linreg.fit(X_train,y_train)\n",
    "y_pred_train = linreg.predict(X_train)\n",
    "y_pred = linreg.predict(X_test)\n",
    "y_pred_sec = linreg.predict(X_test_sec)\n",
    "y_train_pred = linreg.predict(X_train)"
   ]
  },
  {
   "cell_type": "code",
   "execution_count": 80,
   "metadata": {},
   "outputs": [],
   "source": [
    "def Matrix(y_test,y_pred):\n",
    "    import pandas as pd\n",
    "    from sklearn import metrics\n",
    "    from sklearn.metrics import r2_score\n",
    "    x = []\n",
    "    MSE = metrics.mean_squared_error(y_test,y_pred)\n",
    "    MAE = metrics.mean_absolute_error(y_test,y_pred)\n",
    "    RMSE= np.sqrt(metrics.mean_squared_error(y_test,y_pred))\n",
    "    MAPE=np.mean(np.abs((y_test - y_pred)/y_test))*100\n",
    "    R2_Score = r2_score(y_test,y_pred)\n",
    "    x.extend([MSE,MAE,RMSE,MAPE,R2_Score])\n",
    "    df = pd.DataFrame(x)\n",
    "    df1 = df.transpose()\n",
    "    df1.columns = ['MSE','MAE','RMSE','MAPE','R2_SCORE']\n",
    "    return(df1)"
   ]
  },
  {
   "cell_type": "code",
   "execution_count": 95,
   "metadata": {},
   "outputs": [
    {
     "data": {
      "text/html": [
       "<div>\n",
       "<style scoped>\n",
       "    .dataframe tbody tr th:only-of-type {\n",
       "        vertical-align: middle;\n",
       "    }\n",
       "\n",
       "    .dataframe tbody tr th {\n",
       "        vertical-align: top;\n",
       "    }\n",
       "\n",
       "    .dataframe thead th {\n",
       "        text-align: right;\n",
       "    }\n",
       "</style>\n",
       "<table border=\"1\" class=\"dataframe\">\n",
       "  <thead>\n",
       "    <tr style=\"text-align: right;\">\n",
       "      <th></th>\n",
       "      <th>MSE</th>\n",
       "      <th>MAE</th>\n",
       "      <th>RMSE</th>\n",
       "      <th>MAPE</th>\n",
       "      <th>R2_SCORE</th>\n",
       "    </tr>\n",
       "  </thead>\n",
       "  <tbody>\n",
       "    <tr>\n",
       "      <th>0</th>\n",
       "      <td>0.006443</td>\n",
       "      <td>0.068265</td>\n",
       "      <td>0.080268</td>\n",
       "      <td>2.454986</td>\n",
       "      <td>0.7532</td>\n",
       "    </tr>\n",
       "  </tbody>\n",
       "</table>\n",
       "</div>"
      ],
      "text/plain": [
       "        MSE       MAE      RMSE      MAPE  R2_SCORE\n",
       "0  0.006443  0.068265  0.080268  2.454986    0.7532"
      ]
     },
     "execution_count": 95,
     "metadata": {},
     "output_type": "execute_result"
    }
   ],
   "source": [
    "Matrix(y_train,y_train_pred)"
   ]
  },
  {
   "cell_type": "code",
   "execution_count": 81,
   "metadata": {
    "scrolled": false
   },
   "outputs": [
    {
     "data": {
      "text/html": [
       "<div>\n",
       "<style scoped>\n",
       "    .dataframe tbody tr th:only-of-type {\n",
       "        vertical-align: middle;\n",
       "    }\n",
       "\n",
       "    .dataframe tbody tr th {\n",
       "        vertical-align: top;\n",
       "    }\n",
       "\n",
       "    .dataframe thead th {\n",
       "        text-align: right;\n",
       "    }\n",
       "</style>\n",
       "<table border=\"1\" class=\"dataframe\">\n",
       "  <thead>\n",
       "    <tr style=\"text-align: right;\">\n",
       "      <th></th>\n",
       "      <th>MSE</th>\n",
       "      <th>MAE</th>\n",
       "      <th>RMSE</th>\n",
       "      <th>MAPE</th>\n",
       "      <th>R2_SCORE</th>\n",
       "    </tr>\n",
       "  </thead>\n",
       "  <tbody>\n",
       "    <tr>\n",
       "      <th>0</th>\n",
       "      <td>0.00572</td>\n",
       "      <td>0.065101</td>\n",
       "      <td>0.075629</td>\n",
       "      <td>2.315775</td>\n",
       "      <td>0.814606</td>\n",
       "    </tr>\n",
       "  </tbody>\n",
       "</table>\n",
       "</div>"
      ],
      "text/plain": [
       "       MSE       MAE      RMSE      MAPE  R2_SCORE\n",
       "0  0.00572  0.065101  0.075629  2.315775  0.814606"
      ]
     },
     "execution_count": 81,
     "metadata": {},
     "output_type": "execute_result"
    }
   ],
   "source": [
    "Matrix(y_test,y_pred)"
   ]
  },
  {
   "cell_type": "code",
   "execution_count": 82,
   "metadata": {
    "scrolled": true
   },
   "outputs": [
    {
     "data": {
      "text/html": [
       "<div>\n",
       "<style scoped>\n",
       "    .dataframe tbody tr th:only-of-type {\n",
       "        vertical-align: middle;\n",
       "    }\n",
       "\n",
       "    .dataframe tbody tr th {\n",
       "        vertical-align: top;\n",
       "    }\n",
       "\n",
       "    .dataframe thead th {\n",
       "        text-align: right;\n",
       "    }\n",
       "</style>\n",
       "<table border=\"1\" class=\"dataframe\">\n",
       "  <thead>\n",
       "    <tr style=\"text-align: right;\">\n",
       "      <th></th>\n",
       "      <th>MSE</th>\n",
       "      <th>MAE</th>\n",
       "      <th>RMSE</th>\n",
       "      <th>MAPE</th>\n",
       "      <th>R2_SCORE</th>\n",
       "    </tr>\n",
       "  </thead>\n",
       "  <tbody>\n",
       "    <tr>\n",
       "      <th>0</th>\n",
       "      <td>0.005469</td>\n",
       "      <td>0.055352</td>\n",
       "      <td>0.073954</td>\n",
       "      <td>1.820297</td>\n",
       "      <td>0.586757</td>\n",
       "    </tr>\n",
       "  </tbody>\n",
       "</table>\n",
       "</div>"
      ],
      "text/plain": [
       "        MSE       MAE      RMSE      MAPE  R2_SCORE\n",
       "0  0.005469  0.055352  0.073954  1.820297  0.586757"
      ]
     },
     "execution_count": 82,
     "metadata": {},
     "output_type": "execute_result"
    }
   ],
   "source": [
    "Matrix(y_test_sec,y_pred_sec)"
   ]
  },
  {
   "cell_type": "code",
   "execution_count": 96,
   "metadata": {},
   "outputs": [],
   "source": [
    "y_pred_1 = 10**y_pred\n",
    "y_pred_sec_1 = 10**y_pred_sec\n",
    "y_train_pred_1 = 10**y_train_pred\n",
    "y_train_1 = 10**y_train"
   ]
  },
  {
   "cell_type": "code",
   "execution_count": 97,
   "metadata": {},
   "outputs": [
    {
     "data": {
      "text/html": [
       "<div>\n",
       "<style scoped>\n",
       "    .dataframe tbody tr th:only-of-type {\n",
       "        vertical-align: middle;\n",
       "    }\n",
       "\n",
       "    .dataframe tbody tr th {\n",
       "        vertical-align: top;\n",
       "    }\n",
       "\n",
       "    .dataframe thead th {\n",
       "        text-align: right;\n",
       "    }\n",
       "</style>\n",
       "<table border=\"1\" class=\"dataframe\">\n",
       "  <thead>\n",
       "    <tr style=\"text-align: right;\">\n",
       "      <th></th>\n",
       "      <th>MSE</th>\n",
       "      <th>MAE</th>\n",
       "      <th>RMSE</th>\n",
       "      <th>MAPE</th>\n",
       "      <th>R2_SCORE</th>\n",
       "    </tr>\n",
       "  </thead>\n",
       "  <tbody>\n",
       "    <tr>\n",
       "      <th>0</th>\n",
       "      <td>15021.806145</td>\n",
       "      <td>102.28805</td>\n",
       "      <td>122.563478</td>\n",
       "      <td>16.107241</td>\n",
       "      <td>0.85613</td>\n",
       "    </tr>\n",
       "  </tbody>\n",
       "</table>\n",
       "</div>"
      ],
      "text/plain": [
       "            MSE        MAE        RMSE       MAPE  R2_SCORE\n",
       "0  15021.806145  102.28805  122.563478  16.107241   0.85613"
      ]
     },
     "execution_count": 97,
     "metadata": {},
     "output_type": "execute_result"
    }
   ],
   "source": [
    "Matrix(y_train_1,y_train_pred_1)"
   ]
  },
  {
   "cell_type": "code",
   "execution_count": 84,
   "metadata": {},
   "outputs": [
    {
     "data": {
      "text/html": [
       "<div>\n",
       "<style scoped>\n",
       "    .dataframe tbody tr th:only-of-type {\n",
       "        vertical-align: middle;\n",
       "    }\n",
       "\n",
       "    .dataframe tbody tr th {\n",
       "        vertical-align: top;\n",
       "    }\n",
       "\n",
       "    .dataframe thead th {\n",
       "        text-align: right;\n",
       "    }\n",
       "</style>\n",
       "<table border=\"1\" class=\"dataframe\">\n",
       "  <thead>\n",
       "    <tr style=\"text-align: right;\">\n",
       "      <th></th>\n",
       "      <th>MSE</th>\n",
       "      <th>MAE</th>\n",
       "      <th>RMSE</th>\n",
       "      <th>MAPE</th>\n",
       "      <th>R2_SCORE</th>\n",
       "    </tr>\n",
       "  </thead>\n",
       "  <tbody>\n",
       "    <tr>\n",
       "      <th>0</th>\n",
       "      <td>18624.803027</td>\n",
       "      <td>109.299685</td>\n",
       "      <td>136.472719</td>\n",
       "      <td>15.410926</td>\n",
       "      <td>0.874986</td>\n",
       "    </tr>\n",
       "  </tbody>\n",
       "</table>\n",
       "</div>"
      ],
      "text/plain": [
       "            MSE         MAE        RMSE       MAPE  R2_SCORE\n",
       "0  18624.803027  109.299685  136.472719  15.410926  0.874986"
      ]
     },
     "execution_count": 84,
     "metadata": {},
     "output_type": "execute_result"
    }
   ],
   "source": [
    "Matrix(y_test_1,y_pred_1)"
   ]
  },
  {
   "cell_type": "code",
   "execution_count": 85,
   "metadata": {
    "scrolled": false
   },
   "outputs": [
    {
     "data": {
      "text/html": [
       "<div>\n",
       "<style scoped>\n",
       "    .dataframe tbody tr th:only-of-type {\n",
       "        vertical-align: middle;\n",
       "    }\n",
       "\n",
       "    .dataframe tbody tr th {\n",
       "        vertical-align: top;\n",
       "    }\n",
       "\n",
       "    .dataframe thead th {\n",
       "        text-align: right;\n",
       "    }\n",
       "</style>\n",
       "<table border=\"1\" class=\"dataframe\">\n",
       "  <thead>\n",
       "    <tr style=\"text-align: right;\">\n",
       "      <th></th>\n",
       "      <th>MSE</th>\n",
       "      <th>MAE</th>\n",
       "      <th>RMSE</th>\n",
       "      <th>MAPE</th>\n",
       "      <th>R2_SCORE</th>\n",
       "    </tr>\n",
       "  </thead>\n",
       "  <tbody>\n",
       "    <tr>\n",
       "      <th>0</th>\n",
       "      <td>45301.363377</td>\n",
       "      <td>137.782936</td>\n",
       "      <td>212.841169</td>\n",
       "      <td>11.956076</td>\n",
       "      <td>0.512113</td>\n",
       "    </tr>\n",
       "  </tbody>\n",
       "</table>\n",
       "</div>"
      ],
      "text/plain": [
       "            MSE         MAE        RMSE       MAPE  R2_SCORE\n",
       "0  45301.363377  137.782936  212.841169  11.956076  0.512113"
      ]
     },
     "execution_count": 85,
     "metadata": {},
     "output_type": "execute_result"
    }
   ],
   "source": [
    "Matrix(y_test_sec_1,y_pred_sec_1)"
   ]
  },
  {
   "cell_type": "code",
   "execution_count": 150,
   "metadata": {},
   "outputs": [],
   "source": [
    "y_pred_2 = pd.DataFrame(y_pred_1)\n",
    "y_pred_2.to_csv(\"C:/Users/satsin/Desktop/Battery life/Linreg_y_pred.csv\")"
   ]
  },
  {
   "cell_type": "code",
   "execution_count": 147,
   "metadata": {},
   "outputs": [
    {
     "data": {
      "image/png": "[encoded data removed]",
      "text/plain": [
       "<Figure size 432x288 with 1 Axes>"
      ]
     },
     "metadata": {
      "needs_background": "light"
     },
     "output_type": "display_data"
    },
    {
     "data": {
      "text/plain": [
       "<Figure size 432x288 with 0 Axes>"
      ]
     },
     "metadata": {},
     "output_type": "display_data"
    }
   ],
   "source": [
    "plt.scatter(y_test_1,y_pred_1,color='g')\n",
    "#plt.scatter(y_pred_sec,X_test_sec,color='g')\n",
    "sns.regplot(y_test_1,y_test_1,color='r')\n",
    "plt.xlabel('y_test')\n",
    "plt.ylabel('y_pred')\n",
    "plt.title('Cycle life Prediction curve')\n",
    "plt.show()\n",
    "plt.savefig(\"y_test_pred.jpg\")"
   ]
  },
  {
   "cell_type": "code",
   "execution_count": 181,
   "metadata": {},
   "outputs": [
    {
     "name": "stdout",
     "output_type": "stream",
     "text": [
      "Mean MAE: 0.074 (0.013)\n"
     ]
    },
    {
     "name": "stderr",
     "output_type": "stream",
     "text": [
      "C:\\Program Files\\Anaconda3\\lib\\site-packages\\sklearn\\utils\\validation.py:73: DataConversionWarning: A column-vector y was passed when a 1d array was expected. Please change the shape of y to (n_samples, ), for example using ravel().\n",
      "  return f(**kwargs)\n"
     ]
    }
   ],
   "source": [
    "from numpy import mean\n",
    "from numpy import std\n",
    "from numpy import absolute\n",
    "from sklearn.datasets import make_regression\n",
    "from sklearn.linear_model import TheilSenRegressor\n",
    "from sklearn.linear_model import RANSACRegressor\n",
    "from sklearn.linear_model import HuberRegressor\n",
    "from sklearn.model_selection import cross_val_score\n",
    "from sklearn.model_selection import RepeatedKFold\n",
    "from matplotlib import pyplot\n",
    " \n",
    "# evaluate a model\n",
    "def evaluate_model(X, y, model):\n",
    "\t# define model evaluation method\n",
    "\tcv = RepeatedKFold(n_splits=4, n_repeats=3, random_state=1)\n",
    "\t# evaluate model\n",
    "\tscores = cross_val_score(model, X, y, scoring='neg_mean_absolute_error', cv=cv, n_jobs=-1)\n",
    "\t# force scores to be positive\n",
    "\treturn absolute(scores)\n",
    "\n",
    "# define the model\n",
    "model = TheilSenRegressor()\n",
    "# evaluate model\n",
    "results = evaluate_model(X_train, y_train, model)\n",
    "model.fit(X_train, y_train)\n",
    "y_pred_ro = model.predict(X_test)\n",
    "y_pred_sec_ro = model.predict(X_test_sec)\n",
    "print('Mean MAE: %.3f (%.3f)' % (mean(results), std(results)))\n",
    "# plot the line of best fit\n",
    "#plot_best_fit(X_train, y_train, model)"
   ]
  },
  {
   "cell_type": "code",
   "execution_count": 182,
   "metadata": {},
   "outputs": [],
   "source": [
    "y_pred_ro_1 = 10**y_pred_ro\n",
    "y_pred_sec_ro_1 = 10**y_pred_sec_ro"
   ]
  },
  {
   "cell_type": "code",
   "execution_count": 162,
   "metadata": {},
   "outputs": [],
   "source": [
    "y_pred_ro_huber = pd.DataFrame(y_pred_ro_1)\n",
    "y_pred_ro_huber.to_csv(\"C:/Users/satsin/Desktop/Battery life/RANSACRegressor.csv\")"
   ]
  },
  {
   "cell_type": "code",
   "execution_count": 183,
   "metadata": {
    "scrolled": true
   },
   "outputs": [
    {
     "data": {
      "text/plain": [
       "array([2040.57711295, 1896.94175388, 1407.23789319,  702.25062381,\n",
       "        834.97582382,  886.72583169,  926.01285447,  641.21107196,\n",
       "        498.73767427,  872.65927803,  846.85537543,  738.79330045,\n",
       "        733.38432091,  700.74528138,  643.37423571,  694.84254739,\n",
       "        639.07492734,  562.53556805,  897.85425592,  642.28923951,\n",
       "        524.50447451,  294.54996436,  340.1514039 ,  602.94352606,\n",
       "        613.52208878,  497.07235543,  554.84223489,  683.57416774,\n",
       "        600.40370331,  591.4223361 ,  708.39569881,  585.96171839,\n",
       "        718.00447797,  682.21313474,  653.45932098,  694.84254739,\n",
       "        562.53556805,  593.01795303,  574.86772811,  574.15574667,\n",
       "        539.99926823,  494.61297444,  901.68203001])"
      ]
     },
     "execution_count": 183,
     "metadata": {},
     "output_type": "execute_result"
    }
   ],
   "source": [
    "y_pred_ro_1"
   ]
  },
  {
   "cell_type": "code",
   "execution_count": 184,
   "metadata": {},
   "outputs": [],
   "source": [
    "y_pred_hub = []\n",
    "for i in y_pred_ro_1:\n",
    "    y_pred_hub.append([i])"
   ]
  },
  {
   "cell_type": "code",
   "execution_count": 185,
   "metadata": {},
   "outputs": [
    {
     "data": {
      "text/html": [
       "<div>\n",
       "<style scoped>\n",
       "    .dataframe tbody tr th:only-of-type {\n",
       "        vertical-align: middle;\n",
       "    }\n",
       "\n",
       "    .dataframe tbody tr th {\n",
       "        vertical-align: top;\n",
       "    }\n",
       "\n",
       "    .dataframe thead th {\n",
       "        text-align: right;\n",
       "    }\n",
       "</style>\n",
       "<table border=\"1\" class=\"dataframe\">\n",
       "  <thead>\n",
       "    <tr style=\"text-align: right;\">\n",
       "      <th></th>\n",
       "      <th>MSE</th>\n",
       "      <th>MAE</th>\n",
       "      <th>RMSE</th>\n",
       "      <th>MAPE</th>\n",
       "      <th>R2_SCORE</th>\n",
       "    </tr>\n",
       "  </thead>\n",
       "  <tbody>\n",
       "    <tr>\n",
       "      <th>0</th>\n",
       "      <td>19177.739739</td>\n",
       "      <td>113.180915</td>\n",
       "      <td>138.483717</td>\n",
       "      <td>18.592642</td>\n",
       "      <td>0.87467</td>\n",
       "    </tr>\n",
       "  </tbody>\n",
       "</table>\n",
       "</div>"
      ],
      "text/plain": [
       "            MSE         MAE        RMSE       MAPE  R2_SCORE\n",
       "0  19177.739739  113.180915  138.483717  18.592642   0.87467"
      ]
     },
     "execution_count": 185,
     "metadata": {},
     "output_type": "execute_result"
    }
   ],
   "source": [
    "#Huber Regression\n",
    "Matrix(y_test_1,y_pred_hub)"
   ]
  },
  {
   "cell_type": "code",
   "execution_count": 137,
   "metadata": {},
   "outputs": [
    {
     "data": {
      "text/html": [
       "<div>\n",
       "<style scoped>\n",
       "    .dataframe tbody tr th:only-of-type {\n",
       "        vertical-align: middle;\n",
       "    }\n",
       "\n",
       "    .dataframe tbody tr th {\n",
       "        vertical-align: top;\n",
       "    }\n",
       "\n",
       "    .dataframe thead th {\n",
       "        text-align: right;\n",
       "    }\n",
       "</style>\n",
       "<table border=\"1\" class=\"dataframe\">\n",
       "  <thead>\n",
       "    <tr style=\"text-align: right;\">\n",
       "      <th></th>\n",
       "      <th>MSE</th>\n",
       "      <th>MAE</th>\n",
       "      <th>RMSE</th>\n",
       "      <th>MAPE</th>\n",
       "      <th>R2_SCORE</th>\n",
       "    </tr>\n",
       "  </thead>\n",
       "  <tbody>\n",
       "    <tr>\n",
       "      <th>0</th>\n",
       "      <td>42751.20633</td>\n",
       "      <td>133.075825</td>\n",
       "      <td>206.763648</td>\n",
       "      <td>25.072978</td>\n",
       "      <td>0.539578</td>\n",
       "    </tr>\n",
       "  </tbody>\n",
       "</table>\n",
       "</div>"
      ],
      "text/plain": [
       "           MSE         MAE        RMSE       MAPE  R2_SCORE\n",
       "0  42751.20633  133.075825  206.763648  25.072978  0.539578"
      ]
     },
     "execution_count": 137,
     "metadata": {},
     "output_type": "execute_result"
    }
   ],
   "source": [
    "Matrix(y_test_sec_1,y_pred_sec_ro_1)"
   ]
  },
  {
   "cell_type": "code",
   "execution_count": 131,
   "metadata": {},
   "outputs": [
    {
     "data": {
      "text/html": [
       "<div>\n",
       "<style scoped>\n",
       "    .dataframe tbody tr th:only-of-type {\n",
       "        vertical-align: middle;\n",
       "    }\n",
       "\n",
       "    .dataframe tbody tr th {\n",
       "        vertical-align: top;\n",
       "    }\n",
       "\n",
       "    .dataframe thead th {\n",
       "        text-align: right;\n",
       "    }\n",
       "</style>\n",
       "<table border=\"1\" class=\"dataframe\">\n",
       "  <thead>\n",
       "    <tr style=\"text-align: right;\">\n",
       "      <th></th>\n",
       "      <th>MSE</th>\n",
       "      <th>MAE</th>\n",
       "      <th>RMSE</th>\n",
       "      <th>MAPE</th>\n",
       "      <th>R2_SCORE</th>\n",
       "    </tr>\n",
       "  </thead>\n",
       "  <tbody>\n",
       "    <tr>\n",
       "      <th>0</th>\n",
       "      <td>19177.739739</td>\n",
       "      <td>113.180915</td>\n",
       "      <td>138.483717</td>\n",
       "      <td>53.66393</td>\n",
       "      <td>0.87467</td>\n",
       "    </tr>\n",
       "  </tbody>\n",
       "</table>\n",
       "</div>"
      ],
      "text/plain": [
       "            MSE         MAE        RMSE      MAPE  R2_SCORE\n",
       "0  19177.739739  113.180915  138.483717  53.66393   0.87467"
      ]
     },
     "execution_count": 131,
     "metadata": {},
     "output_type": "execute_result"
    }
   ],
   "source": [
    "#TheilSenRegressor\n",
    "Matrix(y_test_1,y_pred_ro_1)"
   ]
  },
  {
   "cell_type": "code",
   "execution_count": 132,
   "metadata": {},
   "outputs": [
    {
     "data": {
      "text/html": [
       "<div>\n",
       "<style scoped>\n",
       "    .dataframe tbody tr th:only-of-type {\n",
       "        vertical-align: middle;\n",
       "    }\n",
       "\n",
       "    .dataframe tbody tr th {\n",
       "        vertical-align: top;\n",
       "    }\n",
       "\n",
       "    .dataframe thead th {\n",
       "        text-align: right;\n",
       "    }\n",
       "</style>\n",
       "<table border=\"1\" class=\"dataframe\">\n",
       "  <thead>\n",
       "    <tr style=\"text-align: right;\">\n",
       "      <th></th>\n",
       "      <th>MSE</th>\n",
       "      <th>MAE</th>\n",
       "      <th>RMSE</th>\n",
       "      <th>MAPE</th>\n",
       "      <th>R2_SCORE</th>\n",
       "    </tr>\n",
       "  </thead>\n",
       "  <tbody>\n",
       "    <tr>\n",
       "      <th>0</th>\n",
       "      <td>42240.158527</td>\n",
       "      <td>130.774375</td>\n",
       "      <td>205.524107</td>\n",
       "      <td>24.950388</td>\n",
       "      <td>0.545082</td>\n",
       "    </tr>\n",
       "  </tbody>\n",
       "</table>\n",
       "</div>"
      ],
      "text/plain": [
       "            MSE         MAE        RMSE       MAPE  R2_SCORE\n",
       "0  42240.158527  130.774375  205.524107  24.950388  0.545082"
      ]
     },
     "execution_count": 132,
     "metadata": {},
     "output_type": "execute_result"
    }
   ],
   "source": [
    "Matrix(y_test_sec_1,y_pred_sec_ro_1)"
   ]
  },
  {
   "cell_type": "code",
   "execution_count": 73,
   "metadata": {},
   "outputs": [
    {
     "data": {
      "text/html": [
       "<div>\n",
       "<style scoped>\n",
       "    .dataframe tbody tr th:only-of-type {\n",
       "        vertical-align: middle;\n",
       "    }\n",
       "\n",
       "    .dataframe tbody tr th {\n",
       "        vertical-align: top;\n",
       "    }\n",
       "\n",
       "    .dataframe thead th {\n",
       "        text-align: right;\n",
       "    }\n",
       "</style>\n",
       "<table border=\"1\" class=\"dataframe\">\n",
       "  <thead>\n",
       "    <tr style=\"text-align: right;\">\n",
       "      <th></th>\n",
       "      <th>MSE</th>\n",
       "      <th>MAE</th>\n",
       "      <th>RMSE</th>\n",
       "      <th>MAPE</th>\n",
       "      <th>R2_SCORE</th>\n",
       "    </tr>\n",
       "  </thead>\n",
       "  <tbody>\n",
       "    <tr>\n",
       "      <th>0</th>\n",
       "      <td>21234.921749</td>\n",
       "      <td>119.535463</td>\n",
       "      <td>145.72207</td>\n",
       "      <td>20.365683</td>\n",
       "      <td>0.861226</td>\n",
       "    </tr>\n",
       "  </tbody>\n",
       "</table>\n",
       "</div>"
      ],
      "text/plain": [
       "            MSE         MAE       RMSE       MAPE  R2_SCORE\n",
       "0  21234.921749  119.535463  145.72207  20.365683  0.861226"
      ]
     },
     "execution_count": 73,
     "metadata": {},
     "output_type": "execute_result"
    }
   ],
   "source": [
    "#RANSACRegressor\n",
    "Matrix(y_test_1,y_pred_ro_1)"
   ]
  },
  {
   "cell_type": "code",
   "execution_count": 74,
   "metadata": {
    "scrolled": true
   },
   "outputs": [
    {
     "data": {
      "text/html": [
       "<div>\n",
       "<style scoped>\n",
       "    .dataframe tbody tr th:only-of-type {\n",
       "        vertical-align: middle;\n",
       "    }\n",
       "\n",
       "    .dataframe tbody tr th {\n",
       "        vertical-align: top;\n",
       "    }\n",
       "\n",
       "    .dataframe thead th {\n",
       "        text-align: right;\n",
       "    }\n",
       "</style>\n",
       "<table border=\"1\" class=\"dataframe\">\n",
       "  <thead>\n",
       "    <tr style=\"text-align: right;\">\n",
       "      <th></th>\n",
       "      <th>MSE</th>\n",
       "      <th>MAE</th>\n",
       "      <th>RMSE</th>\n",
       "      <th>MAPE</th>\n",
       "      <th>R2_SCORE</th>\n",
       "    </tr>\n",
       "  </thead>\n",
       "  <tbody>\n",
       "    <tr>\n",
       "      <th>0</th>\n",
       "      <td>42373.158088</td>\n",
       "      <td>130.802276</td>\n",
       "      <td>205.847415</td>\n",
       "      <td>11.38703</td>\n",
       "      <td>0.543649</td>\n",
       "    </tr>\n",
       "  </tbody>\n",
       "</table>\n",
       "</div>"
      ],
      "text/plain": [
       "            MSE         MAE        RMSE      MAPE  R2_SCORE\n",
       "0  42373.158088  130.802276  205.847415  11.38703  0.543649"
      ]
     },
     "execution_count": 74,
     "metadata": {},
     "output_type": "execute_result"
    }
   ],
   "source": [
    "Matrix(y_test_sec_1,y_pred_sec_ro_1)"
   ]
  },
  {
   "cell_type": "code",
   "execution_count": 138,
   "metadata": {},
   "outputs": [
    {
     "data": {
      "image/png": "[encoded data removed]",
      "text/plain": [
       "<Figure size 432x288 with 1 Axes>"
      ]
     },
     "metadata": {
      "needs_background": "light"
     },
     "output_type": "display_data"
    },
    {
     "data": {
      "text/plain": [
       "<Figure size 432x288 with 0 Axes>"
      ]
     },
     "metadata": {},
     "output_type": "display_data"
    }
   ],
   "source": [
    "plt.scatter(y_test_1,y_pred_ro_1,color='g')\n",
    "#plt.scatter(y_pred_sec,X_test_sec,color='g')\n",
    "sns.regplot(y_test_1,y_test_1,color='r')\n",
    "plt.xlabel('y_test')\n",
    "plt.ylabel('y_pred')\n",
    "plt.title('Cycle life Prediction curve')\n",
    "plt.show()\n",
    "plt.savefig(\"y_test_pred.jpg\")"
   ]
  },
  {
   "cell_type": "code",
   "execution_count": 39,
   "metadata": {
    "scrolled": false
   },
   "outputs": [
    {
     "data": {
      "text/html": [
       "<div>\n",
       "<style scoped>\n",
       "    .dataframe tbody tr th:only-of-type {\n",
       "        vertical-align: middle;\n",
       "    }\n",
       "\n",
       "    .dataframe tbody tr th {\n",
       "        vertical-align: top;\n",
       "    }\n",
       "\n",
       "    .dataframe thead th {\n",
       "        text-align: right;\n",
       "    }\n",
       "</style>\n",
       "<table border=\"1\" class=\"dataframe\">\n",
       "  <thead>\n",
       "    <tr style=\"text-align: right;\">\n",
       "      <th></th>\n",
       "      <th>MSE</th>\n",
       "      <th>MAE</th>\n",
       "      <th>RMSE</th>\n",
       "      <th>MAPE</th>\n",
       "      <th>R2_SCORE</th>\n",
       "    </tr>\n",
       "  </thead>\n",
       "  <tbody>\n",
       "    <tr>\n",
       "      <th>0</th>\n",
       "      <td>20687.807606</td>\n",
       "      <td>111.079335</td>\n",
       "      <td>143.832568</td>\n",
       "      <td>18.967323</td>\n",
       "      <td>0.801865</td>\n",
       "    </tr>\n",
       "  </tbody>\n",
       "</table>\n",
       "</div>"
      ],
      "text/plain": [
       "            MSE         MAE        RMSE       MAPE  R2_SCORE\n",
       "0  20687.807606  111.079335  143.832568  18.967323  0.801865"
      ]
     },
     "execution_count": 39,
     "metadata": {},
     "output_type": "execute_result"
    }
   ],
   "source": [
    "len(y_train)\n",
    "Matrix(y_train,y_pred_train)"
   ]
  },
  {
   "cell_type": "code",
   "execution_count": 41,
   "metadata": {},
   "outputs": [
    {
     "data": {
      "text/plain": [
       "0.8018647880883822"
      ]
     },
     "execution_count": 41,
     "metadata": {},
     "output_type": "execute_result"
    }
   ],
   "source": [
    "linreg.score(X_train,y_train)"
   ]
  },
  {
   "cell_type": "code",
   "execution_count": null,
   "metadata": {},
   "outputs": [],
   "source": [
    "plt.plot(y_pred,y_pred_train,color='r')\n",
    "#plt.plot(y_pred,df_test['variance'],color='g')\n",
    "plt.xlabel('y')\n",
    "plt.ylabel('X')\n",
    "plt.title('Cycle life Prediction curve')\n",
    "plt.show()"
   ]
  },
  {
   "cell_type": "code",
   "execution_count": 86,
   "metadata": {
    "scrolled": false
   },
   "outputs": [
    {
     "data": {
      "text/html": [
       "<div>\n",
       "<style scoped>\n",
       "    .dataframe tbody tr th:only-of-type {\n",
       "        vertical-align: middle;\n",
       "    }\n",
       "\n",
       "    .dataframe tbody tr th {\n",
       "        vertical-align: top;\n",
       "    }\n",
       "\n",
       "    .dataframe thead th {\n",
       "        text-align: right;\n",
       "    }\n",
       "</style>\n",
       "<table border=\"1\" class=\"dataframe\">\n",
       "  <thead>\n",
       "    <tr style=\"text-align: right;\">\n",
       "      <th></th>\n",
       "      <th>MSE</th>\n",
       "      <th>MAE</th>\n",
       "      <th>RMSE</th>\n",
       "      <th>MAPE</th>\n",
       "      <th>R2_SCORE</th>\n",
       "    </tr>\n",
       "  </thead>\n",
       "  <tbody>\n",
       "    <tr>\n",
       "      <th>0</th>\n",
       "      <td>44891.748966</td>\n",
       "      <td>158.075613</td>\n",
       "      <td>211.876731</td>\n",
       "      <td>15.574956</td>\n",
       "      <td>0.516524</td>\n",
       "    </tr>\n",
       "  </tbody>\n",
       "</table>\n",
       "</div>"
      ],
      "text/plain": [
       "            MSE         MAE        RMSE       MAPE  R2_SCORE\n",
       "0  44891.748966  158.075613  211.876731  15.574956  0.516524"
      ]
     },
     "execution_count": 86,
     "metadata": {},
     "output_type": "execute_result"
    }
   ],
   "source": [
    "Matrix(y_test_sec,y_pred_sec)"
   ]
  },
  {
   "cell_type": "code",
   "execution_count": 163,
   "metadata": {},
   "outputs": [
    {
     "data": {
      "text/plain": [
       "0.3463796092079542"
      ]
     },
     "execution_count": 163,
     "metadata": {},
     "output_type": "execute_result"
    }
   ],
   "source": [
    "from sklearn.metrics import r2_score\n",
    "r2_score(y_test_sec,y_pred_sec)"
   ]
  },
  {
   "cell_type": "code",
   "execution_count": 43,
   "metadata": {},
   "outputs": [
    {
     "data": {
      "text/plain": [
       "0.5274779573732269"
      ]
     },
     "execution_count": 43,
     "metadata": {},
     "output_type": "execute_result"
    }
   ],
   "source": [
    "linreg.score(X_test_sec,y_test_sec)"
   ]
  },
  {
   "cell_type": "code",
   "execution_count": 148,
   "metadata": {
    "scrolled": false
   },
   "outputs": [
    {
     "data": {
      "image/png": "[encoded data removed]",
      "text/plain": [
       "<Figure size 432x288 with 1 Axes>"
      ]
     },
     "metadata": {
      "needs_background": "light"
     },
     "output_type": "display_data"
    }
   ],
   "source": [
    "plt.scatter(y_test_sec,X_test_sec,color='r')\n",
    "plt.scatter(y_pred_sec,X_test_sec,color='g')\n",
    "plt.xlabel('y_pred and test')\n",
    "plt.ylabel('Variance')\n",
    "plt.title('Cycle life Prediction curve')\n",
    "plt.show()"
   ]
  },
  {
   "cell_type": "code",
   "execution_count": 34,
   "metadata": {},
   "outputs": [
    {
     "data": {
      "text/plain": [
       "0.8254377440508697"
      ]
     },
     "execution_count": 34,
     "metadata": {},
     "output_type": "execute_result"
    }
   ],
   "source": [
    "linreg.score(X_test,y_test)"
   ]
  },
  {
   "cell_type": "code",
   "execution_count": 14,
   "metadata": {},
   "outputs": [],
   "source": [
    "from sklearn.metrics import r2_score"
   ]
  },
  {
   "cell_type": "code",
   "execution_count": 46,
   "metadata": {},
   "outputs": [
    {
     "data": {
      "text/plain": [
       "0.7981221145544868"
      ]
     },
     "execution_count": 46,
     "metadata": {},
     "output_type": "execute_result"
    }
   ],
   "source": [
    "r2_score(y_test,y_pred)#43"
   ]
  },
  {
   "cell_type": "code",
   "execution_count": 26,
   "metadata": {},
   "outputs": [],
   "source": [
    "from sklearn.linear_model import Lasso"
   ]
  },
  {
   "cell_type": "code",
   "execution_count": 27,
   "metadata": {},
   "outputs": [],
   "source": [
    "lasso_reg = Lasso(normalize=True)"
   ]
  },
  {
   "cell_type": "code",
   "execution_count": 28,
   "metadata": {},
   "outputs": [
    {
     "data": {
      "text/plain": [
       "Lasso(normalize=True)"
      ]
     },
     "execution_count": 28,
     "metadata": {},
     "output_type": "execute_result"
    }
   ],
   "source": [
    "lasso_reg.fit(X_train,y_train)"
   ]
  },
  {
   "cell_type": "code",
   "execution_count": 29,
   "metadata": {},
   "outputs": [],
   "source": [
    "y_pred_lass =lasso_reg.predict(X_test)"
   ]
  },
  {
   "cell_type": "code",
   "execution_count": 30,
   "metadata": {
    "scrolled": true
   },
   "outputs": [
    {
     "data": {
      "text/plain": [
       "array([1583.95158802, 1411.69342665, 1339.8572547 ,  753.6433307 ,\n",
       "        949.96298451,  940.02771495,  974.54549219,  672.80277106,\n",
       "        482.36764913,  936.78942361,  927.28386437,  810.54315518,\n",
       "        800.25920934,  758.86119645,  684.82068026,  755.37231733,\n",
       "        688.93872063,  574.75665837,  956.77869598,  684.82068026,\n",
       "        521.01313381,   50.12788165,  186.83849752,  640.62016461,\n",
       "        657.50908981,  450.05937388,  571.03518126,  590.13394989,\n",
       "        721.0472809 ,  608.45631476,  704.55348495,  508.80043406,\n",
       "        587.1885745 ,  642.974092  ,  562.83072179,  708.96052115,\n",
       "        614.82748708,  596.11502247,  611.62458761,  630.25538512,\n",
       "        539.5115499 ,  483.05157566,  933.58652414])"
      ]
     },
     "execution_count": 30,
     "metadata": {},
     "output_type": "execute_result"
    }
   ],
   "source": [
    "y_pred_lass"
   ]
  },
  {
   "cell_type": "code",
   "execution_count": 40,
   "metadata": {},
   "outputs": [],
   "source": [
    "def Matrix(y_test,y_pred):\n",
    "    import pandas as pd\n",
    "    from sklearn import metrics\n",
    "    x = []\n",
    "    MSE = metrics.mean_squared_error(y_test,y_pred)\n",
    "    MAE = metrics.mean_absolute_error(y_test,y_pred)\n",
    "    RMSE= np.sqrt(metrics.mean_squared_error(y_test,y_pred))\n",
    "    MAPE=np.mean(np.abs((y_test - y_pred)/y_test))*100\n",
    "    x.extend([MSE,MAE,RMSE,MAPE])\n",
    "    df = pd.DataFrame(x)\n",
    "    df1 = df.transpose()\n",
    "    df1.columns = ['MSE','MAE','RMSE','MAPE']\n",
    "    return(df1)"
   ]
  },
  {
   "cell_type": "code",
   "execution_count": 32,
   "metadata": {},
   "outputs": [],
   "source": [
    "y_pred_lasso_final = []\n",
    "for i in y_pred_lass:\n",
    "    y_pred_lasso_final.append([i])"
   ]
  },
  {
   "cell_type": "code",
   "execution_count": 33,
   "metadata": {
    "scrolled": true
   },
   "outputs": [
    {
     "data": {
      "text/html": [
       "<div>\n",
       "<style scoped>\n",
       "    .dataframe tbody tr th:only-of-type {\n",
       "        vertical-align: middle;\n",
       "    }\n",
       "\n",
       "    .dataframe tbody tr th {\n",
       "        vertical-align: top;\n",
       "    }\n",
       "\n",
       "    .dataframe thead th {\n",
       "        text-align: right;\n",
       "    }\n",
       "</style>\n",
       "<table border=\"1\" class=\"dataframe\">\n",
       "  <thead>\n",
       "    <tr style=\"text-align: right;\">\n",
       "      <th></th>\n",
       "      <th>MSE</th>\n",
       "      <th>MAE</th>\n",
       "      <th>RMSE</th>\n",
       "      <th>MAPE</th>\n",
       "    </tr>\n",
       "  </thead>\n",
       "  <tbody>\n",
       "    <tr>\n",
       "      <th>0</th>\n",
       "      <td>32285.016174</td>\n",
       "      <td>124.772802</td>\n",
       "      <td>179.680317</td>\n",
       "      <td>18.940249</td>\n",
       "    </tr>\n",
       "  </tbody>\n",
       "</table>\n",
       "</div>"
      ],
      "text/plain": [
       "            MSE         MAE        RMSE       MAPE\n",
       "0  32285.016174  124.772802  179.680317  18.940249"
      ]
     },
     "execution_count": 33,
     "metadata": {},
     "output_type": "execute_result"
    }
   ],
   "source": [
    "Matrix(y_test,y_pred_lasso_final)"
   ]
  },
  {
   "cell_type": "code",
   "execution_count": 34,
   "metadata": {},
   "outputs": [
    {
     "data": {
      "text/plain": [
       "0.7890122426231544"
      ]
     },
     "execution_count": 34,
     "metadata": {},
     "output_type": "execute_result"
    }
   ],
   "source": [
    "lasso_reg.score(X_test,y_test)"
   ]
  },
  {
   "cell_type": "code",
   "execution_count": 42,
   "metadata": {},
   "outputs": [
    {
     "data": {
      "text/plain": [
       "164.61497447835646"
      ]
     },
     "execution_count": 42,
     "metadata": {},
     "output_type": "execute_result"
    }
   ],
   "source": [
    "# Root mean squared error\n",
    "np.sqrt(metrics.mean_squared_error(y_test,y_pred_lass))"
   ]
  },
  {
   "cell_type": "code",
   "execution_count": 229,
   "metadata": {},
   "outputs": [
    {
     "data": {
      "text/html": [
       "<div>\n",
       "<style scoped>\n",
       "    .dataframe tbody tr th:only-of-type {\n",
       "        vertical-align: middle;\n",
       "    }\n",
       "\n",
       "    .dataframe tbody tr th {\n",
       "        vertical-align: top;\n",
       "    }\n",
       "\n",
       "    .dataframe thead th {\n",
       "        text-align: right;\n",
       "    }\n",
       "</style>\n",
       "<table border=\"1\" class=\"dataframe\">\n",
       "  <thead>\n",
       "    <tr style=\"text-align: right;\">\n",
       "      <th></th>\n",
       "      <th>MSE</th>\n",
       "      <th>MAE</th>\n",
       "      <th>RMSE</th>\n",
       "      <th>MAPE</th>\n",
       "    </tr>\n",
       "  </thead>\n",
       "  <tbody>\n",
       "    <tr>\n",
       "      <th>0</th>\n",
       "      <td>26711.242997</td>\n",
       "      <td>117.590365</td>\n",
       "      <td>163.435746</td>\n",
       "      <td>20.123154</td>\n",
       "    </tr>\n",
       "  </tbody>\n",
       "</table>\n",
       "</div>"
      ],
      "text/plain": [
       "            MSE         MAE        RMSE       MAPE\n",
       "0  26711.242997  117.590365  163.435746  20.123154"
      ]
     },
     "execution_count": 229,
     "metadata": {},
     "output_type": "execute_result"
    }
   ],
   "source": [
    "Matrix(y_test,y_pred)"
   ]
  },
  {
   "cell_type": "code",
   "execution_count": 86,
   "metadata": {},
   "outputs": [],
   "source": [
    "from sklearn.linear_model import ElasticNet"
   ]
  },
  {
   "cell_type": "code",
   "execution_count": 87,
   "metadata": {},
   "outputs": [
    {
     "name": "stderr",
     "output_type": "stream",
     "text": [
      "C:\\Program Files\\Anaconda3\\lib\\site-packages\\sklearn\\utils\\validation.py:73: DataConversionWarning: A column-vector y was passed when a 1d array was expected. Please change the shape of y to (n_samples, ), for example using ravel().\n",
      "  return f(**kwargs)\n"
     ]
    },
    {
     "data": {
      "text/plain": [
       "0.00010438487147241127"
      ]
     },
     "execution_count": 87,
     "metadata": {},
     "output_type": "execute_result"
    }
   ],
   "source": [
    "from sklearn.linear_model import ElasticNetCV\n",
    "\n",
    "clf = ElasticNetCV(l1_ratio=0.5)\n",
    "clf.fit(X_train,y_train)\n",
    "clf.alpha_"
   ]
  },
  {
   "cell_type": "code",
   "execution_count": 88,
   "metadata": {},
   "outputs": [],
   "source": [
    "model = ElasticNet(alpha=0.00010438487147241127, l1_ratio= 0.5)\n",
    "#model = ElasticNet(alpha=0.000010, l1_ratio= 0.550000)\n",
    "model.fit(X_train,y_train)\n",
    "y_pred_elastic =model.predict(X_test)\n",
    "y_pred_sec_elastic = model.predict(X_test_sec)"
   ]
  },
  {
   "cell_type": "code",
   "execution_count": 157,
   "metadata": {},
   "outputs": [],
   "source": [
    "from sklearn.linear_model import ElasticNet\n",
    "from sklearn.preprocessing import RobustScaler\n",
    "from sklearn.preprocessing import StandardScaler\n",
    "#Standardize data before\n",
    "# scaler = StandardScaler()\n",
    "# X_train = scaler.fit_transform(X_train)\n",
    "# X_test = scaler.fit_transform(X_test)\n",
    "# X_test_sec = scaler.fit_transform(X_test_sec)\n",
    "#model = ElasticNet(alpha=0.010000, l1_ratio= 0.760000)\n",
    "model = ElasticNet(alpha=0.00010438487147241127, l1_ratio= 0.5)\n",
    "model.fit(X_train,y_train)\n",
    "y_pred_elastic =model.predict(X_test)\n",
    "y_pred_sec_elastic = model.predict(X_test_sec)"
   ]
  },
  {
   "cell_type": "code",
   "execution_count": 158,
   "metadata": {},
   "outputs": [],
   "source": [
    "y_pred_elastic_1 = 10**y_pred_elastic\n",
    "y_pred_sec_elastic_1 = 10**y_pred_sec_elastic"
   ]
  },
  {
   "cell_type": "code",
   "execution_count": 159,
   "metadata": {},
   "outputs": [],
   "source": [
    "y_pred_elastic_final = []\n",
    "for i in y_pred_elastic_1:\n",
    "    y_pred_elastic_final.append([i])"
   ]
  },
  {
   "cell_type": "code",
   "execution_count": 160,
   "metadata": {},
   "outputs": [
    {
     "data": {
      "text/plain": [
       "42"
      ]
     },
     "execution_count": 160,
     "metadata": {},
     "output_type": "execute_result"
    }
   ],
   "source": [
    "len(y_pred_elastic)"
   ]
  },
  {
   "cell_type": "code",
   "execution_count": 161,
   "metadata": {},
   "outputs": [
    {
     "data": {
      "text/html": [
       "<div>\n",
       "<style scoped>\n",
       "    .dataframe tbody tr th:only-of-type {\n",
       "        vertical-align: middle;\n",
       "    }\n",
       "\n",
       "    .dataframe tbody tr th {\n",
       "        vertical-align: top;\n",
       "    }\n",
       "\n",
       "    .dataframe thead th {\n",
       "        text-align: right;\n",
       "    }\n",
       "</style>\n",
       "<table border=\"1\" class=\"dataframe\">\n",
       "  <thead>\n",
       "    <tr style=\"text-align: right;\">\n",
       "      <th></th>\n",
       "      <th>MSE</th>\n",
       "      <th>MAE</th>\n",
       "      <th>RMSE</th>\n",
       "      <th>MAPE</th>\n",
       "      <th>R2_SCORE</th>\n",
       "    </tr>\n",
       "  </thead>\n",
       "  <tbody>\n",
       "    <tr>\n",
       "      <th>0</th>\n",
       "      <td>26864.303182</td>\n",
       "      <td>116.001967</td>\n",
       "      <td>163.903335</td>\n",
       "      <td>14.714263</td>\n",
       "      <td>0.819681</td>\n",
       "    </tr>\n",
       "  </tbody>\n",
       "</table>\n",
       "</div>"
      ],
      "text/plain": [
       "            MSE         MAE        RMSE       MAPE  R2_SCORE\n",
       "0  26864.303182  116.001967  163.903335  14.714263  0.819681"
      ]
     },
     "execution_count": 161,
     "metadata": {},
     "output_type": "execute_result"
    }
   ],
   "source": [
    "Matrix(y_test_1,y_pred_elastic_final)"
   ]
  },
  {
   "cell_type": "code",
   "execution_count": 162,
   "metadata": {},
   "outputs": [],
   "source": [
    "y_pred_elastic_final_1 = []\n",
    "for j in y_pred_sec_elastic_1:\n",
    "    y_pred_elastic_final_1.append([j])"
   ]
  },
  {
   "cell_type": "code",
   "execution_count": 163,
   "metadata": {
    "scrolled": false
   },
   "outputs": [
    {
     "data": {
      "text/html": [
       "<div>\n",
       "<style scoped>\n",
       "    .dataframe tbody tr th:only-of-type {\n",
       "        vertical-align: middle;\n",
       "    }\n",
       "\n",
       "    .dataframe tbody tr th {\n",
       "        vertical-align: top;\n",
       "    }\n",
       "\n",
       "    .dataframe thead th {\n",
       "        text-align: right;\n",
       "    }\n",
       "</style>\n",
       "<table border=\"1\" class=\"dataframe\">\n",
       "  <thead>\n",
       "    <tr style=\"text-align: right;\">\n",
       "      <th></th>\n",
       "      <th>MSE</th>\n",
       "      <th>MAE</th>\n",
       "      <th>RMSE</th>\n",
       "      <th>MAPE</th>\n",
       "      <th>R2_SCORE</th>\n",
       "    </tr>\n",
       "  </thead>\n",
       "  <tbody>\n",
       "    <tr>\n",
       "      <th>0</th>\n",
       "      <td>180642.637799</td>\n",
       "      <td>378.752215</td>\n",
       "      <td>425.02075</td>\n",
       "      <td>36.264102</td>\n",
       "      <td>-0.945487</td>\n",
       "    </tr>\n",
       "  </tbody>\n",
       "</table>\n",
       "</div>"
      ],
      "text/plain": [
       "             MSE         MAE       RMSE       MAPE  R2_SCORE\n",
       "0  180642.637799  378.752215  425.02075  36.264102 -0.945487"
      ]
     },
     "execution_count": 163,
     "metadata": {},
     "output_type": "execute_result"
    }
   ],
   "source": [
    "Matrix(y_test_sec_1,y_pred_elastic_final_1)"
   ]
  },
  {
   "cell_type": "code",
   "execution_count": 156,
   "metadata": {},
   "outputs": [
    {
     "data": {
      "text/plain": [
       "[[1810.4122655300619],\n",
       " [1683.9602848997483],\n",
       " [1252.2238772087487],\n",
       " [628.3759366874673],\n",
       " [746.1057199912634],\n",
       " [791.9669945181846],\n",
       " [826.7691144255892],\n",
       " [574.1747440475647],\n",
       " [447.49433083243935],\n",
       " [779.5032724155046],\n",
       " [756.6354342342244],\n",
       " [660.8064351033529],\n",
       " [656.0069567283654],\n",
       " [627.0397070970638],\n",
       " [576.0962479316637],\n",
       " [621.7998748744957],\n",
       " [572.2771899831362],\n",
       " [504.2518287367891],\n",
       " [801.8262551881],\n",
       " [575.1324695654985],\n",
       " [470.42423997997656],\n",
       " [306.1371959582309],\n",
       " [540.1735595799562],\n",
       " [549.5744225433565],\n",
       " [446.01204074097103],\n",
       " [497.4103413956157],\n",
       " [611.7959909219122],\n",
       " [537.9162971006278],\n",
       " [529.9335102320238],\n",
       " [633.8304260830247],\n",
       " [525.07955065525],\n",
       " [642.3586106038623],\n",
       " [610.5875991956798],\n",
       " [585.0539896428346],\n",
       " [621.7998748744957],\n",
       " [504.2518287367891],\n",
       " [531.3517911628772],\n",
       " [515.2169520090348],\n",
       " [514.5839462200879],\n",
       " [484.20871283136165],\n",
       " [443.82288815975954],\n",
       " [805.2172566958448]]"
      ]
     },
     "execution_count": 156,
     "metadata": {},
     "output_type": "execute_result"
    }
   ],
   "source": [
    "y_pred_elastic_final"
   ]
  },
  {
   "cell_type": "code",
   "execution_count": null,
   "metadata": {},
   "outputs": [],
   "source": []
  },
  {
   "cell_type": "code",
   "execution_count": 41,
   "metadata": {},
   "outputs": [
    {
     "data": {
      "text/plain": [
       "0.6709247137396337"
      ]
     },
     "execution_count": 41,
     "metadata": {},
     "output_type": "execute_result"
    }
   ],
   "source": [
    "model.score(X_test,y_test)"
   ]
  },
  {
   "cell_type": "code",
   "execution_count": 487,
   "metadata": {},
   "outputs": [],
   "source": [
    "y_pred = linreg.predict(X_test)"
   ]
  },
  {
   "cell_type": "code",
   "execution_count": 500,
   "metadata": {},
   "outputs": [
    {
     "data": {
      "text/plain": [
       "-7.034231765245025"
      ]
     },
     "execution_count": 500,
     "metadata": {},
     "output_type": "execute_result"
    }
   ],
   "source": [
    "np.mean(np.abs((y_test - y_pred_elastic_final)/y_test))*100"
   ]
  },
  {
   "cell_type": "code",
   "execution_count": 548,
   "metadata": {},
   "outputs": [
    {
     "data": {
      "text/html": [
       "<div>\n",
       "<style scoped>\n",
       "    .dataframe tbody tr th:only-of-type {\n",
       "        vertical-align: middle;\n",
       "    }\n",
       "\n",
       "    .dataframe tbody tr th {\n",
       "        vertical-align: top;\n",
       "    }\n",
       "\n",
       "    .dataframe thead th {\n",
       "        text-align: right;\n",
       "    }\n",
       "</style>\n",
       "<table border=\"1\" class=\"dataframe\">\n",
       "  <thead>\n",
       "    <tr style=\"text-align: right;\">\n",
       "      <th></th>\n",
       "      <th>MSE</th>\n",
       "      <th>MAE</th>\n",
       "      <th>RMSE</th>\n",
       "      <th>MAPE</th>\n",
       "    </tr>\n",
       "  </thead>\n",
       "  <tbody>\n",
       "    <tr>\n",
       "      <th>0</th>\n",
       "      <td>26920.193542</td>\n",
       "      <td>117.956065</td>\n",
       "      <td>164.073744</td>\n",
       "      <td>20.042486</td>\n",
       "    </tr>\n",
       "  </tbody>\n",
       "</table>\n",
       "</div>"
      ],
      "text/plain": [
       "            MSE         MAE        RMSE       MAPE\n",
       "0  26920.193542  117.956065  164.073744  20.042486"
      ]
     },
     "execution_count": 548,
     "metadata": {},
     "output_type": "execute_result"
    }
   ],
   "source": [
    "Matrix(y_test,y_pred_elastic_final)"
   ]
  },
  {
   "cell_type": "code",
   "execution_count": 231,
   "metadata": {},
   "outputs": [],
   "source": [
    "def MAPE(y_test,y_pred):\n",
    "    mape = np.mean(np.abs((y_test - y_pred)/y_test))*100\n",
    "    return mape"
   ]
  },
  {
   "cell_type": "code",
   "execution_count": 232,
   "metadata": {
    "scrolled": true
   },
   "outputs": [
    {
     "data": {
      "text/plain": [
       "57.19223384073685"
      ]
     },
     "execution_count": 232,
     "metadata": {},
     "output_type": "execute_result"
    }
   ],
   "source": [
    "MAPE(y_test,y_pred_elastic)"
   ]
  },
  {
   "cell_type": "code",
   "execution_count": 290,
   "metadata": {},
   "outputs": [
    {
     "data": {
      "text/html": [
       "<div>\n",
       "<style scoped>\n",
       "    .dataframe tbody tr th:only-of-type {\n",
       "        vertical-align: middle;\n",
       "    }\n",
       "\n",
       "    .dataframe tbody tr th {\n",
       "        vertical-align: top;\n",
       "    }\n",
       "\n",
       "    .dataframe thead th {\n",
       "        text-align: right;\n",
       "    }\n",
       "</style>\n",
       "<table border=\"1\" class=\"dataframe\">\n",
       "  <thead>\n",
       "    <tr style=\"text-align: right;\">\n",
       "      <th></th>\n",
       "      <th>MSE</th>\n",
       "      <th>MAE</th>\n",
       "      <th>RMSE</th>\n",
       "      <th>MAPE</th>\n",
       "    </tr>\n",
       "  </thead>\n",
       "  <tbody>\n",
       "    <tr>\n",
       "      <th>0</th>\n",
       "      <td>28209.745096</td>\n",
       "      <td>119.828387</td>\n",
       "      <td>167.957569</td>\n",
       "      <td>19.629482</td>\n",
       "    </tr>\n",
       "  </tbody>\n",
       "</table>\n",
       "</div>"
      ],
      "text/plain": [
       "            MSE         MAE        RMSE       MAPE\n",
       "0  28209.745096  119.828387  167.957569  19.629482"
      ]
     },
     "execution_count": 290,
     "metadata": {},
     "output_type": "execute_result"
    }
   ],
   "source": [
    "Matrix(y_test,y_pred_elastic_final)"
   ]
  },
  {
   "cell_type": "code",
   "execution_count": null,
   "metadata": {},
   "outputs": [],
   "source": []
  }
 ],
 "metadata": {
  "kernelspec": {
   "display_name": "Python 3",
   "language": "python",
   "name": "python3"
  },
  "language_info": {
   "codemirror_mode": {
    "name": "ipython",
    "version": 3
   },
   "file_extension": ".py",
   "mimetype": "text/x-python",
   "name": "python",
   "nbconvert_exporter": "python",
   "pygments_lexer": "ipython3",
   "version": "3.8.3"
  }
 },
 "nbformat": 4,
 "nbformat_minor": 4
}
